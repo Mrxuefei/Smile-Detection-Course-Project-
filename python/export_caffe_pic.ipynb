{
 "metadata": {
  "name": "",
  "signature": "sha256:a01cc84270bbc4705d7fe269e9a234f5663bac2b476bd4d3a2b3d6b1714a2730"
 },
 "nbformat": 3,
 "nbformat_minor": 0,
 "worksheets": [
  {
   "cells": [
    {
     "cell_type": "code",
     "collapsed": false,
     "input": [
      "%matplotlib inline\n",
      "from smile import load_smile_data\n",
      "import time\n",
      "from sklearn import svm, metrics\n",
      "import numpy as np\n",
      "import matplotlib.cm as cm\n",
      "import matplotlib.pyplot as plt\n",
      "import matplotlib.image as mpimg\n",
      "import cv2\n",
      "\n",
      "(data_x, data_y) = load_smile_data()"
     ],
     "language": "python",
     "metadata": {},
     "outputs": [
      {
       "output_type": "stream",
       "stream": "stdout",
       "text": [
        "loading data...\n",
        "--- Load data in 68.1085190773 seconds ---"
       ]
      },
      {
       "output_type": "stream",
       "stream": "stdout",
       "text": [
        "\n",
        "data size is :  24189\n",
        "Positive labels:  8989\n",
        "Negtive labels:  15200\n"
       ]
      }
     ],
     "prompt_number": 1
    },
    {
     "cell_type": "code",
     "collapsed": false,
     "input": [
      "from gabor_classifier import *"
     ],
     "language": "python",
     "metadata": {},
     "outputs": [],
     "prompt_number": 18
    },
    {
     "cell_type": "code",
     "collapsed": false,
     "input": [
      "x, y = filter_by_frontal_faces(data_x, data_y, 48)\n"
     ],
     "language": "python",
     "metadata": {},
     "outputs": [
      {
       "output_type": "stream",
       "stream": "stdout",
       "text": [
        "data size is :  4456\n",
        "Positive labels:  2611\n",
        "Negtive labels:  1845\n"
       ]
      }
     ],
     "prompt_number": 19
    },
    {
     "cell_type": "code",
     "collapsed": false,
     "input": [
      "import cPickle as pickle\n",
      "\n",
      "print \"loading data...\"\n",
      "start_time = time.time()\n",
      "x = pickle.load(open( \"x.p\", \"rb\"))\n",
      "y = pickle.load(open( \"y.p\", \"rb\"))\n",
      "x = x.astype(\"uint8\")\n",
      "y = y.astype(\"uint8\")\n",
      "print \"--- Load data in %s seconds ---\" % (time.time() - start_time)\n",
      "print \"data size is : \", x.shape[0]\n",
      "print \"Positive labels: \", np.count_nonzero(y)\n",
      "print \"Negtive labels: \", (x.shape[0] - np.count_nonzero(y))"
     ],
     "language": "python",
     "metadata": {},
     "outputs": [
      {
       "output_type": "stream",
       "stream": "stdout",
       "text": [
        "loading data...\n",
        "--- Load data in 14.9143218994 seconds ---"
       ]
      },
      {
       "output_type": "stream",
       "stream": "stdout",
       "text": [
        "\n",
        "data size is :  5330\n",
        "Positive labels:  2611\n",
        "Negtive labels:  2719\n"
       ]
      }
     ],
     "prompt_number": 2
    },
    {
     "cell_type": "code",
     "collapsed": false,
     "input": [
      "f = open(\"/home/datamining/smile/train.txt\",'wb+')\n",
      "t = open(\"/home/datamining/smile/val.txt\", \"wb+\")\n",
      "y = y.astype('uint8')\n",
      "y = y.reshape(-1)\n",
      "for i in range(x.shape[0]):\n",
      "#     print i\n",
      "    img = x[i].reshape(48, 48)\n",
      "    img = np.array(img)\n",
      "    train_num = int(0.8 *x.shape[0])\n",
      "#     print train_num\n",
      "#     img = img.reshape(48, 48)\n",
      "#     if data['Usage'][i]=='Training':\n",
      "    if i < train_num:\n",
      "        mpimg.imsave(\"/home/datamining/smile/data/\"+str(i)+\".png\", img, cmap=plt.cm.gray)\n",
      "        f.write(\"/home/datamining/smile/data/\"+str(i)+\".png \" + str(y[i]) + '\\n')\n",
      "    else:\n",
      "        mpimg.imsave(\"/home/datamining/smile/test/\"+str(i)+\".png\", img, cmap=plt.cm.gray)\n",
      "        t.write(\"/home/datamining/smile/test/\"+str(i)+\".png \" + str(y[i]) + '\\n')\n",
      "t.close()\n",
      "f.close()"
     ],
     "language": "python",
     "metadata": {},
     "outputs": [],
     "prompt_number": 4
    },
    {
     "cell_type": "code",
     "collapsed": false,
     "input": [],
     "language": "python",
     "metadata": {},
     "outputs": []
    }
   ],
   "metadata": {}
  }
 ]
}