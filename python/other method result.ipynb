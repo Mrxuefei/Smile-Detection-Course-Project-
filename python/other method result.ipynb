{
 "metadata": {
  "name": "",
  "signature": "sha256:a9eae43c68d3e55bf9f24d109269cf325281fe2569dcfc870a6e2b99ab8110bd"
 },
 "nbformat": 3,
 "nbformat_minor": 0,
 "worksheets": [
  {
   "cells": [
    {
     "cell_type": "code",
     "collapsed": false,
     "input": [
      "%matplotlib inline\n",
      "from smile import load_smile_data\n",
      "import time\n",
      "from sklearn import svm, metrics\n",
      "import numpy as np\n",
      "import matplotlib.cm as cm\n",
      "import matplotlib.pyplot as plt\n",
      "import matplotlib.image as mpimg\n",
      "import scipy\n",
      "from sklearn.cluster import KMeans"
     ],
     "language": "python",
     "metadata": {},
     "outputs": [],
     "prompt_number": 1
    },
    {
     "cell_type": "code",
     "collapsed": false,
     "input": [
      "(x, y) = load_smile_data()"
     ],
     "language": "python",
     "metadata": {},
     "outputs": [
      {
       "output_type": "stream",
       "stream": "stdout",
       "text": [
        "loading data...\n",
        "--- Load data in 73.542771101 seconds ---"
       ]
      },
      {
       "output_type": "stream",
       "stream": "stdout",
       "text": [
        "\n",
        "data size is :  24189\n",
        "Positive labels:  8989\n",
        "Negtive labels:  15200\n"
       ]
      }
     ],
     "prompt_number": 2
    },
    {
     "cell_type": "code",
     "collapsed": false,
     "input": [
      "import cPickle as pickle\n",
      "\n",
      "print \"loading data...\"\n",
      "start_time = time.time()\n",
      "x = pickle.load(open( \"x.p\", \"rb\"))\n",
      "y = pickle.load(open( \"y.p\", \"rb\"))\n",
      "x = x.astype(\"uint8\")\n",
      "y = y.astype(\"uint8\")\n",
      "print \"--- Load data in %s seconds ---\" % (time.time() - start_time)\n",
      "print \"data size is : \", x.shape[0]\n",
      "print \"Positive labels: \", np.count_nonzero(y)\n",
      "print \"Negtive labels: \", (x.shape[0] - np.count_nonzero(y))"
     ],
     "language": "python",
     "metadata": {},
     "outputs": [
      {
       "output_type": "stream",
       "stream": "stdout",
       "text": [
        "loading data...\n",
        "--- Load data in 16.1886429787 seconds ---"
       ]
      },
      {
       "output_type": "stream",
       "stream": "stdout",
       "text": [
        "\n",
        "data size is :  5330\n",
        "Positive labels:  2611\n",
        "Negtive labels:  2719\n"
       ]
      }
     ],
     "prompt_number": 4
    },
    {
     "cell_type": "code",
     "collapsed": false,
     "input": [
      "import cv2\n",
      "bin_n = 16\n",
      "def hog(img):\n",
      "#     print img.shape\n",
      "    img = img.astype('f4')\n",
      "    gx = cv2.Sobel(img, cv2.CV_32F, 1, 0)\n",
      "    gy = cv2.Sobel(img, cv2.CV_32F, 0, 1)\n",
      "    mag, ang = cv2.cartToPolar(gx, gy)\n",
      "    \n",
      "#     print gx.shape, gy.shape\n",
      "#     print mag.shape, ang.shape\n",
      "    # quantizing binvalues in (0...16)\n",
      "    bins = np.int32(bin_n*ang/(2*np.pi))\n",
      "\n",
      "    # Divide to 4 sub-squares\n",
      "#     bin_cells = bins[:10,:10], bins[10:,:10], bins[:10,10:], bins[10:,10:]\n",
      "#     mag_cells = mag[:10,:10], mag[10:,:10], mag[:10,10:], mag[10:,10:]\n",
      "    bin_cells = bins[:16,:16], bins[16:32, :16], bins[32:, :16],\\\n",
      "                bins[:16,16:32], bins[16:32, 16:32], bins[32:, 16:32],\\\n",
      "                bins[:16,32:], bins[16:32, 32:], bins[32:, 32:]\n",
      "    \n",
      "    mag_cells = mag[:16,:16], mag[16:32, :16], mag[32:, :16],\\\n",
      "                mag[:16,16:32], mag[16:32, 16:32], mag[32:, 16:32],\\\n",
      "                mag[:16,32:], mag[16:32, 32:], mag[32:, 32:]        \n",
      "    hists = [np.bincount(b.ravel(), m.ravel(), bin_n) for b, m in zip(bin_cells, mag_cells)]\n",
      "    hist = np.hstack(hists)\n",
      "    return hist"
     ],
     "language": "python",
     "metadata": {},
     "outputs": [],
     "prompt_number": 5
    },
    {
     "cell_type": "code",
     "collapsed": false,
     "input": [
      "xx = np.ndarray((x.shape[0], 144))\n",
      "\n",
      "for i in range(x.shape[0]):\n",
      "    img = x[i].reshape(48, 48)\n",
      "    tmp = hog(img)\n",
      "    xx[i] = tmp.reshape(-1)\n",
      "    for t in tmp:\n",
      "        if np.isnan(t):\n",
      "            print \"is a ana\"\n",
      "        if np.isinf(t):\n",
      "            print \"is inf\"\n",
      "        a = int(t)"
     ],
     "language": "python",
     "metadata": {},
     "outputs": [],
     "prompt_number": 6
    },
    {
     "cell_type": "code",
     "collapsed": false,
     "input": [
      "tst_num = int(0.2 * x.shape[0])\n",
      "\n",
      "train_data_x       = xx[:-tst_num]\n",
      "train_data_y       = y[:-tst_num].reshape(-1)\n",
      "validation_data_x  = xx[-tst_num:]\n",
      "validation_data_y  = y[-tst_num:].reshape(-1)\n",
      "\n",
      "print xx.shape"
     ],
     "language": "python",
     "metadata": {},
     "outputs": [
      {
       "output_type": "stream",
       "stream": "stdout",
       "text": [
        "(5330, 144)\n"
       ]
      }
     ],
     "prompt_number": 9
    },
    {
     "cell_type": "code",
     "collapsed": false,
     "input": [
      "start_time = time.time()\n",
      "# clf= svm.SVC(kernel='linear')\n",
      "clf= svm.LinearSVC(C=10)\n",
      "clf.fit(train_data_x, train_data_y)\n",
      "pred = clf.predict(validation_data_x)\n",
      "print \"--- %s seconds ---\" % (time.time() - start_time)"
     ],
     "language": "python",
     "metadata": {},
     "outputs": [
      {
       "output_type": "stream",
       "stream": "stdout",
       "text": [
        "--- 2.45301485062 seconds ---\n"
       ]
      }
     ],
     "prompt_number": 8
    },
    {
     "cell_type": "code",
     "collapsed": false,
     "input": [
      "from feature_representation import *\n",
      "print_result(pred, validation_data_y)"
     ],
     "language": "python",
     "metadata": {},
     "outputs": [
      {
       "output_type": "stream",
       "stream": "stdout",
       "text": [
        "true_positive:    359\n",
        "true_negtive:     425\n",
        "false_positive:   119\n",
        "false_negtive:    163\n",
        "total:            1066\n",
        "Error Rate        26.5\n",
        "Acuracy:          73.5\n"
       ]
      },
      {
       "metadata": {},
       "output_type": "pyout",
       "prompt_number": 11,
       "text": [
        "0.7354596622889306"
       ]
      }
     ],
     "prompt_number": 11
    },
    {
     "cell_type": "code",
     "collapsed": false,
     "input": [
      "from sklearn.decomposition import PCA\n",
      "\n",
      "def get_pca(mydata):\n",
      "    r=np.ndarray((mydata.shape[0], 20*48) )\n",
      "    pca = PCA(n_components=20)\n",
      "    for i in range(mydata.shape[0]):\n",
      "        img = mydata[i]\n",
      "        results = pca.fit_transform(img.reshape(48,48))\n",
      "        r[i] = results.reshape(1, results.shape[0]*results.shape[1])\n",
      "#         r[i] = results.components_.reshape(1,results.components_.shape[0]*results.components_.shape[1])\n",
      "    return r"
     ],
     "language": "python",
     "metadata": {},
     "outputs": [],
     "prompt_number": 14
    },
    {
     "cell_type": "code",
     "collapsed": false,
     "input": [
      "xx = get_pca(x)"
     ],
     "language": "python",
     "metadata": {},
     "outputs": [],
     "prompt_number": 15
    },
    {
     "cell_type": "code",
     "collapsed": false,
     "input": [
      "tst_num = int(0.2 * x.shape[0])\n",
      "\n",
      "train_data_x       = xx[:-tst_num]\n",
      "train_data_y       = y[:-tst_num].reshape(-1)\n",
      "validation_data_x  = xx[-tst_num:]\n",
      "validation_data_y  = y[-tst_num:].reshape(-1)\n",
      "\n",
      "print xx.shape"
     ],
     "language": "python",
     "metadata": {},
     "outputs": [
      {
       "output_type": "stream",
       "stream": "stdout",
       "text": [
        "(5330, 960)\n"
       ]
      }
     ],
     "prompt_number": 16
    },
    {
     "cell_type": "code",
     "collapsed": false,
     "input": [
      "start_time = time.time()\n",
      "# clf= svm.SVC(kernel='linear')\n",
      "clf= svm.LinearSVC(C=10)\n",
      "clf.fit(train_data_x, train_data_y)\n",
      "pred = clf.predict(validation_data_x)\n",
      "print \"--- %s seconds ---\" % (time.time() - start_time)"
     ],
     "language": "python",
     "metadata": {},
     "outputs": [
      {
       "output_type": "stream",
       "stream": "stdout",
       "text": [
        "--- 15.1743960381 seconds ---\n"
       ]
      }
     ],
     "prompt_number": 17
    },
    {
     "cell_type": "code",
     "collapsed": false,
     "input": [
      "print_result(pred, validation_data_y)"
     ],
     "language": "python",
     "metadata": {},
     "outputs": [
      {
       "output_type": "stream",
       "stream": "stdout",
       "text": [
        "true_positive:    222\n",
        "true_negtive:     336\n",
        "false_positive:   208\n",
        "false_negtive:    300\n",
        "total:            1066\n",
        "Error Rate        47.7\n",
        "Acuracy:          52.3\n"
       ]
      },
      {
       "metadata": {},
       "output_type": "pyout",
       "prompt_number": 18,
       "text": [
        "0.5234521575984991"
       ]
      }
     ],
     "prompt_number": 18
    },
    {
     "cell_type": "code",
     "collapsed": false,
     "input": [
      "def get_mouth_area(x):\n",
      "    imgs = np.ndarray((x.shape[0],14*24))\n",
      "    for i in range(x.shape[0]):\n",
      "        img = x[i].reshape(48, 48)\n",
      "        img = img[32:46, 12:36]\n",
      "        imgs[i] = img.reshape(-1)\n",
      "    return imgs\n"
     ],
     "language": "python",
     "metadata": {},
     "outputs": [],
     "prompt_number": 19
    },
    {
     "cell_type": "code",
     "collapsed": false,
     "input": [
      "xx = get_mouth_area(x)"
     ],
     "language": "python",
     "metadata": {},
     "outputs": [],
     "prompt_number": 20
    },
    {
     "cell_type": "code",
     "collapsed": false,
     "input": [
      "tst_num = int(0.2 * x.shape[0])\n",
      "\n",
      "train_data_x       = xx[:-tst_num]\n",
      "train_data_y       = y[:-tst_num].reshape(-1)\n",
      "validation_data_x  = xx[-tst_num:]\n",
      "validation_data_y  = y[-tst_num:].reshape(-1)\n",
      "\n",
      "print xx.shape"
     ],
     "language": "python",
     "metadata": {},
     "outputs": [
      {
       "output_type": "stream",
       "stream": "stdout",
       "text": [
        "(5330, 336)\n"
       ]
      }
     ],
     "prompt_number": 21
    },
    {
     "cell_type": "code",
     "collapsed": false,
     "input": [
      "start_time = time.time()\n",
      "# clf= svm.SVC(kernel='linear')\n",
      "clf= svm.LinearSVC(C=10)\n",
      "clf.fit(train_data_x, train_data_y)\n",
      "pred = clf.predict(validation_data_x)\n",
      "print \"--- %s seconds ---\" % (time.time() - start_time)"
     ],
     "language": "python",
     "metadata": {},
     "outputs": [
      {
       "output_type": "stream",
       "stream": "stdout",
       "text": [
        "--- 5.59921503067 seconds ---\n"
       ]
      }
     ],
     "prompt_number": 22
    },
    {
     "cell_type": "code",
     "collapsed": false,
     "input": [
      "print_result(pred, validation_data_y)"
     ],
     "language": "python",
     "metadata": {},
     "outputs": [
      {
       "output_type": "stream",
       "stream": "stdout",
       "text": [
        "true_positive:    364\n",
        "true_negtive:     424\n",
        "false_positive:   120\n",
        "false_negtive:    158\n",
        "total:            1066\n",
        "Error Rate        26.1\n",
        "Acuracy:          73.9\n"
       ]
      },
      {
       "metadata": {},
       "output_type": "pyout",
       "prompt_number": 23,
       "text": [
        "0.7392120075046904"
       ]
      }
     ],
     "prompt_number": 23
    },
    {
     "cell_type": "code",
     "collapsed": false,
     "input": [
      "from sklearn.cluster import KMeans\n",
      "start_time = time.time()\n",
      "k = KMeans(init='k-means++', n_clusters=100, n_init=10)\n",
      "k.fit(x)\n",
      "print \"--- %s seconds ---\" % (time.time() - start_time)"
     ],
     "language": "python",
     "metadata": {},
     "outputs": [
      {
       "output_type": "stream",
       "stream": "stdout",
       "text": [
        "--- 170.803965092 seconds ---\n"
       ]
      }
     ],
     "prompt_number": 24
    },
    {
     "cell_type": "code",
     "collapsed": false,
     "input": [
      "centroids = k.cluster_centers_\n",
      "# centroids = kmeans_mouth.cluster_centers_\n",
      "print centroids.shape\n",
      "# print centroids\n",
      "# dist = np.linalg.norm(mouth_x[0]-centroids)"
     ],
     "language": "python",
     "metadata": {},
     "outputs": [
      {
       "output_type": "stream",
       "stream": "stdout",
       "text": [
        "(100, 2304)\n"
       ]
      }
     ],
     "prompt_number": 27
    },
    {
     "cell_type": "code",
     "collapsed": false,
     "input": [
      "xx = np.ndarray((x.shape[0], centroids.shape[0]))\n",
      "for i in range (x.shape[0]):\n",
      "    for j in range (centroids.shape[0]):\n",
      "        xx[i][j] = np.linalg.norm(x[i]-centroids[j])"
     ],
     "language": "python",
     "metadata": {},
     "outputs": [],
     "prompt_number": 28
    },
    {
     "cell_type": "code",
     "collapsed": false,
     "input": [
      "tst_num = int(0.2 * x.shape[0])\n",
      "\n",
      "train_data_x       = xx[:-tst_num]\n",
      "train_data_y       = y[:-tst_num].reshape(-1)\n",
      "validation_data_x  = xx[-tst_num:]\n",
      "validation_data_y  = y[-tst_num:].reshape(-1)\n",
      "\n",
      "print xx.shape"
     ],
     "language": "python",
     "metadata": {},
     "outputs": [
      {
       "output_type": "stream",
       "stream": "stdout",
       "text": [
        "(5330, 100)\n"
       ]
      }
     ],
     "prompt_number": 29
    },
    {
     "cell_type": "code",
     "collapsed": false,
     "input": [
      "start_time = time.time()\n",
      "# clf= svm.SVC(kernel='linear')\n",
      "clf= svm.LinearSVC(C=10)\n",
      "clf.fit(train_data_x, train_data_y)\n",
      "pred = clf.predict(validation_data_x)\n",
      "print \"--- %s seconds ---\" % (time.time() - start_time)\n",
      "print_result(pred, validation_data_y)"
     ],
     "language": "python",
     "metadata": {},
     "outputs": [
      {
       "output_type": "stream",
       "stream": "stdout",
       "text": [
        "--- 1.83563804626 seconds ---\n",
        "true_positive:    463\n",
        "true_negtive:     292\n",
        "false_positive:   252\n",
        "false_negtive:    59\n",
        "total:            1066\n",
        "Error Rate        29.2\n",
        "Acuracy:          70.8\n"
       ]
      },
      {
       "metadata": {},
       "output_type": "pyout",
       "prompt_number": 30,
       "text": [
        "0.7082551594746717"
       ]
      }
     ],
     "prompt_number": 30
    },
    {
     "cell_type": "code",
     "collapsed": false,
     "input": [
      "num_of_key_points = 15\n",
      "\n",
      "sift = cv2.SIFT(num_of_key_points)\n",
      "k = 0\n",
      "s = np.ndarray((x.shape[0], num_of_key_points*128))\n",
      "for i in range(x.shape[0]):\n",
      "    img = x[i]\n",
      "    img = img.reshape(48, 48)\n",
      "    kp, des = sift.detectAndCompute(img,None)\n",
      "    des = des.reshape(-1)\n",
      "    if len(des)<num_of_key_points*128:\n",
      "        remain= num_of_key_points*128 - len(des)\n",
      "#         print remain\n",
      "        r = [0]*remain\n",
      "        des = np.append(des, r)\n",
      "    else:\n",
      "        des = des[:num_of_key_points*128]\n",
      "    s[i] =des\n",
      "#     print des.shape[0]\n",
      "    if k<des.shape[0]:\n",
      "        k = des.shape[0]\n",
      "\n",
      "print k"
     ],
     "language": "python",
     "metadata": {},
     "outputs": [
      {
       "output_type": "stream",
       "stream": "stdout",
       "text": [
        "1920\n"
       ]
      }
     ],
     "prompt_number": 49
    },
    {
     "cell_type": "code",
     "collapsed": false,
     "input": [
      "tst_num = int(0.2 * x.shape[0])\n",
      "\n",
      "train_data_x       = s[:-tst_num]\n",
      "train_data_y       = y[:-tst_num].reshape(-1)\n",
      "validation_data_x  = s[-tst_num:]\n",
      "validation_data_y  = y[-tst_num:].reshape(-1)\n",
      "\n",
      "print s.shape"
     ],
     "language": "python",
     "metadata": {},
     "outputs": [
      {
       "output_type": "stream",
       "stream": "stdout",
       "text": [
        "(5330, 1920)\n"
       ]
      }
     ],
     "prompt_number": 51
    },
    {
     "cell_type": "code",
     "collapsed": false,
     "input": [
      "start_time = time.time()\n",
      "# clf= svm.SVC(kernel='linear')\n",
      "clf= svm.LinearSVC(C=10)\n",
      "clf.fit(train_data_x, train_data_y)\n",
      "pred = clf.predict(validation_data_x)\n",
      "print \"--- %s seconds ---\" % (time.time() - start_time)\n",
      "print_result(pred, validation_data_y)"
     ],
     "language": "python",
     "metadata": {},
     "outputs": [
      {
       "output_type": "stream",
       "stream": "stdout",
       "text": [
        "--- 14.6178469658 seconds ---\n",
        "true_positive:    308\n",
        "true_negtive:     351\n",
        "false_positive:   193\n",
        "false_negtive:    214\n",
        "total:            1066\n",
        "Error Rate        38.2\n",
        "Acuracy:          61.8\n"
       ]
      },
      {
       "metadata": {},
       "output_type": "pyout",
       "prompt_number": 52,
       "text": [
        "0.6181988742964353"
       ]
      }
     ],
     "prompt_number": 52
    },
    {
     "cell_type": "code",
     "collapsed": false,
     "input": [],
     "language": "python",
     "metadata": {},
     "outputs": []
    }
   ],
   "metadata": {}
  }
 ]
}