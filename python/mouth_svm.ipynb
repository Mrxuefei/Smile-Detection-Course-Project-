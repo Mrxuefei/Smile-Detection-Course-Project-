{
 "metadata": {
  "name": "",
  "signature": "sha256:ec1dd4cd1dd1e3eeae63c3a0a0193a56da30fa716287cc84428003c43d0b25d2"
 },
 "nbformat": 3,
 "nbformat_minor": 0,
 "worksheets": [
  {
   "cells": [
    {
     "cell_type": "code",
     "collapsed": false,
     "input": [
      "import time\n",
      "import pandas as pd\n",
      "from sklearn import svm, metrics\n",
      "from sklearn.decomposition import PCA\n",
      "import collections\n",
      "import numpy as np\n",
      "import matplotlib.cm as cm\n",
      "import matplotlib.pyplot as plt\n",
      "import matplotlib.image as mpimg"
     ],
     "language": "python",
     "metadata": {},
     "outputs": [],
     "prompt_number": 1
    },
    {
     "cell_type": "code",
     "collapsed": false,
     "input": [
      "data = pd.read_csv('../fer2013.csv')\n",
      "print data.shape\n",
      "\n",
      "for i in range(data.shape[0]):\n",
      "    if data['emotion'][i] == 3:\n",
      "        data['emotion'][i] = 1\n",
      "    else:\n",
      "        data['emotion'][i] = 0\n",
      "    img = data['pixels'][i].split()\n",
      "    img = map(int, img)\n",
      "    img = np.array(img)\n",
      "    data['pixels'][i] = img.reshape(48, 48)"
     ],
     "language": "python",
     "metadata": {},
     "outputs": [
      {
       "output_type": "stream",
       "stream": "stdout",
       "text": [
        "(35887, 3)\n"
       ]
      }
     ],
     "prompt_number": 2
    },
    {
     "cell_type": "code",
     "collapsed": false,
     "input": [
      "imgs = np.ndarray((data.shape[0],14*24))\n",
      "y = np.ndarray((data.shape[0],1))\n",
      "for i in range(data.shape[0]):\n",
      "    img = data['pixels'][i]\n",
      "    img = img[32:46, 12:36]\n",
      "    imgs[i] = img.reshape(-1)\n",
      "    y[i] = data['emotion'][i]\n",
      "\n",
      "print imgs.shape\n",
      "# print y.shape"
     ],
     "language": "python",
     "metadata": {},
     "outputs": [
      {
       "output_type": "stream",
       "stream": "stdout",
       "text": [
        "(35887, 336)\n"
       ]
      }
     ],
     "prompt_number": 21
    },
    {
     "cell_type": "code",
     "collapsed": false,
     "input": [
      "train_data_x       = imgs[:30000]\n",
      "train_data_y       = y[:30000].reshape(-1)\n",
      "validation_data_x  = imgs[-5000:]\n",
      "validation_data_y  = y[-5000:].reshape(-1)\n",
      "\n",
      "\n",
      "print train_data_x.shape\n",
      "print train_data_y.shape\n",
      "print validation_data_x.shape\n",
      "print validation_data_y.shape\n",
      "print np.count_nonzero(y.reshape(-1))\n",
      "print y.shape"
     ],
     "language": "python",
     "metadata": {},
     "outputs": [
      {
       "output_type": "stream",
       "stream": "stdout",
       "text": [
        "(30000, 336)\n",
        "(30000,)\n",
        "(5000, 336)\n",
        "(5000,)\n",
        "8989\n",
        "(35887, 1)\n"
       ]
      }
     ],
     "prompt_number": 32
    },
    {
     "cell_type": "code",
     "collapsed": false,
     "input": [
      "start_time = time.time()\n",
      "clf= svm.SVC()\n",
      "clf.fit(train_data_x, train_data_y)\n",
      "print \"--- %s seconds ---\" % (time.time() - start_time)"
     ],
     "language": "python",
     "metadata": {},
     "outputs": [
      {
       "output_type": "stream",
       "stream": "stdout",
       "text": [
        "--- 1666.49132895 seconds ---\n"
       ]
      }
     ],
     "prompt_number": 23
    },
    {
     "cell_type": "code",
     "collapsed": false,
     "input": [
      "pred = clf.predict(validation_data_x)"
     ],
     "language": "python",
     "metadata": {},
     "outputs": [],
     "prompt_number": 28
    },
    {
     "cell_type": "code",
     "collapsed": false,
     "input": [
      "true_positive  = np.count_nonzero(np.logical_and(pred, validation_data_y))\n",
      "true_negtive   = np.count_nonzero(np.logical_and((pred==0),(validation_data_y==0)))\n",
      "false_positive = np.count_nonzero(np.logical_and((pred==1),(validation_data_y==0)))\n",
      "false_negtive  = np.count_nonzero(np.logical_and((pred==0),(validation_data_y==1)))\n",
      "\n",
      "# print \"true_positive: \", true_positive\n",
      "# print \"true_negtive: \", true_negtive\n",
      "# print \"false_positive: \", false_positive\n",
      "# print \"false_negtive: \", false_negtive\n",
      "# recall = TP / (TP + FN)\n",
      "# precision = TP / (TP + FP)\n",
      "\n",
      "# The recall addresses the question: \n",
      "#     \"Given a positive example, will the classifier detect it ?\"\n",
      "# The precision addresses the question: \n",
      "#     \"Given a positive prediction from the classifier, how likely is it to be correct ?\"\n",
      "\n",
      "recall = float(true_positive)/(true_positive+false_negtive)\n",
      "precision = float(true_positive)/(true_positive+false_positive)\n",
      "f1 = recall*precision/(recall+precision)\n",
      "error_rate = float(false_negtive + false_positive)/((true_positive)+(true_negtive)+(false_positive)+(false_negtive))\n",
      "\n",
      "\n",
      "print \"Num of test data:\", validation_data_y.shape[0]\n",
      "print \"true_positive:    %s\"%(true_positive)\n",
      "print \"true_negtive:     %s\"%(true_negtive)\n",
      "print \"false_positive:   %s\"%(false_positive)\n",
      "print \"false_negtive:    %s\"%(false_negtive)\n",
      "print \"total:            %s\"%((true_positive)+(true_negtive)+(false_positive)+(false_negtive))\n",
      "print \"recall:           %s\"%recall\n",
      "print \"precision:        %s\"%precision\n",
      "print \"Error Rate        %s\"%error_rate\n",
      "print \"Acuracy:          %s\"%(1-error_rate)"
     ],
     "language": "python",
     "metadata": {},
     "outputs": [
      {
       "output_type": "stream",
       "stream": "stdout",
       "text": [
        "Num of test data: 5000\n",
        "true_positive:    39\n",
        "true_negtive:     3759\n",
        "false_positive:   1\n",
        "false_negtive:    1201\n",
        "total:            5000\n",
        "recall:           0.0314516129032\n",
        "precision:        0.975\n",
        "Error Rate        0.2404\n",
        "Acuracy:          0.7596\n"
       ]
      }
     ],
     "prompt_number": 29
    },
    {
     "cell_type": "code",
     "collapsed": false,
     "input": [],
     "language": "python",
     "metadata": {},
     "outputs": []
    }
   ],
   "metadata": {}
  }
 ]
}