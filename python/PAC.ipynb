{
 "metadata": {
  "name": "",
  "signature": "sha256:1536ed1a67382addb2398dcc214687ca1342019a9c773eacf3ae04a5c6feda6c"
 },
 "nbformat": 3,
 "nbformat_minor": 0,
 "worksheets": [
  {
   "cells": [
    {
     "cell_type": "code",
     "collapsed": false,
     "input": [
      "%matplotlib inline\n",
      "import time\n",
      "import random\n",
      "import pandas as pd\n",
      "from sklearn import svm, metrics\n",
      "from sklearn.decomposition import PCA\n",
      "import collections\n",
      "import numpy as np\n",
      "import matplotlib.cm as cm\n",
      "import matplotlib.pyplot as plt\n",
      "import matplotlib.image as mpimg"
     ],
     "language": "python",
     "metadata": {},
     "outputs": []
    },
    {
     "cell_type": "code",
     "collapsed": false,
     "input": [
      "data = pd.read_csv('../fer2013.csv')\n",
      "print data.shape\n",
      "\n",
      "for i in range(data.shape[0]):\n",
      "#     if data['emotion'][i] == 3:\n",
      "#         data['emotion'][i] = 1\n",
      "#     else:\n",
      "#         data['emotion'][i] = 0\n",
      "    data['emotion'][i] = int(data['emotion'][i])\n",
      "    img = data['pixels'][i].split()\n",
      "    img = map(int, img)\n",
      "    img = np.array(img)\n",
      "    data['pixels'][i] = img"
     ],
     "language": "python",
     "metadata": {},
     "outputs": [
      {
       "output_type": "stream",
       "stream": "stdout",
       "text": [
        "(35887, 3)\n"
       ]
      }
     ],
     "prompt_number": 3
    },
    {
     "cell_type": "code",
     "collapsed": false,
     "input": [
      "def shuffle(df):\n",
      "    rows = random.sample(df.index, df.shape[0])\n",
      "    df = df.ix[rows]\n",
      "    df = df.reset_index(drop=True)\n",
      "    return df\n",
      "\n",
      "train = data[data.Usage=='Training']\n",
      "val = data[data.Usage!='Training']\n",
      "\n",
      "x_3 = train[map(lambda x: (x == 3) or (x == 5), train[\"emotion\"])]\n",
      "x_3 = train[train.emotion==3]\n",
      "x_0 = train[train.emotion!=3]\n",
      "\n",
      "x_0.loc[x_0['emotion']!=3,'emotion']=0\n",
      "val.loc[val['emotion']!=3,'emotion']=0\n",
      "\n",
      "x_3.loc[x_3['emotion']==3,'emotion']=1\n",
      "val.loc[val['emotion']==3,'emotion']=1\n",
      "\n",
      "x_3 = x_3[:5000]\n",
      "x_0 = x_0[:10000]\n",
      "\n",
      "x_3 = x_3.reset_index(drop=True)\n",
      "x_0 = x_0.reset_index(drop=True)\n",
      "\n",
      "print x_0.shape\n",
      "print x_3.shape\n",
      "d = pd.concat([x_0, x_3])\n",
      "d = d.reset_index(drop=True)\n",
      "\n",
      "d = shuffle(d)\n",
      "print d.shape\n",
      "\n",
      "print d['pixels'].shape[0], d['pixels'][0].shape[0]\n",
      "d.head(10)"
     ],
     "language": "python",
     "metadata": {},
     "outputs": [
      {
       "output_type": "stream",
       "stream": "stdout",
       "text": [
        "(10000, 3)\n",
        "(5000, 3)\n",
        "(15000, 3)\n",
        "15000 2304\n"
       ]
      },
      {
       "output_type": "stream",
       "stream": "stderr",
       "text": [
        "/home/datamining/anaconda/lib/python2.7/site-packages/pandas/core/indexing.py:389: SettingWithCopyWarning: A value is trying to be set on a copy of a slice from a DataFrame.\n",
        "Try using .loc[row_index,col_indexer] = value instead\n",
        "  self.obj[item] = s\n"
       ]
      },
      {
       "html": [
        "<div style=\"max-height:1000px;max-width:1500px;overflow:auto;\">\n",
        "<table border=\"1\" class=\"dataframe\">\n",
        "  <thead>\n",
        "    <tr style=\"text-align: right;\">\n",
        "      <th></th>\n",
        "      <th>emotion</th>\n",
        "      <th>pixels</th>\n",
        "      <th>Usage</th>\n",
        "    </tr>\n",
        "  </thead>\n",
        "  <tbody>\n",
        "    <tr>\n",
        "      <th>0</th>\n",
        "      <td> 1</td>\n",
        "      <td> [154, 164, 175, 150, 102, 94, 108, 111, 109, 1...</td>\n",
        "      <td> Training</td>\n",
        "    </tr>\n",
        "    <tr>\n",
        "      <th>1</th>\n",
        "      <td> 1</td>\n",
        "      <td> [203, 207, 209, 208, 209, 211, 214, 216, 215, ...</td>\n",
        "      <td> Training</td>\n",
        "    </tr>\n",
        "    <tr>\n",
        "      <th>2</th>\n",
        "      <td> 0</td>\n",
        "      <td> [136, 137, 139, 139, 94, 29, 58, 94, 156, 120,...</td>\n",
        "      <td> Training</td>\n",
        "    </tr>\n",
        "    <tr>\n",
        "      <th>3</th>\n",
        "      <td> 1</td>\n",
        "      <td> [15, 28, 16, 18, 3, 0, 2, 14, 37, 33, 6, 15, 8...</td>\n",
        "      <td> Training</td>\n",
        "    </tr>\n",
        "    <tr>\n",
        "      <th>4</th>\n",
        "      <td> 0</td>\n",
        "      <td> [78, 76, 75, 76, 73, 70, 68, 68, 70, 72, 76, 8...</td>\n",
        "      <td> Training</td>\n",
        "    </tr>\n",
        "    <tr>\n",
        "      <th>5</th>\n",
        "      <td> 0</td>\n",
        "      <td> [88, 93, 116, 119, 114, 95, 56, 59, 22, 15, 51...</td>\n",
        "      <td> Training</td>\n",
        "    </tr>\n",
        "    <tr>\n",
        "      <th>6</th>\n",
        "      <td> 1</td>\n",
        "      <td> [252, 253, 252, 253, 252, 252, 252, 253, 202, ...</td>\n",
        "      <td> Training</td>\n",
        "    </tr>\n",
        "    <tr>\n",
        "      <th>7</th>\n",
        "      <td> 0</td>\n",
        "      <td> [126, 127, 134, 138, 138, 140, 145, 141, 143, ...</td>\n",
        "      <td> Training</td>\n",
        "    </tr>\n",
        "    <tr>\n",
        "      <th>8</th>\n",
        "      <td> 1</td>\n",
        "      <td> [42, 43, 45, 45, 43, 41, 41, 41, 40, 36, 23, 2...</td>\n",
        "      <td> Training</td>\n",
        "    </tr>\n",
        "    <tr>\n",
        "      <th>9</th>\n",
        "      <td> 0</td>\n",
        "      <td> [133, 127, 148, 151, 152, 160, 171, 156, 159, ...</td>\n",
        "      <td> Training</td>\n",
        "    </tr>\n",
        "  </tbody>\n",
        "</table>\n",
        "</div>"
       ],
       "metadata": {},
       "output_type": "pyout",
       "prompt_number": 4,
       "text": [
        "   emotion                                             pixels     Usage\n",
        "0        1  [154, 164, 175, 150, 102, 94, 108, 111, 109, 1...  Training\n",
        "1        1  [203, 207, 209, 208, 209, 211, 214, 216, 215, ...  Training\n",
        "2        0  [136, 137, 139, 139, 94, 29, 58, 94, 156, 120,...  Training\n",
        "3        1  [15, 28, 16, 18, 3, 0, 2, 14, 37, 33, 6, 15, 8...  Training\n",
        "4        0  [78, 76, 75, 76, 73, 70, 68, 68, 70, 72, 76, 8...  Training\n",
        "5        0  [88, 93, 116, 119, 114, 95, 56, 59, 22, 15, 51...  Training\n",
        "6        1  [252, 253, 252, 253, 252, 252, 252, 253, 202, ...  Training\n",
        "7        0  [126, 127, 134, 138, 138, 140, 145, 141, 143, ...  Training\n",
        "8        1  [42, 43, 45, 45, 43, 41, 41, 41, 40, 36, 23, 2...  Training\n",
        "9        0  [133, 127, 148, 151, 152, 160, 171, 156, 159, ...  Training"
       ]
      }
     ],
     "prompt_number": 4
    },
    {
     "cell_type": "code",
     "collapsed": false,
     "input": [
      "start_time = time.time()\n",
      "x = np.ndarray((d['pixels'].shape[0], d['pixels'][0].shape[0]))\n",
      "y = np.ndarray((d['pixels'].shape[0], 1))\n",
      "\n",
      "def get_pca(mydata):\n",
      "    r=np.ndarray((mydata.shape[0], 20*48) )\n",
      "    pca = PCA(n_components=20)\n",
      "    for i in range(mydata.shape[0]):\n",
      "        img = mydata[i]\n",
      "        results = pca.fit_transform(img.reshape(48,48))\n",
      "        r[i] = results.reshape(1, results.shape[0]*results.shape[1])\n",
      "#         r[i] = results.components_.reshape(1,results.components_.shape[0]*results.components_.shape[1])\n",
      "    return r\n",
      "\n",
      "for i in range(d.shape[0]):\n",
      "    x[i] = d['pixels'][i]\n",
      "    y[i] = d['emotion'][i]\n",
      "    \n",
      "xx = get_pca(x)\n",
      "print \"--- %s seconds ---\" % (time.time() - start_time)"
     ],
     "language": "python",
     "metadata": {},
     "outputs": [
      {
       "output_type": "stream",
       "stream": "stdout",
       "text": [
        "--- 21.6344840527 seconds ---\n"
       ]
      }
     ],
     "prompt_number": 5
    },
    {
     "cell_type": "code",
     "collapsed": false,
     "input": [],
     "language": "python",
     "metadata": {},
     "outputs": [],
     "prompt_number": 5
    },
    {
     "cell_type": "code",
     "collapsed": false,
     "input": [
      "train_data_x       = xx[:-2000]\n",
      "train_data_y       = y[:-2000].reshape(-1)\n",
      "validation_data_x  = xx[-2000:]\n",
      "validation_data_y  = y[-2000:].reshape(-1)\n",
      "\n",
      "\n",
      "print train_data_x.shape\n",
      "print train_data_y.shape\n",
      "print validation_data_x.shape\n",
      "print validation_data_y.shape"
     ],
     "language": "python",
     "metadata": {},
     "outputs": [
      {
       "output_type": "stream",
       "stream": "stdout",
       "text": [
        "(13000, 960)\n",
        "(13000,)\n",
        "(2000, 960)\n",
        "(2000,)\n"
       ]
      }
     ],
     "prompt_number": 6
    },
    {
     "cell_type": "code",
     "collapsed": false,
     "input": [
      "start_time = time.time()\n",
      "clf= svm.SVC()\n",
      "clf.fit(train_data_x, train_data_y)\n",
      "print \"--- %s seconds ---\" % (time.time() - start_time)"
     ],
     "language": "python",
     "metadata": {},
     "outputs": [
      {
       "output_type": "stream",
       "stream": "stdout",
       "text": [
        "--- 574.626304865 seconds ---\n"
       ]
      }
     ],
     "prompt_number": 7
    },
    {
     "cell_type": "code",
     "collapsed": false,
     "input": [
      "pred = clf.predict(validation_data_x)"
     ],
     "language": "python",
     "metadata": {},
     "outputs": [],
     "prompt_number": 8
    },
    {
     "cell_type": "code",
     "collapsed": false,
     "input": [
      "# print pred\n",
      "true_positive  = np.count_nonzero(np.logical_and(pred, validation_data_y))\n",
      "true_negtive   = np.count_nonzero(np.logical_and((pred==0),(validation_data_y==0)))\n",
      "false_positive = np.count_nonzero(np.logical_and((pred==1),(validation_data_y==0)))\n",
      "false_negtive  = np.count_nonzero(np.logical_and((pred==0),(validation_data_y==1)))\n",
      "\n",
      "# print \"true_positive: \", true_positive\n",
      "# print \"true_negtive: \", true_negtive\n",
      "# print \"false_positive: \", false_positive\n",
      "# print \"false_negtive: \", false_negtive\n",
      "# recall = TP / (TP + FN)\n",
      "# precision = TP / (TP + FP)\n",
      "\n",
      "# The recall addresses the question: \n",
      "#     \"Given a positive example, will the classifier detect it ?\"\n",
      "# The precision addresses the question: \n",
      "#     \"Given a positive prediction from the classifier, how likely is it to be correct ?\"\n",
      "\n",
      "recall = float(true_positive)/(true_positive+false_negtive)\n",
      "precision = float(true_positive)/(true_positive+false_positive)\n",
      "f1 = recall*precision/(recall+precision)\n",
      "error_rate = float(false_negtive + false_positive)/(validation_data_y.shape[0])\n",
      "\n",
      "\n",
      "print \"Num of test data:\", validation_data_y.shape[0]\n",
      "print \"true_positive:    %s\"%(true_positive)\n",
      "print \"true_negtive:     %s\"%(true_negtive)\n",
      "print \"false_positive:   %s\"%(false_positive)\n",
      "print \"false_negtive:    %s\"%(false_negtive)\n",
      "print \"total:            %s\"%((true_positive)+(true_negtive)+(false_positive)+(false_negtive))\n",
      "print \"recall:           %s\"%recall\n",
      "print \"precision:        %s\"%precision\n",
      "print \"Error Rate        %s\"%error_rate\n",
      "print \"Acuracy:          %s\"%(1-error_rate)"
     ],
     "language": "python",
     "metadata": {},
     "outputs": [
      {
       "output_type": "stream",
       "stream": "stdout",
       "text": [
        "Num of test data: 2000\n",
        "true_positive:    14\n",
        "true_negtive:     1331\n",
        "false_positive:   0\n",
        "false_negtive:    655\n",
        "total:            2000\n",
        "recall:           0.0209267563528\n",
        "precision:        1.0\n",
        "Error Rate        0.3275\n",
        "Acuracy:          0.6725\n"
       ]
      }
     ],
     "prompt_number": 9
    },
    {
     "cell_type": "code",
     "collapsed": false,
     "input": [
      "from sklearn import svm, grid_search\n",
      "print(__doc__)\n",
      "\n",
      "import numpy as np\n",
      "\n",
      "from time import time\n",
      "from operator import itemgetter\n",
      "from scipy.stats import randint as sp_randint\n",
      "\n",
      "from sklearn.grid_search import GridSearchCV, RandomizedSearchCV\n",
      "from sklearn.datasets import load_digits\n",
      "from sklearn.ensemble import RandomForestClassifier\n",
      "\n",
      "\n",
      "# Utility function to report best scores\n",
      "def report(grid_scores, n_top=3):\n",
      "    top_scores = sorted(grid_scores, key=itemgetter(1), reverse=True)[:n_top]\n",
      "    for i, score in enumerate(top_scores):\n",
      "        print(\"Model with rank: {0}\".format(i + 1))\n",
      "        print(\"Mean validation score: {0:.3f} (std: {1:.3f})\".format(\n",
      "              score.mean_validation_score,\n",
      "              np.std(score.cv_validation_scores)))\n",
      "        print(\"Parameters: {0}\".format(score.parameters))\n",
      "        print(\"\")\n",
      "\n",
      "param_dist = {'kernel':('linear', 'rbf'), \n",
      "              'C':[1, 10]\n",
      "             }\n",
      "\n",
      "svr = svm.SVC()\n",
      "\n",
      "# run randomized search\n",
      "n_iter_search = 20\n",
      "random_search = RandomizedSearchCV(svr, param_distributions=param_dist,\n",
      "                                   n_iter=n_iter_search)\n",
      "\n",
      "start = time()\n",
      "random_search.fit(train_data_x, train_data_y)\n",
      "print(\"RandomizedSearchCV took %.2f seconds for %d candidates\"\n",
      "      \" parameter settings.\" % ((time() - start), n_iter_search))\n",
      "report(random_search.grid_scores_)\n",
      "\n",
      "# use a full grid over all parameters\n",
      "param_grid = {'kernel':('linear', 'rbf'), \n",
      "              'C':[1, 10]\n",
      "             }\n",
      "\n",
      "# run grid search\n",
      "grid_search = GridSearchCV(svr, param_grid=param_grid)\n",
      "start = time()\n",
      "grid_search.fit(train_data_x, train_data_y)\n",
      "\n",
      "print(\"GridSearchCV took %.2f seconds for %d candidate parameter settings.\"\n",
      "      % (time() - start, len(grid_search.grid_scores_)))\n",
      "report(grid_search.grid_scores_)\n"
     ],
     "language": "python",
     "metadata": {},
     "outputs": []
    },
    {
     "cell_type": "code",
     "collapsed": false,
     "input": [],
     "language": "python",
     "metadata": {},
     "outputs": []
    }
   ],
   "metadata": {}
  }
 ]
}