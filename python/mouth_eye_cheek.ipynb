{
 "metadata": {
  "name": "",
  "signature": "sha256:a77a151e68590ca2805276f737c56ad7759cfba978e701cb8439cb8b1ec91076"
 },
 "nbformat": 3,
 "nbformat_minor": 0,
 "worksheets": [
  {
   "cells": [
    {
     "cell_type": "code",
     "collapsed": false,
     "input": [
      "import time\n",
      "import random\n",
      "import pandas as pd\n",
      "from sklearn import svm, metrics\n",
      "from sklearn.decomposition import PCA\n",
      "import collections\n",
      "import numpy as np\n",
      "import matplotlib.cm as cm\n",
      "import matplotlib.pyplot as plt\n",
      "import matplotlib.image as mpimg"
     ],
     "language": "python",
     "metadata": {},
     "outputs": [],
     "prompt_number": 1
    },
    {
     "cell_type": "code",
     "collapsed": false,
     "input": [
      "data = pd.read_csv('../fer2013.csv')\n",
      "print data.shape\n",
      "\n",
      "for i in range(data.shape[0]):\n",
      "#     if data['emotion'][i] == 3:\n",
      "#         data['emotion'][i] = 1\n",
      "#     else:\n",
      "#         data['emotion'][i] = 0\n",
      "    data['emotion'][i] = int(data['emotion'][i])\n",
      "    img = data['pixels'][i].split()\n",
      "    img = map(int, img)\n",
      "    img = np.array(img)\n",
      "    data['pixels'][i] = img"
     ],
     "language": "python",
     "metadata": {},
     "outputs": [
      {
       "output_type": "stream",
       "stream": "stdout",
       "text": [
        "(35887, 3)\n"
       ]
      }
     ],
     "prompt_number": 2
    },
    {
     "cell_type": "code",
     "collapsed": false,
     "input": [
      "def shuffle(df):\n",
      "    rows = random.sample(df.index, df.shape[0])\n",
      "    df = df.ix[rows]\n",
      "    df = df.reset_index(drop=True)\n",
      "    return df\n",
      "\n",
      "train = data[data.Usage=='Training']\n",
      "val = data[data.Usage!='Training']\n",
      "\n",
      "x_3 = train[train.emotion==3]\n",
      "x_0 = train[train.emotion!=3]\n",
      "\n",
      "x_0.loc[x_0['emotion']!=3,'emotion']=0\n",
      "val.loc[val['emotion']!=3,'emotion']=0\n",
      "\n",
      "x_3.loc[x_3['emotion']==3,'emotion']=1\n",
      "val.loc[val['emotion']==3,'emotion']=1\n",
      "\n",
      "# x_3 = x_3[:5000]\n",
      "x_0 = x_0[:15000]\n",
      "\n",
      "x_3 = x_3.reset_index(drop=True)\n",
      "x_0 = x_0.reset_index(drop=True)\n",
      "\n",
      "print x_0.shape\n",
      "print x_3.shape\n",
      "print val.shape\n",
      "d = pd.concat([x_0, x_3])\n",
      "d = d.reset_index(drop=True)\n",
      "\n",
      "d = shuffle(d)\n",
      "print d.shape\n",
      "\n",
      "print d['pixels'].shape[0], d['pixels'][0].shape[0]\n",
      "d.head(10)"
     ],
     "language": "python",
     "metadata": {},
     "outputs": [
      {
       "output_type": "stream",
       "stream": "stdout",
       "text": [
        "(15000, 3)\n",
        "(7215, 3)\n",
        "(7178, 3)\n",
        "(22215, 3)\n",
        "22215 2304\n"
       ]
      },
      {
       "html": [
        "<div style=\"max-height:1000px;max-width:1500px;overflow:auto;\">\n",
        "<table border=\"1\" class=\"dataframe\">\n",
        "  <thead>\n",
        "    <tr style=\"text-align: right;\">\n",
        "      <th></th>\n",
        "      <th>emotion</th>\n",
        "      <th>pixels</th>\n",
        "      <th>Usage</th>\n",
        "    </tr>\n",
        "  </thead>\n",
        "  <tbody>\n",
        "    <tr>\n",
        "      <th>0</th>\n",
        "      <td> 0</td>\n",
        "      <td> [228, 221, 215, 213, 215, 223, 242, 245, 245, ...</td>\n",
        "      <td> Training</td>\n",
        "    </tr>\n",
        "    <tr>\n",
        "      <th>1</th>\n",
        "      <td> 0</td>\n",
        "      <td> [141, 137, 142, 89, 27, 42, 48, 59, 74, 50, 66...</td>\n",
        "      <td> Training</td>\n",
        "    </tr>\n",
        "    <tr>\n",
        "      <th>2</th>\n",
        "      <td> 0</td>\n",
        "      <td> [183, 178, 168, 168, 158, 153, 157, 166, 171, ...</td>\n",
        "      <td> Training</td>\n",
        "    </tr>\n",
        "    <tr>\n",
        "      <th>3</th>\n",
        "      <td> 1</td>\n",
        "      <td> [68, 125, 127, 128, 130, 132, 154, 175, 178, 1...</td>\n",
        "      <td> Training</td>\n",
        "    </tr>\n",
        "    <tr>\n",
        "      <th>4</th>\n",
        "      <td> 0</td>\n",
        "      <td> [180, 86, 75, 63, 78, 89, 59, 30, 45, 47, 35, ...</td>\n",
        "      <td> Training</td>\n",
        "    </tr>\n",
        "    <tr>\n",
        "      <th>5</th>\n",
        "      <td> 1</td>\n",
        "      <td> [107, 101, 120, 128, 144, 144, 137, 77, 17, 23...</td>\n",
        "      <td> Training</td>\n",
        "    </tr>\n",
        "    <tr>\n",
        "      <th>6</th>\n",
        "      <td> 0</td>\n",
        "      <td> [81, 92, 102, 46, 6, 14, 16, 19, 35, 61, 80, 9...</td>\n",
        "      <td> Training</td>\n",
        "    </tr>\n",
        "    <tr>\n",
        "      <th>7</th>\n",
        "      <td> 1</td>\n",
        "      <td> [240, 197, 144, 79, 86, 73, 62, 56, 57, 78, 12...</td>\n",
        "      <td> Training</td>\n",
        "    </tr>\n",
        "    <tr>\n",
        "      <th>8</th>\n",
        "      <td> 0</td>\n",
        "      <td> [25, 33, 45, 46, 36, 48, 65, 78, 91, 99, 109, ...</td>\n",
        "      <td> Training</td>\n",
        "    </tr>\n",
        "    <tr>\n",
        "      <th>9</th>\n",
        "      <td> 1</td>\n",
        "      <td> [192, 52, 0, 38, 59, 56, 53, 48, 55, 59, 60, 6...</td>\n",
        "      <td> Training</td>\n",
        "    </tr>\n",
        "  </tbody>\n",
        "</table>\n",
        "</div>"
       ],
       "metadata": {},
       "output_type": "pyout",
       "prompt_number": 5,
       "text": [
        "   emotion                                             pixels     Usage\n",
        "0        0  [228, 221, 215, 213, 215, 223, 242, 245, 245, ...  Training\n",
        "1        0  [141, 137, 142, 89, 27, 42, 48, 59, 74, 50, 66...  Training\n",
        "2        0  [183, 178, 168, 168, 158, 153, 157, 166, 171, ...  Training\n",
        "3        1  [68, 125, 127, 128, 130, 132, 154, 175, 178, 1...  Training\n",
        "4        0  [180, 86, 75, 63, 78, 89, 59, 30, 45, 47, 35, ...  Training\n",
        "5        1  [107, 101, 120, 128, 144, 144, 137, 77, 17, 23...  Training\n",
        "6        0  [81, 92, 102, 46, 6, 14, 16, 19, 35, 61, 80, 9...  Training\n",
        "7        1  [240, 197, 144, 79, 86, 73, 62, 56, 57, 78, 12...  Training\n",
        "8        0  [25, 33, 45, 46, 36, 48, 65, 78, 91, 99, 109, ...  Training\n",
        "9        1  [192, 52, 0, 38, 59, 56, 53, 48, 55, 59, 60, 6...  Training"
       ]
      }
     ],
     "prompt_number": 5
    },
    {
     "cell_type": "code",
     "collapsed": false,
     "input": [
      "\n",
      "print train.shape"
     ],
     "language": "python",
     "metadata": {},
     "outputs": [
      {
       "output_type": "stream",
       "stream": "stdout",
       "text": [
        "(22215, 3)\n"
       ]
      }
     ],
     "prompt_number": 6
    },
    {
     "cell_type": "code",
     "collapsed": false,
     "input": [
      "%matplotlib inline \n",
      "\n",
      "img = train['pixels'][50]\n",
      "img = img.reshape(48, 48)\n",
      "\n",
      "imglopt = plt.imshow(img,cmap =plt.cm.gray)\n"
     ],
     "language": "python",
     "metadata": {},
     "outputs": [
      {
       "metadata": {},
       "output_type": "display_data",
       "png": "[encoded data removed]",
       "text": [
        "<matplotlib.figure.Figure at 0x7fae680efe50>"
       ]
      }
     ],
     "prompt_number": 42
    },
    {
     "cell_type": "code",
     "collapsed": false,
     "input": [
      "mouth = img[32:46, 12:36]\n",
      "eye   = img[14:24, 8:40]\n",
      "cheekl = img[25:44, 5:19]\n",
      "cheekr = img[25:44, 30:44]\n",
      "\n",
      "f = plt.figure()\n",
      "f.add_subplot(1, 4, 1)\n",
      "plt.axis('off')\n",
      "plt.imshow(mouth, cmap=cm.gray)\n",
      "\n",
      "f.add_subplot(1, 4, 2)\n",
      "plt.axis('off')\n",
      "plt.imshow(eye, cmap=cm.gray)\n",
      "\n",
      "f.add_subplot(1, 4, 3)\n",
      "plt.axis('off')\n",
      "plt.imshow(cheekl, cmap=cm.gray)\n",
      "\n",
      "f.add_subplot(1, 4, 4)\n",
      "plt.axis('off')\n",
      "plt.imshow(cheekr, cmap=cm.gray)\n"
     ],
     "language": "python",
     "metadata": {},
     "outputs": [
      {
       "metadata": {},
       "output_type": "pyout",
       "prompt_number": 43,
       "text": [
        "<matplotlib.image.AxesImage at 0x7fae63037250>"
       ]
      },
      {
       "metadata": {},
       "output_type": "display_data",
       "png": "[encoded data removed]",
       "text": [
        "<matplotlib.figure.Figure at 0x7fae636c5b50>"
       ]
      }
     ],
     "prompt_number": 43
    },
    {
     "cell_type": "code",
     "collapsed": false,
     "input": [
      "#get mouth area\n",
      "\n",
      "mouth_x = np.ndarray((train.shape[0],14*24))\n",
      "eye_x = np.ndarray((train.shape[0],10*32))\n",
      "lcheek_x = np.ndarray((train.shape[0],19*14))\n",
      "rcheek_x = np.ndarray((train.shape[0],19*14))\n",
      "\n",
      "y = np.ndarray((train.shape[0],1))\n",
      "for i in range(train.shape[0]):\n",
      "    img = train['pixels'][i]\n",
      "    img = img.reshape(48, 48)\n",
      "    \n",
      "    mouth = img[32:46, 12:36]\n",
      "    eye   = img[14:24, 8:40]\n",
      "    lcheek = img[25:44, 5:19]\n",
      "    rcheek = img[25:44, 30:44]\n",
      "    \n",
      "    mouth_x[i] = mouth.reshape(-1)\n",
      "    eye_x[i] = eye.reshape(-1)\n",
      "    lcheek_x[i] = lcheek.reshape(-1)\n",
      "    rcheek_x[i] = rcheek.reshape(-1)\n",
      "    y[i] = train['emotion'][i]\n",
      "\n",
      "    \n",
      "    \n",
      "print mouth_x.shape, eye_x.shape, lcheek_x.shape, rcheek_x.shape"
     ],
     "language": "python",
     "metadata": {},
     "outputs": [
      {
       "output_type": "stream",
       "stream": "stdout",
       "text": [
        "(22215, 336) (22215, 320) (22215, 266) (22215, 266)\n"
       ]
      }
     ],
     "prompt_number": 49
    },
    {
     "cell_type": "code",
     "collapsed": false,
     "input": [
      "d = np.concatenate((mouth_x, eye_x, lcheek_x, rcheek_x), axis=1) "
     ],
     "language": "python",
     "metadata": {},
     "outputs": [],
     "prompt_number": 51
    },
    {
     "cell_type": "code",
     "collapsed": false,
     "input": [
      "print d.shape"
     ],
     "language": "python",
     "metadata": {},
     "outputs": [
      {
       "output_type": "stream",
       "stream": "stdout",
       "text": [
        "(22215, 1188)\n"
       ]
      }
     ],
     "prompt_number": 52
    },
    {
     "cell_type": "code",
     "collapsed": false,
     "input": [
      "num_of_train = 4500\n",
      "\n",
      "train_data_x       = d[:-num_of_train]\n",
      "train_data_y       = y[:-num_of_train].reshape(-1)\n",
      "validation_data_x  = d[-num_of_train:]\n",
      "validation_data_y  = y[-num_of_train:].reshape(-1)\n",
      "\n",
      "\n",
      "print train_data_x.shape\n",
      "print train_data_y.shape\n",
      "print validation_data_x.shape\n",
      "print validation_data_y.shape"
     ],
     "language": "python",
     "metadata": {},
     "outputs": [
      {
       "output_type": "stream",
       "stream": "stdout",
       "text": [
        "(17715, 1188)\n",
        "(17715,)\n",
        "(4500, 1188)\n",
        "(4500,)\n"
       ]
      }
     ],
     "prompt_number": 54
    },
    {
     "cell_type": "code",
     "collapsed": false,
     "input": [
      "start_time = time.time()\n",
      "clf= svm.SVC()\n",
      "clf.fit(train_data_x, train_data_y)\n",
      "print \"--- %s seconds ---\" % (time.time() - start_time)"
     ],
     "language": "python",
     "metadata": {},
     "outputs": [
      {
       "output_type": "stream",
       "stream": "stdout",
       "text": [
        "--- 1362.68808103 seconds ---\n"
       ]
      }
     ],
     "prompt_number": 55
    },
    {
     "cell_type": "code",
     "collapsed": false,
     "input": [
      "pred = clf.predict(validation_data_x)"
     ],
     "language": "python",
     "metadata": {},
     "outputs": [],
     "prompt_number": 56
    },
    {
     "cell_type": "code",
     "collapsed": false,
     "input": [
      "# print pred\n",
      "true_positive  = np.count_nonzero(np.logical_and(pred, validation_data_y))\n",
      "true_negtive   = np.count_nonzero(np.logical_and((pred==0),(validation_data_y==0)))\n",
      "false_positive = np.count_nonzero(np.logical_and((pred==1),(validation_data_y==0)))\n",
      "false_negtive  = np.count_nonzero(np.logical_and((pred==0),(validation_data_y==1)))\n",
      "\n",
      "# print \"true_positive: \", true_positive\n",
      "# print \"true_negtive: \", true_negtive\n",
      "# print \"false_positive: \", false_positive\n",
      "# print \"false_negtive: \", false_negtive\n",
      "# recall = TP / (TP + FN)\n",
      "# precision = TP / (TP + FP)\n",
      "\n",
      "# The recall addresses the question: \n",
      "#     \"Given a positive example, will the classifier detect it ?\"\n",
      "# The precision addresses the question: \n",
      "#     \"Given a positive prediction from the classifier, how likely is it to be correct ?\"\n",
      "\n",
      "recall = float(true_positive)/(true_positive+false_negtive)\n",
      "precision = float(true_positive)/(true_positive+false_positive)\n",
      "f1 = recall*precision/(recall+precision)\n",
      "error_rate = float(false_negtive + false_positive)/(validation_data_y.shape[0])\n",
      "\n",
      "\n",
      "print \"Num of test data:\", validation_data_y.shape[0]\n",
      "print \"true_positive:    %s\"%(true_positive)\n",
      "print \"true_negtive:     %s\"%(true_negtive)\n",
      "print \"false_positive:   %s\"%(false_positive)\n",
      "print \"false_negtive:    %s\"%(false_negtive)\n",
      "print \"total:            %s\"%((true_positive)+(true_negtive)+(false_positive)+(false_negtive))\n",
      "print \"recall:           %s\"%recall\n",
      "print \"precision:        %s\"%precision\n",
      "print \"Error Rate        %s\"%error_rate\n",
      "print \"Acuracy:          %s\"%(1-error_rate)"
     ],
     "language": "python",
     "metadata": {},
     "outputs": [
      {
       "output_type": "stream",
       "stream": "stdout",
       "text": [
        "Num of test data: 4500\n",
        "true_positive:    36\n",
        "true_negtive:     3039\n",
        "false_positive:   0\n",
        "false_negtive:    1425\n",
        "total:            4500\n",
        "recall:           0.0246406570842\n",
        "precision:        1.0\n",
        "Error Rate        0.316666666667\n",
        "Acuracy:          0.683333333333\n"
       ]
      }
     ],
     "prompt_number": 57
    },
    {
     "cell_type": "code",
     "collapsed": false,
     "input": [
      "from sklearn import svm, grid_search\n",
      "print(__doc__)\n",
      "\n",
      "import numpy as np\n",
      "\n",
      "from time import time\n",
      "from operator import itemgetter\n",
      "from scipy.stats import randint as sp_randint\n",
      "\n",
      "from sklearn.grid_search import GridSearchCV, RandomizedSearchCV\n",
      "from sklearn.datasets import load_digits\n",
      "from sklearn.ensemble import RandomForestClassifier\n",
      "\n",
      "# use a full grid over all parameters\n",
      "# param_grid = {'kernel':('linear', 'rbf'), \n",
      "#               'C':[0.1, 1, 10]\n",
      "#              }\n",
      "\n",
      "# Utility function to report best scores\n",
      "def report(grid_scores, n_top=5):\n",
      "    top_scores = sorted(grid_scores, key=itemgetter(1), reverse=True)[:n_top]\n",
      "    for i, score in enumerate(top_scores):\n",
      "        print(\"Model with rank: {0}\".format(i + 1))\n",
      "        print(\"Mean validation score: {0:.3f} (std: {1:.3f})\".format(\n",
      "              score.mean_validation_score,\n",
      "              np.std(score.cv_validation_scores)))\n",
      "        print(\"Parameters: {0}\".format(score.parameters))\n",
      "        print(\"\")\n",
      "\n",
      "param_grid = [\n",
      "  {'C': [1, 10, 100, 1000], 'kernel': ['linear']},\n",
      "  {'C': [1, 10, 100, 1000], 'gamma': [0.001, 0.0001], 'kernel': ['rbf']},\n",
      " ]\n",
      "\n",
      "# run grid search\n",
      "svr = svm.SVC(cache_size=1000)\n",
      "grid_search = GridSearchCV(svr, param_grid=param_grid, n_jobs=8)\n",
      "start = time()\n",
      "grid_search.fit(train_data_x, train_data_y)\n",
      "\n",
      "print(\"GridSearchCV took %.2f seconds for %d candidate parameter settings.\"\n",
      "      % (time() - start, len(grid_search.grid_scores_)))\n",
      "report(grid_search.grid_scores_)"
     ],
     "language": "python",
     "metadata": {},
     "outputs": []
    }
   ],
   "metadata": {}
  }
 ]
}