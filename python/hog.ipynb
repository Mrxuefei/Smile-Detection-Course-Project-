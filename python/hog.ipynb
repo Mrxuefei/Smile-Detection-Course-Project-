{
 "metadata": {
  "name": "",
  "signature": "sha256:9826bfc483571c2d4fbe2828fc4163707691035c13e5650b7650fe1ee43b1b6f"
 },
 "nbformat": 3,
 "nbformat_minor": 0,
 "worksheets": [
  {
   "cells": [
    {
     "cell_type": "code",
     "collapsed": false,
     "input": [
      "%matplotlib inline\n",
      "from smile import load_smile_data\n",
      "import time\n",
      "from sklearn import svm, metrics\n",
      "import numpy as np\n",
      "import matplotlib.cm as cm\n",
      "import matplotlib.pyplot as plt\n",
      "import matplotlib.image as mpimg\n",
      "import scipy\n",
      "from sklearn.cluster import KMeans"
     ],
     "language": "python",
     "metadata": {},
     "outputs": [],
     "prompt_number": 262
    },
    {
     "cell_type": "code",
     "collapsed": false,
     "input": [
      "(x, y) = load_smile_data()"
     ],
     "language": "python",
     "metadata": {},
     "outputs": [
      {
       "output_type": "stream",
       "stream": "stdout",
       "text": [
        "--- Load data in 64.0710101128 seconds ---\n"
       ]
      }
     ],
     "prompt_number": 263
    },
    {
     "cell_type": "code",
     "collapsed": false,
     "input": [
      "import cv2\n",
      "bin_n = 16\n",
      "def hog(img):\n",
      "#     print img.shape\n",
      "    img = img.astype('f4')\n",
      "    gx = cv2.Sobel(img, cv2.CV_32F, 1, 0)\n",
      "    gy = cv2.Sobel(img, cv2.CV_32F, 0, 1)\n",
      "    mag, ang = cv2.cartToPolar(gx, gy)\n",
      "    \n",
      "#     print gx.shape, gy.shape\n",
      "#     print mag.shape, ang.shape\n",
      "    # quantizing binvalues in (0...16)\n",
      "    bins = np.int32(bin_n*ang/(2*np.pi))\n",
      "\n",
      "    # Divide to 4 sub-squares\n",
      "#     bin_cells = bins[:10,:10], bins[10:,:10], bins[:10,10:], bins[10:,10:]\n",
      "#     mag_cells = mag[:10,:10], mag[10:,:10], mag[:10,10:], mag[10:,10:]\n",
      "    bin_cells = bins[:16,:16], bins[16:32, :16], bins[32:, :16],\\\n",
      "                bins[:16,16:32], bins[16:32, 16:32], bins[32:, 16:32],\\\n",
      "                bins[:16,32:], bins[16:32, 32:], bins[32:, 32:]\n",
      "    \n",
      "    mag_cells = mag[:16,:16], mag[16:32, :16], mag[32:, :16],\\\n",
      "                mag[:16,16:32], mag[16:32, 16:32], mag[32:, 16:32],\\\n",
      "                mag[:16,32:], mag[16:32, 32:], mag[32:, 32:]        \n",
      "    hists = [np.bincount(b.ravel(), m.ravel(), bin_n) for b, m in zip(bin_cells, mag_cells)]\n",
      "    hist = np.hstack(hists)\n",
      "    return hist"
     ],
     "language": "python",
     "metadata": {},
     "outputs": [],
     "prompt_number": 274
    },
    {
     "cell_type": "code",
     "collapsed": false,
     "input": [
      "hist = hog(x[0])\n",
      "print hist.shape"
     ],
     "language": "python",
     "metadata": {},
     "outputs": [
      {
       "output_type": "stream",
       "stream": "stdout",
       "text": [
        "(144,)\n"
       ]
      }
     ],
     "prompt_number": 275
    },
    {
     "cell_type": "code",
     "collapsed": false,
     "input": [
      "xx = np.ndarray((x.shape[0], 144))\n",
      "\n",
      "for i in range(x.shape[0]):\n",
      "    img = x[i].reshape(48, 48)\n",
      "    tmp = hog(img)\n",
      "    xx[i] = tmp.reshape(-1)\n",
      "    for t in tmp:\n",
      "        if np.isnan(t):\n",
      "            print \"is a ana\"\n",
      "        if np.isinf(t):\n",
      "            print \"is inf\"\n",
      "        a = int(t)"
     ],
     "language": "python",
     "metadata": {},
     "outputs": [],
     "prompt_number": 276
    },
    {
     "cell_type": "code",
     "collapsed": false,
     "input": [
      "for i in range(xx.shape[0]):\n",
      "    tmp = xx[i] \n",
      "    for t in tmp:\n",
      "        if np.isnan(t):\n",
      "            print \"is a ana\"\n",
      "        if np.isinf(t):\n",
      "            print \"is inf\"\n",
      "        a = int(t)"
     ],
     "language": "python",
     "metadata": {},
     "outputs": [],
     "prompt_number": 256
    },
    {
     "cell_type": "code",
     "collapsed": false,
     "input": [
      "num_test = 4000\n",
      "train_data_x       = xx[:-num_test]\n",
      "train_data_y       = y[:-num_test].reshape(-1)\n",
      "validation_data_x  = xx[-num_test:]\n",
      "validation_data_y  = y[-num_test:].reshape(-1)\n",
      "\n",
      "print train_data_x.shape\n",
      "print train_data_y.shape\n",
      "print validation_data_x.shape\n",
      "print validation_data_y.shape\n",
      "# print xx[3]"
     ],
     "language": "python",
     "metadata": {},
     "outputs": [
      {
       "output_type": "stream",
       "stream": "stdout",
       "text": [
        "(16187, 144)\n",
        "(16187,)\n",
        "(4000, 144)\n",
        "(4000,)\n"
       ]
      }
     ],
     "prompt_number": 277
    },
    {
     "cell_type": "code",
     "collapsed": false,
     "input": [
      "start_time = time.time()\n",
      "clf= svm.SVC(kernel='linear')\n",
      "clf.fit(train_data_x, train_data_y)\n",
      "pred = clf.predict(validation_data_x)\n",
      "print \"--- %s seconds ---\" % (time.time() - start_time)"
     ],
     "language": "python",
     "metadata": {},
     "outputs": [
      {
       "output_type": "stream",
       "stream": "stdout",
       "text": [
        "--- 225.211667061 seconds ---\n"
       ]
      }
     ],
     "prompt_number": 278
    },
    {
     "cell_type": "code",
     "collapsed": false,
     "input": [
      "true_positive  = np.count_nonzero(np.logical_and(pred, validation_data_y))\n",
      "true_negtive   = np.count_nonzero(np.logical_and((pred==0),(validation_data_y==0)))\n",
      "false_positive = np.count_nonzero(np.logical_and((pred==1),(validation_data_y==0)))\n",
      "false_negtive  = np.count_nonzero(np.logical_and((pred==0),(validation_data_y==1)))\n",
      "\n",
      "recall = float(true_positive)/(true_positive+false_negtive)\n",
      "precision = float(true_positive)/(true_positive+false_positive)\n",
      "f1 = recall*precision/(recall+precision)\n",
      "error_rate = float(false_negtive + false_positive)/(validation_data_y.shape[0])\n",
      "\n",
      "print \"Num of test data:\", validation_data_y.shape[0]\n",
      "print \"true_positive:    %s\"%(true_positive)\n",
      "print \"true_negtive:     %s\"%(true_negtive)\n",
      "print \"false_positive:   %s\"%(false_positive)\n",
      "print \"false_negtive:    %s\"%(false_negtive)\n",
      "print \"total:            %s\"%((true_positive)+(true_negtive)+(false_positive)+(false_negtive))\n",
      "print \"recall:           %s\"%recall\n",
      "print \"precision:        %s\"%precision\n",
      "print \"Error Rate        %s\"%error_rate\n",
      "print \"Acuracy:          %s\"%(1-error_rate)"
     ],
     "language": "python",
     "metadata": {},
     "outputs": [
      {
       "output_type": "stream",
       "stream": "stdout",
       "text": [
        "Num of test data: 4000\n",
        "true_positive:    71\n",
        "true_negtive:     2197\n",
        "false_positive:   0\n",
        "false_negtive:    1732\n",
        "total:            4000\n",
        "recall:           0.0393788130893\n",
        "precision:        1.0\n",
        "Error Rate        0.433\n",
        "Acuracy:          0.567\n"
       ]
      }
     ],
     "prompt_number": 280
    },
    {
     "cell_type": "code",
     "collapsed": false,
     "input": [],
     "language": "python",
     "metadata": {},
     "outputs": []
    }
   ],
   "metadata": {}
  }
 ]
}