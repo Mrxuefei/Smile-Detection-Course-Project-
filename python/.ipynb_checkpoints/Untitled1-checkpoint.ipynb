{
 "metadata": {
  "name": "",
  "signature": "sha256:4987620f637cf8d729cb3dfe08281ced15c50d00304126ad2b9487618263ec1e"
 },
 "nbformat": 3,
 "nbformat_minor": 0,
 "worksheets": [
  {
   "cells": [
    {
     "cell_type": "code",
     "collapsed": false,
     "input": [
      "from feature_representation import *\n",
      "from sklearn.grid_search import GridSearchCV, RandomizedSearchCV\n",
      "import time\n",
      "from operator import itemgetter\n",
      "import cPickle as pickle\n",
      "from sklearn.grid_search import GridSearchCV, RandomizedSearchCV\n",
      "\n",
      "from operator import itemgetter\n",
      "from sklearn.ensemble import AdaBoostClassifier\n",
      "from sklearn.cross_validation import cross_val_score\n",
      "\n",
      "def scale_image(x, dst_img_size):\n",
      "    img_num = x.shape[0]\n",
      "    new_x = np.ndarray((x.shape[0], dst_img_size*dst_img_size), dtype='uint8')\n",
      "    for i in range(img_num):\n",
      "        img = x[i]\n",
      "        img = img.reshape(48, 48)\n",
      "        img = cv2.resize(img, (dst_img_size, dst_img_size))\n",
      "        new_x[i] = img.reshape(-1)\n",
      "    return new_x\n",
      "\n",
      "def get_pixels_diff(x):\n",
      "    num = x.shape[1] * (x.shape[1] -1)\n",
      "    print x.shape[0], num\n",
      "    num_of_pixels = num *x.shape[0]\n",
      "    print \"num_of_pixels is :\", num_of_pixels\n",
      "    new_x = np.ndarray((x.shape[0], num), dtype='int8')\n",
      "    cnt = 0\n",
      "    for i in range (x.shape[0]):\n",
      "        for j in range(x.shape[1]):\n",
      "            for k in range(x.shape[1]-1):\n",
      "                new_x[i][j*48 + k] = x[i][j] - x[i][k+1]\n",
      "                cnt = cnt + 1\n",
      "                if (cnt % 10000000) == 0:\n",
      "                \tprint \"processed %.1f%% \"%(float(100*cnt)/num_of_pixels)\n",
      "\n",
      "    return new_x\n",
      "\n",
      "\n",
      "print \"loading data...\"\n",
      "start_time = time.time()\n",
      "x = pickle.load(open( \"x.p\", \"rb\"))\n",
      "y = pickle.load(open( \"y.p\", \"rb\"))\n",
      "x = x.astype(\"uint8\")\n",
      "y = y.astype(\"uint8\")\n",
      "print \"--- Load data in %s seconds ---\" % (time.time() - start_time)\n",
      "print \"data size is : \", x.shape[0]\n",
      "print \"Positive labels: \", np.count_nonzero(y)\n",
      "print \"Negtive labels: \", (x.shape[0] - np.count_nonzero(y))\n",
      "\n",
      "xx = scale_image(x, 24)\n",
      "xx = xx.astype('uint8')\n",
      "\n",
      "xxx = get_pixels_diff(xx)"
     ],
     "language": "python",
     "metadata": {},
     "outputs": [
      {
       "output_type": "stream",
       "stream": "stdout",
       "text": [
        "loading data...\n",
        "--- Load data in 15.6085031033 seconds ---"
       ]
      },
      {
       "output_type": "stream",
       "stream": "stdout",
       "text": [
        "\n",
        "data size is :  5330\n",
        "Positive labels:  2611\n",
        "Negtive labels:  2719\n",
        "5330 331200\n",
        "num_of_pixels is : 1765296000\n"
       ]
      },
      {
       "ename": "ValueError",
       "evalue": "incomplete format",
       "output_type": "pyerr",
       "traceback": [
        "\u001b[1;31m---------------------------------------------------------------------------\u001b[0m\n\u001b[1;31mValueError\u001b[0m                                Traceback (most recent call last)",
        "\u001b[1;32m<ipython-input-10-d75b03b95595>\u001b[0m in \u001b[0;36m<module>\u001b[1;34m()\u001b[0m\n\u001b[0;32m     52\u001b[0m \u001b[0mxx\u001b[0m \u001b[1;33m=\u001b[0m \u001b[0mxx\u001b[0m\u001b[1;33m.\u001b[0m\u001b[0mastype\u001b[0m\u001b[1;33m(\u001b[0m\u001b[1;34m'uint8'\u001b[0m\u001b[1;33m)\u001b[0m\u001b[1;33m\u001b[0m\u001b[0m\n\u001b[0;32m     53\u001b[0m \u001b[1;33m\u001b[0m\u001b[0m\n\u001b[1;32m---> 54\u001b[1;33m \u001b[0mxxx\u001b[0m \u001b[1;33m=\u001b[0m \u001b[0mget_pixels_diff\u001b[0m\u001b[1;33m(\u001b[0m\u001b[0mxx\u001b[0m\u001b[1;33m)\u001b[0m\u001b[1;33m\u001b[0m\u001b[0m\n\u001b[0m",
        "\u001b[1;32m<ipython-input-10-d75b03b95595>\u001b[0m in \u001b[0;36mget_pixels_diff\u001b[1;34m(x)\u001b[0m\n\u001b[0;32m     33\u001b[0m                 \u001b[0mcnt\u001b[0m \u001b[1;33m=\u001b[0m \u001b[0mcnt\u001b[0m \u001b[1;33m+\u001b[0m \u001b[1;36m1\u001b[0m\u001b[1;33m\u001b[0m\u001b[0m\n\u001b[0;32m     34\u001b[0m                 \u001b[1;32mif\u001b[0m \u001b[1;33m(\u001b[0m\u001b[0mcnt\u001b[0m \u001b[1;33m%\u001b[0m \u001b[1;36m10000000\u001b[0m\u001b[1;33m)\u001b[0m \u001b[1;33m==\u001b[0m \u001b[1;36m0\u001b[0m\u001b[1;33m:\u001b[0m\u001b[1;33m\u001b[0m\u001b[0m\n\u001b[1;32m---> 35\u001b[1;33m                         \u001b[1;32mprint\u001b[0m \u001b[1;34m\"processed %.1%% \"\u001b[0m\u001b[1;33m%\u001b[0m\u001b[1;33m(\u001b[0m\u001b[0mfloat\u001b[0m\u001b[1;33m(\u001b[0m\u001b[1;36m100\u001b[0m\u001b[1;33m*\u001b[0m\u001b[0mcnt\u001b[0m\u001b[1;33m)\u001b[0m\u001b[1;33m/\u001b[0m\u001b[0mnum_of_pixels\u001b[0m\u001b[1;33m)\u001b[0m\u001b[1;33m\u001b[0m\u001b[0m\n\u001b[0m\u001b[0;32m     36\u001b[0m \u001b[1;33m\u001b[0m\u001b[0m\n\u001b[0;32m     37\u001b[0m     \u001b[1;32mreturn\u001b[0m \u001b[0mnew_x\u001b[0m\u001b[1;33m\u001b[0m\u001b[0m\n",
        "\u001b[1;31mValueError\u001b[0m: incomplete format"
       ]
      }
     ],
     "prompt_number": 10
    },
    {
     "cell_type": "code",
     "collapsed": false,
     "input": [],
     "language": "python",
     "metadata": {},
     "outputs": []
    },
    {
     "cell_type": "code",
     "collapsed": false,
     "input": [
      "  "
     ],
     "language": "python",
     "metadata": {},
     "outputs": []
    },
    {
     "cell_type": "code",
     "collapsed": false,
     "input": [],
     "language": "python",
     "metadata": {},
     "outputs": []
    }
   ],
   "metadata": {}
  }
 ]
}