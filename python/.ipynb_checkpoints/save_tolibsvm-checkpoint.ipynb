{
 "metadata": {
  "name": "",
  "signature": "sha256:408e0b5227540375e17cd71bc3b7a9e832ff92ce7dac74fd35a77d7a1f894862"
 },
 "nbformat": 3,
 "nbformat_minor": 0,
 "worksheets": [
  {
   "cells": [
    {
     "cell_type": "code",
     "collapsed": false,
     "input": [
      "%matplotlib inline\n",
      "from smile import load_smile_data\n",
      "import time\n",
      "from sklearn import svm, metrics, datasets\n",
      "import numpy as np\n",
      "import matplotlib.cm as cm\n",
      "import matplotlib.pyplot as plt\n",
      "import matplotlib.image as mpimg"
     ],
     "language": "python",
     "metadata": {},
     "outputs": [],
     "prompt_number": 1
    },
    {
     "cell_type": "code",
     "collapsed": false,
     "input": [
      "(x, y) = load_smile_data()"
     ],
     "language": "python",
     "metadata": {},
     "outputs": [
      {
       "output_type": "stream",
       "stream": "stdout",
       "text": [
        "--- Load data in 6.5794711113 seconds ---\n"
       ]
      }
     ],
     "prompt_number": 2
    },
    {
     "cell_type": "code",
     "collapsed": false,
     "input": [
      "# sklearn.datasets.dump_svmlight_file()\n",
      "tst_num = int(0.2 * x.shape[0])\n",
      "\n",
      "train_data_x       = x[:-tst_num]\n",
      "train_data_y       = y[:-tst_num].reshape(-1)\n",
      "validation_data_x  = x[-tst_num:]\n",
      "validation_data_y  = y[-tst_num:].reshape(-1)\n",
      "\n",
      "datasets.dump_svmlight_file(train_data_x, train_data_y, \"train.dat\")\n",
      "datasets.dump_svmlight_file(validation_data_x, validation_data_y, \"val.dat\")"
     ],
     "language": "python",
     "metadata": {},
     "outputs": [],
     "prompt_number": 8
    },
    {
     "cell_type": "code",
     "collapsed": false,
     "input": [],
     "language": "python",
     "metadata": {},
     "outputs": []
    }
   ],
   "metadata": {}
  }
 ]
}