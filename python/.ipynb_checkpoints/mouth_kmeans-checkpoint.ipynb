{
 "metadata": {
  "name": "",
  "signature": "sha256:b7174659d4927baf68c390a7478ca3ae27b3f61c3e5dd8232e0f68aceac99c59"
 },
 "nbformat": 3,
 "nbformat_minor": 0,
 "worksheets": [
  {
   "cells": [
    {
     "cell_type": "code",
     "collapsed": false,
     "input": [
      "%matplotlib inline\n",
      "from smile import load_smile_data\n",
      "import time\n",
      "from sklearn import svm, metrics\n",
      "import numpy as np\n",
      "import matplotlib.cm as cm\n",
      "import matplotlib.pyplot as plt\n",
      "import matplotlib.image as mpimg\n",
      "import scipy\n",
      "from sklearn.cluster import KMeans"
     ],
     "language": "python",
     "metadata": {},
     "outputs": [],
     "prompt_number": 1
    },
    {
     "cell_type": "code",
     "collapsed": false,
     "input": [
      "(x, y) = load_smile_data()"
     ],
     "language": "python",
     "metadata": {},
     "outputs": [
      {
       "output_type": "stream",
       "stream": "stdout",
       "text": [
        "--- Load data in 63.6899909973 seconds ---\n"
       ]
      }
     ],
     "prompt_number": 2
    },
    {
     "cell_type": "code",
     "collapsed": false,
     "input": [
      "mouth_x = np.ndarray((x.shape[0],14*24))\n",
      "# y = np.ndarray((x.shape[0],1))\n",
      "for i in range(x.shape[0]):\n",
      "    img = x[i]\n",
      "    img = img.reshape(48,48)\n",
      "    img = img[32:46, 12:36]\n",
      "    mouth_x[i] = img.reshape(-1)\n",
      "#     y[i] = data['emotion'][i]\n",
      "\n",
      "print mouth_x.shape"
     ],
     "language": "python",
     "metadata": {},
     "outputs": [
      {
       "output_type": "stream",
       "stream": "stdout",
       "text": [
        "(20187, 336)\n"
       ]
      }
     ],
     "prompt_number": 5
    },
    {
     "cell_type": "code",
     "collapsed": false,
     "input": [
      "def print_result(pred, validation_data_y):\n",
      "    true_positive  = np.count_nonzero(np.logical_and(pred, validation_data_y))\n",
      "    true_negtive   = np.count_nonzero(np.logical_and((pred==0),(validation_data_y==0)))\n",
      "    false_positive = np.count_nonzero(np.logical_and((pred==1),(validation_data_y==0)))\n",
      "    false_negtive  = np.count_nonzero(np.logical_and((pred==0),(validation_data_y==1)))\n",
      "\n",
      "    recall = float(true_positive)/(true_positive+false_negtive)\n",
      "    precision = float(true_positive)/(true_positive+false_positive)\n",
      "    f1 = recall*precision/(recall+precision)\n",
      "    error_rate = float(false_negtive + false_positive)/(validation_data_y.shape[0])\n",
      "\n",
      "    print \"Num of test data:\", validation_data_y.shape[0]\n",
      "    print \"true_positive:    %s\"%(true_positive)\n",
      "    print \"true_negtive:     %s\"%(true_negtive)\n",
      "    print \"false_positive:   %s\"%(false_positive)\n",
      "    print \"false_negtive:    %s\"%(false_negtive)\n",
      "    print \"total:            %s\"%((true_positive)+(true_negtive)+(false_positive)+(false_negtive))\n",
      "    print \"recall:           %s\"%recall\n",
      "    print \"precision:        %s\"%precision\n",
      "    print \"Error Rate        %s\"%error_rate\n",
      "    print \"Acuracy:          %s\"%(1-error_rate)"
     ],
     "language": "python",
     "metadata": {},
     "outputs": []
    },
    {
     "cell_type": "code",
     "collapsed": false,
     "input": [
      "tst_num = int(0.2 * mouth_x.shape[0])\n",
      "\n",
      "train_data_x       = mouth_x[:-tst_num]\n",
      "train_data_y       = y[:-tst_num].reshape(-1)\n",
      "validation_data_x  = mouth_x[-tst_num:]\n",
      "validation_data_y  = y[-tst_num:].reshape(-1)"
     ],
     "language": "python",
     "metadata": {},
     "outputs": []
    },
    {
     "cell_type": "code",
     "collapsed": false,
     "input": [
      "start_time = time.time()\n",
      "clf= svm.SVC(C=10, kernel='linear')\n",
      "clf.fit(train_data_x, train_data_y)\n",
      "pred = clf.predict(validation_data_x)\n",
      "print \"--- %s seconds ---\" % (time.time() - start_time)"
     ],
     "language": "python",
     "metadata": {},
     "outputs": []
    },
    {
     "cell_type": "code",
     "collapsed": false,
     "input": [
      "print_result(pred, validation_data_y)\n"
     ],
     "language": "python",
     "metadata": {},
     "outputs": []
    },
    {
     "cell_type": "code",
     "collapsed": false,
     "input": [
      "start_time = time.time()\n",
      "kmeans_mouth = KMeans(init='k-means++', n_clusters=100, n_init=10)\n",
      "kmeans_mouth.fit(mouth_x)\n",
      "print \"--- %s seconds ---\" % (time.time() - start_time)"
     ],
     "language": "python",
     "metadata": {},
     "outputs": []
    },
    {
     "cell_type": "code",
     "collapsed": false,
     "input": [
      "xx = np.ndarray((mouth_x.shape[0], centroids.shape[0]))\n",
      "\n",
      "for i in range (mouth_x.shape[0]):\n",
      "    for j in range (centroids.shape[0]):\n",
      "        xx[i][j] = np.linalg.norm(mouth_x[i]-centroids[j])\n",
      "\n",
      "train_data_x       = xx[:-tst_num]\n",
      "train_data_y       = y[:-tst_num].reshape(-1)\n",
      "validation_data_x  = xx[-tst_num:]\n",
      "validation_data_y  = y[-tst_num:].reshape(-1)        \n",
      "        \n",
      "start_time = time.time()\n",
      "clf= svm.SVC(C=10, kernel='linear')\n",
      "clf.fit(train_data_x, train_data_y)\n",
      "pred = clf.predict(validation_data_x)\n",
      "print \"--- %s seconds ---\" % (time.time() - start_time)\n",
      "\n",
      "print_result(pred, validation_data_y)"
     ],
     "language": "python",
     "metadata": {},
     "outputs": []
    },
    {
     "cell_type": "code",
     "collapsed": false,
     "input": [
      "xxx = np.ndarray((mouth_x.shape[0], centroids.shape[0]))\n",
      "\n",
      "for i in range (mouth_x.shape[0]):\n",
      "    for j in range (centroids.shape[0]):\n",
      "        xxx[i][j] = scipy.spatial.distance.cosine(mouth_x[i],centroids[j])\n",
      "        if np.isnan(xxx[i][j]):\n",
      "            print mouth_x[i]\n",
      "\n",
      "train_data_x       = xxx[:-tst_num]\n",
      "train_data_y       = y[:-tst_num].reshape(-1)\n",
      "validation_data_x  = xxx[-tst_num:]\n",
      "validation_data_y  = y[-tst_num:].reshape(-1)        \n",
      "        \n",
      "start_time = time.time()\n",
      "clf= svm.SVC(C=10, kernel='linear')\n",
      "clf.fit(train_data_x, train_data_y)\n",
      "pred = clf.predict(validation_data_x)\n",
      "print \"--- %s seconds ---\" % (time.time() - start_time)\n",
      "\n",
      "print_result(pred, validation_data_y)"
     ],
     "language": "python",
     "metadata": {},
     "outputs": []
    },
    {
     "cell_type": "code",
     "collapsed": false,
     "input": [
      "def normalization(matrix):\n",
      "    ret = matrix\n",
      "    for v in ret:\n",
      "        s = np.sum(v)\n",
      "        if s == 0:\n",
      "            print \"sum is zero\"\n",
      "        else:\n",
      "            v /= s\n",
      "    return ret\n",
      "\n",
      "nor_cent = centroids\n",
      "nor_mouth = mouth_x\n",
      "nor_cent = normalization(nor_cent)\n",
      "nor_mouth = normalization(nor_mouth)\n",
      "print np.sum(tst[2]), np.sum(nor_mouth[3])\n",
      "print nor_mouth.shape, mouth_x.shape"
     ],
     "language": "python",
     "metadata": {},
     "outputs": []
    },
    {
     "cell_type": "code",
     "collapsed": false,
     "input": [
      "\n",
      "xxxx = np.ndarray((mouth_x.shape[0], centroids.shape[0]))\n",
      "\n",
      "for i in range (mouth_x.shape[0]):\n",
      "    for j in range (centroids.shape[0]):\n",
      "        xxxx[i][j] = scipy.stats.entropy(nor_mouth[i], nor_cent[j])\n",
      "\n",
      "train_data_x       = xxxx[:-tst_num]\n",
      "train_data_y       = y[:-tst_num].reshape(-1)\n",
      "validation_data_x  = xxxx[-tst_num:]\n",
      "validation_data_y  = y[-tst_num:].reshape(-1)        \n",
      "        \n",
      "start_time = time.time()\n",
      "clf= svm.SVC(C=10, kernel='linear')\n",
      "clf.fit(train_data_x, train_data_y)\n",
      "pred = clf.predict(validation_data_x)\n",
      "print \"--- %s seconds ---\" % (time.time() - start_time)\n",
      "\n",
      "print_result(pred, validation_data_y)"
     ],
     "language": "python",
     "metadata": {},
     "outputs": []
    },
    {
     "cell_type": "code",
     "collapsed": false,
     "input": [],
     "language": "python",
     "metadata": {},
     "outputs": []
    },
    {
     "cell_type": "code",
     "collapsed": false,
     "input": [],
     "language": "python",
     "metadata": {},
     "outputs": []
    },
    {
     "cell_type": "code",
     "collapsed": false,
     "input": [],
     "language": "python",
     "metadata": {},
     "outputs": []
    }
   ],
   "metadata": {}
  }
 ]
}