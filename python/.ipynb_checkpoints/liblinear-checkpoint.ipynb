{
 "metadata": {
  "name": "",
  "signature": "sha256:73b1f87cc8b46bffc23f4fbe562d3e5320e149021940e2ec060fa40f453ef178"
 },
 "nbformat": 3,
 "nbformat_minor": 0,
 "worksheets": []
}