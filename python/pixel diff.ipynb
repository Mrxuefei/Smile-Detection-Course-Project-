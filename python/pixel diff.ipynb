{
 "metadata": {
  "name": "",
  "signature": "sha256:2df7ae76100e3542a7bfccfceb21f2c97e6b7f3ab2059ee23d3904dd48132e67"
 },
 "nbformat": 3,
 "nbformat_minor": 0,
 "worksheets": [
  {
   "cells": [
    {
     "cell_type": "code",
     "collapsed": false,
     "input": [
      "from feature_representation import *\n",
      "from sklearn.grid_search import GridSearchCV, RandomizedSearchCV\n",
      "import time\n",
      "from operator import itemgetter\n",
      "\n",
      "(data_x, data_y) = load_smile_data()\n",
      "img_size = 48\n",
      "\n",
      "x, y = filter_by_frontal_faces(data_x, data_y, img_size)"
     ],
     "language": "python",
     "metadata": {},
     "outputs": [
      {
       "output_type": "stream",
       "stream": "stdout",
       "text": [
        "loading data...\n",
        "--- Load data in 68.8497829437 seconds ---"
       ]
      },
      {
       "output_type": "stream",
       "stream": "stdout",
       "text": [
        "\n",
        "data size is :  24189\n",
        "Positive labels:  8989\n",
        "Negtive labels:  15200\n",
        "data size is : "
       ]
      },
      {
       "output_type": "stream",
       "stream": "stdout",
       "text": [
        " 5330\n",
        "Positive labels:  2611\n",
        "Negtive labels:  2719\n"
       ]
      }
     ],
     "prompt_number": 1
    },
    {
     "cell_type": "code",
     "collapsed": false,
     "input": [
      "import cPickle as pickle\n",
      "pickle.dump(x, open(\"x.p\", \"wb+\"))\n",
      "pickle.dump(y, open(\"y.p\", \"wb+\")) "
     ],
     "language": "python",
     "metadata": {},
     "outputs": [],
     "prompt_number": 6
    },
    {
     "cell_type": "code",
     "collapsed": false,
     "input": [
      "def scale_image(x, dst_img_size):\n",
      "    img_num = x.shape[0]\n",
      "    new_x = np.ndarray((x.shape[0], dst_img_size*dst_img_size), dtype='uint8')\n",
      "    for i in range(img_num):\n",
      "        img = x[i]\n",
      "        img = img.reshape(48, 48)\n",
      "        img = cv2.resize(img, (dst_img_size, dst_img_size))\n",
      "        new_x[i] = img.reshape(-1)\n",
      "        "
     ],
     "language": "python",
     "metadata": {},
     "outputs": [],
     "prompt_number": 2
    },
    {
     "cell_type": "code",
     "collapsed": false,
     "input": [
      "xx = scale_image(x, 24)\n",
      "xx = xx.astype('uint8')"
     ],
     "language": "python",
     "metadata": {},
     "outputs": [],
     "prompt_number": 3
    },
    {
     "cell_type": "code",
     "collapsed": false,
     "input": [
      "# # xxx = get_pixels_diff(xx)\n",
      "\n",
      "# clf = AdaBoostClassifier(n_estimators=2000)\n",
      "# scores = cross_val_score(clf, xxx, y.reshape(-1))\n",
      "# acc = scores.mean()\n",
      "\n",
      "# print \"tst 3 accuracy is : \", acc"
     ],
     "language": "python",
     "metadata": {},
     "outputs": [],
     "prompt_number": 7
    },
    {
     "cell_type": "code",
     "collapsed": false,
     "input": [
      "from feature_representation import *\n",
      "from sklearn.grid_search import GridSearchCV, RandomizedSearchCV\n",
      "import time\n",
      "from operator import itemgetter\n",
      "import cPickle as pickle\n",
      "from sklearn.grid_search import GridSearchCV, RandomizedSearchCV\n",
      "\n",
      "from operator import itemgetter\n",
      "from sklearn.ensemble import AdaBoostClassifier\n",
      "from sklearn.cross_validation import cross_val_score\n",
      "\n",
      "def scale_image(x, dst_img_size):\n",
      "    img_num = x.shape[0]\n",
      "    new_x = np.ndarray((x.shape[0], dst_img_size*dst_img_size), dtype='uint8')\n",
      "    for i in range(img_num):\n",
      "        img = x[i]\n",
      "        img = img.reshape(48, 48)\n",
      "        img = cv2.resize(img, (dst_img_size, dst_img_size))\n",
      "        new_x[i] = img.reshape(-1)\n",
      "    return new_x\n",
      "\n",
      "def get_pixels_diff(x):\n",
      "    num = x.shape[1] * (x.shape[1] -1)\n",
      "    print x.shape[0], num\n",
      "    num_of_pixels = num *x.shape[0]\n",
      "    print \"num_of_pixels is :\", num_of_pixels\n",
      "    new_x = np.ndarray((x.shape[0], num), dtype='int8')\n",
      "    cnt = 0\n",
      "    for i in range (x.shape[0]):\n",
      "        for j in range(x.shape[1]):\n",
      "            for k in range(x.shape[1]-1):\n",
      "                new_x[i][j*48 + k] = x[i][j] - x[i][k+1]\n",
      "                cnt = cnt + 1\n",
      "                if (cnt % 10000000) == 0:\n",
      "                \tprint \"processed %% \", (float(cnt)/num_of_pixels)\n",
      "\n",
      "    return new_x\n",
      "\n",
      "\n",
      "print \"loading data...\"\n",
      "start_time = time.time()\n",
      "x = pickle.load(open( \"x.p\", \"rb\"))\n",
      "y = pickle.load(open( \"y.p\", \"rb\"))\n",
      "x = x.astype(\"uint8\")\n",
      "y = y.astype(\"uint8\")\n",
      "print \"--- Load data in %s seconds ---\" % (time.time() - start_time)\n",
      "print \"data size is : \", x.shape[0]\n",
      "print \"Positive labels: \", np.count_nonzero(y)\n",
      "print \"Negtive labels: \", (x.shape[0] - np.count_nonzero(y))\n",
      "\n",
      "xx = scale_image(x, 24)\n",
      "xx = xx.astype('uint8')\n",
      "\n",
      "xxx = get_pixels_diff(xx)"
     ],
     "language": "python",
     "metadata": {},
     "outputs": [
      {
       "output_type": "stream",
       "stream": "stdout",
       "text": [
        "loading data...\n",
        "--- Load data in 14.6914849281 seconds ---"
       ]
      },
      {
       "output_type": "stream",
       "stream": "stdout",
       "text": [
        "\n",
        "data size is :  5330\n",
        "Positive labels:  2611\n",
        "Negtive labels:  2719\n",
        "5330 331200\n",
        "num_of_pixels is : 1765296000\n",
        "processed %% "
       ]
      },
      {
       "output_type": "stream",
       "stream": "stdout",
       "text": [
        " 0.00566477236679\n",
        "processed %% "
       ]
      },
      {
       "output_type": "stream",
       "stream": "stdout",
       "text": [
        " 0.0113295447336\n",
        "processed %% "
       ]
      },
      {
       "output_type": "stream",
       "stream": "stdout",
       "text": [
        " 0.0169943171004\n",
        "processed %% "
       ]
      },
      {
       "output_type": "stream",
       "stream": "stdout",
       "text": [
        " 0.0226590894671\n",
        "processed %% "
       ]
      },
      {
       "output_type": "stream",
       "stream": "stdout",
       "text": [
        " 0.0283238618339\n",
        "processed %% "
       ]
      },
      {
       "output_type": "stream",
       "stream": "stdout",
       "text": [
        " 0.0339886342007\n",
        "processed %% "
       ]
      },
      {
       "output_type": "stream",
       "stream": "stdout",
       "text": [
        " 0.0396534065675\n",
        "processed %% "
       ]
      },
      {
       "output_type": "stream",
       "stream": "stdout",
       "text": [
        " 0.0453181789343\n",
        "processed %% "
       ]
      },
      {
       "output_type": "stream",
       "stream": "stdout",
       "text": [
        " 0.0509829513011\n",
        "processed %% "
       ]
      },
      {
       "output_type": "stream",
       "stream": "stdout",
       "text": [
        " 0.0566477236679\n",
        "processed %% "
       ]
      },
      {
       "output_type": "stream",
       "stream": "stdout",
       "text": [
        " 0.0623124960347\n",
        "processed %% "
       ]
      },
      {
       "output_type": "stream",
       "stream": "stdout",
       "text": [
        " 0.0679772684014\n",
        "processed %% "
       ]
      },
      {
       "output_type": "stream",
       "stream": "stdout",
       "text": [
        " 0.0736420407682\n",
        "processed %% "
       ]
      },
      {
       "output_type": "stream",
       "stream": "stdout",
       "text": [
        " 0.079306813135\n",
        "processed %% "
       ]
      },
      {
       "output_type": "stream",
       "stream": "stdout",
       "text": [
        " 0.0849715855018\n",
        "processed %% "
       ]
      },
      {
       "output_type": "stream",
       "stream": "stdout",
       "text": [
        " 0.0906363578686\n",
        "processed %% "
       ]
      },
      {
       "output_type": "stream",
       "stream": "stdout",
       "text": [
        " 0.0963011302354\n",
        "processed %% "
       ]
      },
      {
       "output_type": "stream",
       "stream": "stdout",
       "text": [
        " 0.101965902602\n",
        "processed %% "
       ]
      },
      {
       "output_type": "stream",
       "stream": "stdout",
       "text": [
        " 0.107630674969\n",
        "processed %% "
       ]
      },
      {
       "output_type": "stream",
       "stream": "stdout",
       "text": [
        " 0.113295447336\n",
        "processed %% "
       ]
      },
      {
       "output_type": "stream",
       "stream": "stdout",
       "text": [
        " 0.118960219703\n",
        "processed %% "
       ]
      },
      {
       "output_type": "stream",
       "stream": "stdout",
       "text": [
        " 0.124624992069\n",
        "processed %% "
       ]
      },
      {
       "output_type": "stream",
       "stream": "stdout",
       "text": [
        " 0.130289764436\n",
        "processed %% "
       ]
      },
      {
       "output_type": "stream",
       "stream": "stdout",
       "text": [
        " 0.135954536803\n",
        "processed %% "
       ]
      },
      {
       "output_type": "stream",
       "stream": "stdout",
       "text": [
        " 0.14161930917\n",
        "processed %% "
       ]
      },
      {
       "output_type": "stream",
       "stream": "stdout",
       "text": [
        " 0.147284081536\n",
        "processed %% "
       ]
      },
      {
       "output_type": "stream",
       "stream": "stdout",
       "text": [
        " 0.152948853903\n",
        "processed %% "
       ]
      },
      {
       "output_type": "stream",
       "stream": "stdout",
       "text": [
        " 0.15861362627\n",
        "processed %% "
       ]
      },
      {
       "output_type": "stream",
       "stream": "stdout",
       "text": [
        " 0.164278398637\n",
        "processed %% "
       ]
      },
      {
       "output_type": "stream",
       "stream": "stdout",
       "text": [
        " 0.169943171004\n",
        "processed %% "
       ]
      },
      {
       "output_type": "stream",
       "stream": "stdout",
       "text": [
        " 0.17560794337\n",
        "processed %% "
       ]
      },
      {
       "output_type": "stream",
       "stream": "stdout",
       "text": [
        " 0.181272715737\n",
        "processed %% "
       ]
      },
      {
       "output_type": "stream",
       "stream": "stdout",
       "text": [
        " 0.186937488104\n",
        "processed %% "
       ]
      },
      {
       "output_type": "stream",
       "stream": "stdout",
       "text": [
        " 0.192602260471\n",
        "processed %% "
       ]
      },
      {
       "output_type": "stream",
       "stream": "stdout",
       "text": [
        " 0.198267032838\n",
        "processed %% "
       ]
      },
      {
       "output_type": "stream",
       "stream": "stdout",
       "text": [
        " 0.203931805204\n",
        "processed %% "
       ]
      },
      {
       "output_type": "stream",
       "stream": "stdout",
       "text": [
        " 0.209596577571\n",
        "processed %% "
       ]
      },
      {
       "output_type": "stream",
       "stream": "stdout",
       "text": [
        " 0.215261349938\n",
        "processed %% "
       ]
      },
      {
       "output_type": "stream",
       "stream": "stdout",
       "text": [
        " 0.220926122305\n",
        "processed %% "
       ]
      },
      {
       "output_type": "stream",
       "stream": "stdout",
       "text": [
        " 0.226590894671\n",
        "processed %% "
       ]
      },
      {
       "output_type": "stream",
       "stream": "stdout",
       "text": [
        " 0.232255667038\n",
        "processed %% "
       ]
      },
      {
       "output_type": "stream",
       "stream": "stdout",
       "text": [
        " 0.237920439405\n",
        "processed %% "
       ]
      },
      {
       "output_type": "stream",
       "stream": "stdout",
       "text": [
        " 0.243585211772\n",
        "processed %% "
       ]
      },
      {
       "output_type": "stream",
       "stream": "stdout",
       "text": [
        " 0.249249984139\n",
        "processed %% "
       ]
      },
      {
       "output_type": "stream",
       "stream": "stdout",
       "text": [
        " 0.254914756505\n",
        "processed %% "
       ]
      },
      {
       "output_type": "stream",
       "stream": "stdout",
       "text": [
        " 0.260579528872\n",
        "processed %% "
       ]
      },
      {
       "output_type": "stream",
       "stream": "stdout",
       "text": [
        " 0.266244301239\n",
        "processed %% "
       ]
      },
      {
       "output_type": "stream",
       "stream": "stdout",
       "text": [
        " 0.271909073606\n",
        "processed %% "
       ]
      },
      {
       "output_type": "stream",
       "stream": "stdout",
       "text": [
        " 0.277573845973\n",
        "processed %% "
       ]
      },
      {
       "output_type": "stream",
       "stream": "stdout",
       "text": [
        " 0.283238618339\n",
        "processed %% "
       ]
      },
      {
       "output_type": "stream",
       "stream": "stdout",
       "text": [
        " 0.288903390706\n",
        "processed %% "
       ]
      },
      {
       "output_type": "stream",
       "stream": "stdout",
       "text": [
        " 0.294568163073\n",
        "processed %% "
       ]
      },
      {
       "output_type": "stream",
       "stream": "stdout",
       "text": [
        " 0.30023293544\n",
        "processed %% "
       ]
      },
      {
       "output_type": "stream",
       "stream": "stdout",
       "text": [
        " 0.305897707807\n",
        "processed %% "
       ]
      },
      {
       "output_type": "stream",
       "stream": "stdout",
       "text": [
        " 0.311562480173\n",
        "processed %% "
       ]
      },
      {
       "output_type": "stream",
       "stream": "stdout",
       "text": [
        " 0.31722725254\n",
        "processed %% "
       ]
      },
      {
       "output_type": "stream",
       "stream": "stdout",
       "text": [
        " 0.322892024907\n",
        "processed %% "
       ]
      },
      {
       "output_type": "stream",
       "stream": "stdout",
       "text": [
        " 0.328556797274\n",
        "processed %% "
       ]
      },
      {
       "output_type": "stream",
       "stream": "stdout",
       "text": [
        " 0.33422156964\n",
        "processed %% "
       ]
      },
      {
       "output_type": "stream",
       "stream": "stdout",
       "text": [
        " 0.339886342007\n",
        "processed %% "
       ]
      },
      {
       "output_type": "stream",
       "stream": "stdout",
       "text": [
        " 0.345551114374\n",
        "processed %% "
       ]
      },
      {
       "output_type": "stream",
       "stream": "stdout",
       "text": [
        " 0.351215886741\n",
        "processed %% "
       ]
      },
      {
       "output_type": "stream",
       "stream": "stdout",
       "text": [
        " 0.356880659108\n",
        "processed %% "
       ]
      },
      {
       "output_type": "stream",
       "stream": "stdout",
       "text": [
        " 0.362545431474\n",
        "processed %% "
       ]
      },
      {
       "output_type": "stream",
       "stream": "stdout",
       "text": [
        " 0.368210203841\n",
        "processed %% "
       ]
      },
      {
       "output_type": "stream",
       "stream": "stdout",
       "text": [
        " 0.373874976208\n",
        "processed %% "
       ]
      },
      {
       "output_type": "stream",
       "stream": "stdout",
       "text": [
        " 0.379539748575\n",
        "processed %% "
       ]
      },
      {
       "output_type": "stream",
       "stream": "stdout",
       "text": [
        " 0.385204520942\n",
        "processed %% "
       ]
      },
      {
       "output_type": "stream",
       "stream": "stdout",
       "text": [
        " 0.390869293308\n",
        "processed %% "
       ]
      },
      {
       "output_type": "stream",
       "stream": "stdout",
       "text": [
        " 0.396534065675\n",
        "processed %% "
       ]
      },
      {
       "output_type": "stream",
       "stream": "stdout",
       "text": [
        " 0.402198838042\n",
        "processed %% "
       ]
      },
      {
       "output_type": "stream",
       "stream": "stdout",
       "text": [
        " 0.407863610409\n",
        "processed %% "
       ]
      },
      {
       "output_type": "stream",
       "stream": "stdout",
       "text": [
        " 0.413528382775\n",
        "processed %% "
       ]
      },
      {
       "output_type": "stream",
       "stream": "stdout",
       "text": [
        " 0.419193155142\n",
        "processed %% "
       ]
      },
      {
       "output_type": "stream",
       "stream": "stdout",
       "text": [
        " 0.424857927509\n",
        "processed %% "
       ]
      },
      {
       "output_type": "stream",
       "stream": "stdout",
       "text": [
        " 0.430522699876\n",
        "processed %% "
       ]
      },
      {
       "output_type": "stream",
       "stream": "stdout",
       "text": [
        " 0.436187472243\n",
        "processed %% "
       ]
      },
      {
       "output_type": "stream",
       "stream": "stdout",
       "text": [
        " 0.441852244609\n",
        "processed %% "
       ]
      },
      {
       "output_type": "stream",
       "stream": "stdout",
       "text": [
        " 0.447517016976\n",
        "processed %% "
       ]
      },
      {
       "output_type": "stream",
       "stream": "stdout",
       "text": [
        " 0.453181789343\n",
        "processed %% "
       ]
      },
      {
       "output_type": "stream",
       "stream": "stdout",
       "text": [
        " 0.45884656171\n",
        "processed %% "
       ]
      },
      {
       "output_type": "stream",
       "stream": "stdout",
       "text": [
        " 0.464511334077\n",
        "processed %% "
       ]
      },
      {
       "output_type": "stream",
       "stream": "stdout",
       "text": [
        " 0.470176106443\n",
        "processed %% "
       ]
      },
      {
       "output_type": "stream",
       "stream": "stdout",
       "text": [
        " 0.47584087881\n",
        "processed %% "
       ]
      },
      {
       "output_type": "stream",
       "stream": "stdout",
       "text": [
        " 0.481505651177\n",
        "processed %% "
       ]
      },
      {
       "output_type": "stream",
       "stream": "stdout",
       "text": [
        " 0.487170423544\n",
        "processed %% "
       ]
      },
      {
       "output_type": "stream",
       "stream": "stdout",
       "text": [
        " 0.49283519591\n",
        "processed %% "
       ]
      },
      {
       "output_type": "stream",
       "stream": "stdout",
       "text": [
        " 0.498499968277\n",
        "processed %% "
       ]
      },
      {
       "output_type": "stream",
       "stream": "stdout",
       "text": [
        " 0.504164740644\n",
        "processed %% "
       ]
      },
      {
       "output_type": "stream",
       "stream": "stdout",
       "text": [
        " 0.509829513011\n",
        "processed %% "
       ]
      },
      {
       "output_type": "stream",
       "stream": "stdout",
       "text": [
        " 0.515494285378\n",
        "processed %% "
       ]
      },
      {
       "output_type": "stream",
       "stream": "stdout",
       "text": [
        " 0.521159057744\n",
        "processed %% "
       ]
      },
      {
       "output_type": "stream",
       "stream": "stdout",
       "text": [
        " 0.526823830111\n",
        "processed %% "
       ]
      },
      {
       "output_type": "stream",
       "stream": "stdout",
       "text": [
        " 0.532488602478\n",
        "processed %% "
       ]
      },
      {
       "output_type": "stream",
       "stream": "stdout",
       "text": [
        " 0.538153374845\n",
        "processed %% "
       ]
      },
      {
       "output_type": "stream",
       "stream": "stdout",
       "text": [
        " 0.543818147212\n",
        "processed %% "
       ]
      },
      {
       "output_type": "stream",
       "stream": "stdout",
       "text": [
        " 0.549482919578\n",
        "processed %% "
       ]
      },
      {
       "output_type": "stream",
       "stream": "stdout",
       "text": [
        " 0.555147691945\n",
        "processed %% "
       ]
      },
      {
       "output_type": "stream",
       "stream": "stdout",
       "text": [
        " 0.560812464312\n",
        "processed %% "
       ]
      },
      {
       "output_type": "stream",
       "stream": "stdout",
       "text": [
        " 0.566477236679\n",
        "processed %% "
       ]
      },
      {
       "output_type": "stream",
       "stream": "stdout",
       "text": [
        " 0.572142009046\n",
        "processed %% "
       ]
      },
      {
       "output_type": "stream",
       "stream": "stdout",
       "text": [
        " 0.577806781412\n",
        "processed %% "
       ]
      },
      {
       "output_type": "stream",
       "stream": "stdout",
       "text": [
        " 0.583471553779\n",
        "processed %% "
       ]
      },
      {
       "output_type": "stream",
       "stream": "stdout",
       "text": [
        " 0.589136326146\n",
        "processed %% "
       ]
      },
      {
       "output_type": "stream",
       "stream": "stdout",
       "text": [
        " 0.594801098513\n",
        "processed %% "
       ]
      },
      {
       "output_type": "stream",
       "stream": "stdout",
       "text": [
        " 0.600465870879\n",
        "processed %% "
       ]
      },
      {
       "output_type": "stream",
       "stream": "stdout",
       "text": [
        " 0.606130643246\n",
        "processed %% "
       ]
      },
      {
       "output_type": "stream",
       "stream": "stdout",
       "text": [
        " 0.611795415613\n",
        "processed %% "
       ]
      },
      {
       "output_type": "stream",
       "stream": "stdout",
       "text": [
        " 0.61746018798\n",
        "processed %% "
       ]
      },
      {
       "output_type": "stream",
       "stream": "stdout",
       "text": [
        " 0.623124960347\n",
        "processed %% "
       ]
      },
      {
       "output_type": "stream",
       "stream": "stdout",
       "text": [
        " 0.628789732713\n",
        "processed %% "
       ]
      },
      {
       "output_type": "stream",
       "stream": "stdout",
       "text": [
        " 0.63445450508\n",
        "processed %% "
       ]
      },
      {
       "output_type": "stream",
       "stream": "stdout",
       "text": [
        " 0.640119277447\n",
        "processed %% "
       ]
      },
      {
       "output_type": "stream",
       "stream": "stdout",
       "text": [
        " 0.645784049814\n",
        "processed %% "
       ]
      },
      {
       "output_type": "stream",
       "stream": "stdout",
       "text": [
        " 0.651448822181\n",
        "processed %% "
       ]
      },
      {
       "output_type": "stream",
       "stream": "stdout",
       "text": [
        " 0.657113594547\n",
        "processed %% "
       ]
      },
      {
       "output_type": "stream",
       "stream": "stdout",
       "text": [
        " 0.662778366914\n",
        "processed %% "
       ]
      },
      {
       "output_type": "stream",
       "stream": "stdout",
       "text": [
        " 0.668443139281\n",
        "processed %% "
       ]
      },
      {
       "output_type": "stream",
       "stream": "stdout",
       "text": [
        " 0.674107911648\n",
        "processed %% "
       ]
      },
      {
       "output_type": "stream",
       "stream": "stdout",
       "text": [
        " 0.679772684014\n",
        "processed %% "
       ]
      },
      {
       "output_type": "stream",
       "stream": "stdout",
       "text": [
        " 0.685437456381\n",
        "processed %% "
       ]
      },
      {
       "output_type": "stream",
       "stream": "stdout",
       "text": [
        " 0.691102228748\n",
        "processed %% "
       ]
      },
      {
       "output_type": "stream",
       "stream": "stdout",
       "text": [
        " 0.696767001115\n",
        "processed %% "
       ]
      },
      {
       "output_type": "stream",
       "stream": "stdout",
       "text": [
        " 0.702431773482\n",
        "processed %% "
       ]
      },
      {
       "output_type": "stream",
       "stream": "stdout",
       "text": [
        " 0.708096545848\n",
        "processed %% "
       ]
      },
      {
       "output_type": "stream",
       "stream": "stdout",
       "text": [
        " 0.713761318215\n",
        "processed %% "
       ]
      },
      {
       "output_type": "stream",
       "stream": "stdout",
       "text": [
        " 0.719426090582\n",
        "processed %% "
       ]
      },
      {
       "output_type": "stream",
       "stream": "stdout",
       "text": [
        " 0.725090862949\n",
        "processed %% "
       ]
      },
      {
       "output_type": "stream",
       "stream": "stdout",
       "text": [
        " 0.730755635316\n",
        "processed %% "
       ]
      },
      {
       "output_type": "stream",
       "stream": "stdout",
       "text": [
        " 0.736420407682\n",
        "processed %% "
       ]
      },
      {
       "output_type": "stream",
       "stream": "stdout",
       "text": [
        " 0.742085180049\n",
        "processed %% "
       ]
      },
      {
       "output_type": "stream",
       "stream": "stdout",
       "text": [
        " 0.747749952416\n",
        "processed %% "
       ]
      },
      {
       "output_type": "stream",
       "stream": "stdout",
       "text": [
        " 0.753414724783\n",
        "processed %% "
       ]
      },
      {
       "output_type": "stream",
       "stream": "stdout",
       "text": [
        " 0.759079497149\n",
        "processed %% "
       ]
      },
      {
       "output_type": "stream",
       "stream": "stdout",
       "text": [
        " 0.764744269516\n",
        "processed %% "
       ]
      },
      {
       "output_type": "stream",
       "stream": "stdout",
       "text": [
        " 0.770409041883\n",
        "processed %% "
       ]
      },
      {
       "output_type": "stream",
       "stream": "stdout",
       "text": [
        " 0.77607381425\n",
        "processed %% "
       ]
      },
      {
       "output_type": "stream",
       "stream": "stdout",
       "text": [
        " 0.781738586617\n",
        "processed %% "
       ]
      },
      {
       "output_type": "stream",
       "stream": "stdout",
       "text": [
        " 0.787403358983\n",
        "processed %% "
       ]
      },
      {
       "output_type": "stream",
       "stream": "stdout",
       "text": [
        " 0.79306813135\n",
        "processed %% "
       ]
      },
      {
       "output_type": "stream",
       "stream": "stdout",
       "text": [
        " 0.798732903717\n",
        "processed %% "
       ]
      },
      {
       "output_type": "stream",
       "stream": "stdout",
       "text": [
        " 0.804397676084\n",
        "processed %% "
       ]
      },
      {
       "output_type": "stream",
       "stream": "stdout",
       "text": [
        " 0.810062448451\n",
        "processed %% "
       ]
      },
      {
       "output_type": "stream",
       "stream": "stdout",
       "text": [
        " 0.815727220817\n",
        "processed %% "
       ]
      },
      {
       "output_type": "stream",
       "stream": "stdout",
       "text": [
        " 0.821391993184\n",
        "processed %% "
       ]
      },
      {
       "output_type": "stream",
       "stream": "stdout",
       "text": [
        " 0.827056765551\n",
        "processed %% "
       ]
      },
      {
       "output_type": "stream",
       "stream": "stdout",
       "text": [
        " 0.832721537918\n",
        "processed %% "
       ]
      },
      {
       "output_type": "stream",
       "stream": "stdout",
       "text": [
        " 0.838386310285\n",
        "processed %% "
       ]
      },
      {
       "output_type": "stream",
       "stream": "stdout",
       "text": [
        " 0.844051082651\n",
        "processed %% "
       ]
      },
      {
       "output_type": "stream",
       "stream": "stdout",
       "text": [
        " 0.849715855018\n",
        "processed %% "
       ]
      },
      {
       "output_type": "stream",
       "stream": "stdout",
       "text": [
        " 0.855380627385\n",
        "processed %% "
       ]
      },
      {
       "output_type": "stream",
       "stream": "stdout",
       "text": [
        " 0.861045399752\n",
        "processed %% "
       ]
      },
      {
       "output_type": "stream",
       "stream": "stdout",
       "text": [
        " 0.866710172118\n",
        "processed %% "
       ]
      },
      {
       "output_type": "stream",
       "stream": "stdout",
       "text": [
        " 0.872374944485\n",
        "processed %% "
       ]
      },
      {
       "output_type": "stream",
       "stream": "stdout",
       "text": [
        " 0.878039716852\n",
        "processed %% "
       ]
      },
      {
       "output_type": "stream",
       "stream": "stdout",
       "text": [
        " 0.883704489219\n",
        "processed %% "
       ]
      },
      {
       "output_type": "stream",
       "stream": "stdout",
       "text": [
        " 0.889369261586\n",
        "processed %% "
       ]
      },
      {
       "output_type": "stream",
       "stream": "stdout",
       "text": [
        " 0.895034033952\n",
        "processed %% "
       ]
      },
      {
       "output_type": "stream",
       "stream": "stdout",
       "text": [
        " 0.900698806319\n",
        "processed %% "
       ]
      },
      {
       "output_type": "stream",
       "stream": "stdout",
       "text": [
        " 0.906363578686\n",
        "processed %% "
       ]
      },
      {
       "output_type": "stream",
       "stream": "stdout",
       "text": [
        " 0.912028351053\n",
        "processed %% "
       ]
      },
      {
       "output_type": "stream",
       "stream": "stdout",
       "text": [
        " 0.91769312342\n",
        "processed %% "
       ]
      },
      {
       "output_type": "stream",
       "stream": "stdout",
       "text": [
        " 0.923357895786\n",
        "processed %% "
       ]
      },
      {
       "output_type": "stream",
       "stream": "stdout",
       "text": [
        " 0.929022668153\n",
        "processed %% "
       ]
      },
      {
       "output_type": "stream",
       "stream": "stdout",
       "text": [
        " 0.93468744052\n",
        "processed %% "
       ]
      },
      {
       "output_type": "stream",
       "stream": "stdout",
       "text": [
        " 0.940352212887\n",
        "processed %% "
       ]
      },
      {
       "output_type": "stream",
       "stream": "stdout",
       "text": [
        " 0.946016985253\n",
        "processed %% "
       ]
      },
      {
       "output_type": "stream",
       "stream": "stdout",
       "text": [
        " 0.95168175762\n",
        "processed %% "
       ]
      },
      {
       "output_type": "stream",
       "stream": "stdout",
       "text": [
        " 0.957346529987\n",
        "processed %% "
       ]
      },
      {
       "output_type": "stream",
       "stream": "stdout",
       "text": [
        " 0.963011302354\n",
        "processed %% "
       ]
      },
      {
       "output_type": "stream",
       "stream": "stdout",
       "text": [
        " 0.968676074721\n",
        "processed %% "
       ]
      },
      {
       "output_type": "stream",
       "stream": "stdout",
       "text": [
        " 0.974340847087\n",
        "processed %% "
       ]
      },
      {
       "output_type": "stream",
       "stream": "stdout",
       "text": [
        " 0.980005619454\n",
        "processed %% "
       ]
      },
      {
       "output_type": "stream",
       "stream": "stdout",
       "text": [
        " 0.985670391821\n",
        "processed %% "
       ]
      },
      {
       "output_type": "stream",
       "stream": "stdout",
       "text": [
        " 0.991335164188\n",
        "processed %% "
       ]
      },
      {
       "output_type": "stream",
       "stream": "stdout",
       "text": [
        " 0.996999936555\n"
       ]
      }
     ],
     "prompt_number": 14
    },
    {
     "cell_type": "code",
     "collapsed": false,
     "input": [
      "print xxx.shape\n",
      "print y.shape\n",
      "clf = AdaBoostClassifier(n_estimators=2000)\n",
      "scores = cross_val_score(clf, xxx, y.reshape(-1))\n",
      "acc = scores.mean()\n",
      "\n",
      "print \"tst 3 accuracy is : \", acc"
     ],
     "language": "python",
     "metadata": {},
     "outputs": [
      {
       "output_type": "stream",
       "stream": "stdout",
       "text": [
        "(5330, 331200)\n",
        "(5330, 1)\n",
        "tst 3 accuracy is : "
       ]
      },
      {
       "output_type": "stream",
       "stream": "stdout",
       "text": [
        " 0.746150185619\n"
       ]
      }
     ],
     "prompt_number": 19
    },
    {
     "cell_type": "code",
     "collapsed": false,
     "input": [
      "print acc"
     ],
     "language": "python",
     "metadata": {},
     "outputs": [
      {
       "output_type": "stream",
       "stream": "stdout",
       "text": [
        "0.746150185619\n"
       ]
      }
     ],
     "prompt_number": 20
    },
    {
     "cell_type": "code",
     "collapsed": false,
     "input": [
      "print 'scores are: ',scores\n",
      "print 'mean of scores is: ', acc"
     ],
     "language": "python",
     "metadata": {},
     "outputs": [
      {
       "output_type": "stream",
       "stream": "stdout",
       "text": [
        "scores are:  [ 0.75590551  0.74324324  0.7393018 ]\n",
        "mean of scores is:  0.746150185619\n"
       ]
      }
     ],
     "prompt_number": 23
    },
    {
     "cell_type": "code",
     "collapsed": false,
     "input": [],
     "language": "python",
     "metadata": {},
     "outputs": []
    }
   ],
   "metadata": {}
  }
 ]
}