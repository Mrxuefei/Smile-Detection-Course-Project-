{
 "metadata": {
  "name": "",
  "signature": "sha256:ed0d41de9200a2d205aaef3a60c5ab6ed328c29f9a9333f1f2b5a7f8888a1975"
 },
 "nbformat": 3,
 "nbformat_minor": 0,
 "worksheets": [
  {
   "cells": [
    {
     "cell_type": "code",
     "collapsed": false,
     "input": [
      "%matplotlib inline\n",
      "from smile import load_smile_data\n",
      "import time\n",
      "from sklearn import svm, metrics\n",
      "import numpy as np\n",
      "import matplotlib.cm as cm\n",
      "import matplotlib.pyplot as plt\n",
      "import matplotlib.image as mpimg\n",
      "import cv2\n",
      "\n",
      "(data_x, data_y) = load_smile_data()"
     ],
     "language": "python",
     "metadata": {},
     "outputs": [
      {
       "output_type": "stream",
       "stream": "stdout",
       "text": [
        "--- Load data in 6.8269109726 seconds ---\n",
        "data size is :  20187\n",
        "Positive labels:  8989\n",
        "Negtive labels:  11198\n"
       ]
      }
     ],
     "prompt_number": 1
    },
    {
     "cell_type": "code",
     "collapsed": false,
     "input": [
      "from gabor_classifier import *"
     ],
     "language": "python",
     "metadata": {},
     "outputs": [],
     "prompt_number": 2
    },
    {
     "cell_type": "code",
     "collapsed": false,
     "input": [
      "x, y = filter_by_frontal_faces(data_x, data_y, 48)\n"
     ],
     "language": "python",
     "metadata": {},
     "outputs": [
      {
       "output_type": "stream",
       "stream": "stdout",
       "text": [
        "data size is :  4456\n",
        "Positive labels:  2611\n",
        "Negtive labels:  1845\n"
       ]
      }
     ],
     "prompt_number": 4
    },
    {
     "cell_type": "code",
     "collapsed": false,
     "input": [],
     "language": "python",
     "metadata": {},
     "outputs": []
    },
    {
     "cell_type": "code",
     "collapsed": false,
     "input": [
      "f = open(\"train.txt\",'wb+')\n",
      "t = open(\"val.txt\", \"wb+\")\n",
      "\n",
      "for i in range(x.shape[0]):\n",
      "    img = x[i].reshape(48, 48)\n",
      "    img = np.array(img)\n",
      "#     img = img.reshape(48, 48)\n",
      "#     if data['Usage'][i]=='Training':\n",
      "    if i < int(0.8 *x.shape[0]):\n",
      "        mpimg.imsave(\"/home/datamining/smile/data/\"+str(i)+\".png\", img, cmap=plt.cm.gray)\n",
      "        f.write(\"/home/datamining/smile/data/\"+str(i)+\".png \" + str(y[i]) + '\\n')\n",
      "    else:\n",
      "        mpimg.imsave(\"/home/datamining/smile/test/\"+str(i)+\".png\", img, cmap=plt.cm.gray)\n",
      "        t.write(\"/home/datamining/smile/test/\"+str(i)+\".png \" + str(y[i]) + '\\n')\n",
      "t.close()\n",
      "f.close()"
     ],
     "language": "python",
     "metadata": {},
     "outputs": [],
     "prompt_number": 14
    },
    {
     "cell_type": "code",
     "collapsed": false,
     "input": [],
     "language": "python",
     "metadata": {},
     "outputs": []
    }
   ],
   "metadata": {}
  }
 ]
}