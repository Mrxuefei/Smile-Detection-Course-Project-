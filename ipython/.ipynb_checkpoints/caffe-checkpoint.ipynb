{
 "metadata": {
  "name": "",
  "signature": "sha256:e2e79ac0db1895e7acdade50f5b00b9a2b50b8fbe8f9c974aab60697d652166b"
 },
 "nbformat": 3,
 "nbformat_minor": 0,
 "worksheets": [
  {
   "cells": [
    {
     "cell_type": "code",
     "collapsed": false,
     "input": [
      "##########################\n",
      "# Predict using Caffe model\n",
      "###########################\n",
      "# Make sure that caffe is on the python path:\n",
      "caffe_root = '/home/melgor/CODE/caffe/'  # this file is expected to be in {caffe_root}/examples\n",
      "import sys\n",
      "sys.path.insert(0, caffe_root + 'python')\n",
      "\n",
      "\n",
      "import caffe\n",
      "# Set the right path to your model definition file, pretrained model weights,\n",
      "# and the image you would like to classify.\n",
      "MODEL_FILE = 'p/train_val.prototxt'\n",
      "PRETRAINED = 'p/_iter_10000.caffemodel'\n",
      "# from sklearn.feature_selection import RFE\n",
      "\n",
      "max_value = batch_size from .prototxt\n",
      "net = caffe.Net (MODEL_FILE,PRETRAINED)\n",
      "net.set_phase_test()\n",
      "net.set_mode_cpu()\n",
      "data4D = np.zeros([max_value,1,1,3593]) #create 4D array, first value is batch_size, last number of inputs\n",
      "data4DL = np.zeros([max_value,1,1,1])  # need to create 4D array as output, first value is batch_size, last number of outputs\n",
      "data4D[0:max_value,0,0,:] = xtrain[0:max_value,:] # fill value of input xtrain is your value which you would like to predict\n",
      "print [(k, v[0].data.shape) for k, v in net.params.items()]\n",
      "net.set_input_arrays(data4D.astype(np.float32),data4DL.astype(np.float32))\n",
      "pred = net.forward()\n",
      "pred_normal = np.zeros([max_value,5])\n",
      "for i in range(0,max_value):\n",
      " pred_normal[i,0] = pred['fc3'][i][0]\n",
      "\n",
      "\n",
      "#plot result\n",
      "import matplotlib.pyplot as plt\n",
      "time = [ i for i in range(0,max_value)]\n",
      "plt.plot(time, ytrain, 'b',label='Real')\n",
      "plt.plot(time, pred_normal[:,0], 'r',label='Predict')\n",
      "plt.grid(True)\n",
      "plt.legend()\n",
      "plt.show()"
     ],
     "language": "python",
     "metadata": {},
     "outputs": []
    }
   ],
   "metadata": {}
  }
 ]
}