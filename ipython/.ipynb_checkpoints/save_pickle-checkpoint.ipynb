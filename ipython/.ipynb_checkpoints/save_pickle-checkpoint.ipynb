{
 "metadata": {
  "name": "",
  "signature": "sha256:332c859450fe04f60f38165162fc33529861d28227567c226dcfe3cbc9075e9b"
 },
 "nbformat": 3,
 "nbformat_minor": 0,
 "worksheets": [
  {
   "cells": [
    {
     "cell_type": "code",
     "collapsed": false,
     "input": [
      "%matplotlib inline\n",
      "import cPickle as pickle\n",
      "import time\n",
      "import random\n",
      "import pandas as pd\n",
      "from sklearn import svm, metrics\n",
      "from sklearn.decomposition import PCA\n",
      "import collections\n",
      "import numpy as np\n",
      "import matplotlib.cm as cm\n",
      "import matplotlib.pyplot as plt\n",
      "import matplotlib.image as mpimg"
     ],
     "language": "python",
     "metadata": {},
     "outputs": [],
     "prompt_number": 25
    },
    {
     "cell_type": "code",
     "collapsed": false,
     "input": [
      "data = pd.read_csv('../fer2013.csv')\n",
      "print data.shape\n",
      "\n",
      "for i in range(data.shape[0]):\n",
      "    data['emotion'][i] = int(data['emotion'][i])\n",
      "    img = data['pixels'][i].split()\n",
      "    img = map(int, img)\n",
      "    img = np.array(img, dtype='uint8')\n",
      "    data['pixels'][i] = img"
     ],
     "language": "python",
     "metadata": {},
     "outputs": [
      {
       "output_type": "stream",
       "stream": "stdout",
       "text": [
        "(35887, 3)\n"
       ]
      }
     ],
     "prompt_number": 26
    },
    {
     "cell_type": "code",
     "collapsed": false,
     "input": [
      "def shuffle(df):\n",
      "    rows = random.sample(df.index, df.shape[0])\n",
      "    df = df.ix[rows]\n",
      "    df = df.reset_index(drop=True)\n",
      "    return df"
     ],
     "language": "python",
     "metadata": {},
     "outputs": [],
     "prompt_number": 27
    },
    {
     "cell_type": "code",
     "collapsed": false,
     "input": [
      "train = data[data.Usage=='Training']\n",
      "val = data[data.Usage!='Training']\n",
      "\n",
      "x_1 = data[data.emotion==3]\n",
      "x_0 = data[map(lambda x: ((x == 2) or (x == 4)), data[\"emotion\"])]\n",
      "\n",
      "# print x_1.shape\n",
      "\n",
      "x_1.emotion=1\n",
      "x_0.emotion=0\n",
      "# x_1.loc['emotion']=1\n",
      "# x_0.loc['emotion']=0\n",
      "x_1 = x_1.reset_index(drop=True)\n",
      "x_0 = shuffle(x_0)\n",
      "x_0 = x_0.reset_index(drop=True)\n",
      "x_1 = x_1[:2000]\n",
      "x_0 = x_0[:x_1.shape[0]]\n",
      "d = pd.concat([x_0, x_1])\n",
      "d = d.reset_index(drop=True)\n",
      "d = shuffle(d)\n"
     ],
     "language": "python",
     "metadata": {},
     "outputs": [],
     "prompt_number": 28
    },
    {
     "cell_type": "code",
     "collapsed": false,
     "input": [
      "x = np.ndarray((d['pixels'].shape[0], d['pixels'][0].shape[0]), dtype='uint8')\n",
      "y = np.ndarray((d['pixels'].shape[0], 1), dtype='uint8')\n",
      "for i in range(d.shape[0]):\n",
      "    x[i] = d['pixels'][i]\n",
      "    y[i] = d['emotion'][i]\n",
      "\n",
      "print x.shape, y.shape"
     ],
     "language": "python",
     "metadata": {},
     "outputs": [
      {
       "output_type": "stream",
       "stream": "stdout",
       "text": [
        "(4000, 2304) (4000, 1)\n"
       ]
      }
     ],
     "prompt_number": 29
    },
    {
     "cell_type": "code",
     "collapsed": false,
     "input": [
      "pickle.dump(x, open(\"smile_data.p\", \"wb\"))\n",
      "pickle.dump(y, open(\"smile_labels.p\", \"wb\"))"
     ],
     "language": "python",
     "metadata": {},
     "outputs": [],
     "prompt_number": 30
    },
    {
     "cell_type": "code",
     "collapsed": false,
     "input": [
      "start_time = time.time()\n",
      "x = pickle.load(open( \"smile_data.p\", \"rb\"))\n",
      "y = pickle.load(open( \"smile_labels.p\", \"rb\"))\n",
      "print \"--- %s seconds ---\" % (time.time() - start_time)"
     ],
     "language": "python",
     "metadata": {},
     "outputs": [
      {
       "output_type": "stream",
       "stream": "stdout",
       "text": [
        "--- 1.52289104462 seconds ---\n"
       ]
      }
     ],
     "prompt_number": 31
    },
    {
     "cell_type": "code",
     "collapsed": false,
     "input": [
      "print x.shape, y.shape"
     ],
     "language": "python",
     "metadata": {},
     "outputs": [
      {
       "output_type": "stream",
       "stream": "stdout",
       "text": [
        "(4000, 2304) (4000, 1)\n"
       ]
      }
     ],
     "prompt_number": 32
    },
    {
     "cell_type": "code",
     "collapsed": false,
     "input": [
      "print x.dtype"
     ],
     "language": "python",
     "metadata": {},
     "outputs": [
      {
       "output_type": "stream",
       "stream": "stdout",
       "text": [
        "int8\n"
       ]
      }
     ],
     "prompt_number": 33
    },
    {
     "cell_type": "code",
     "collapsed": false,
     "input": [],
     "language": "python",
     "metadata": {},
     "outputs": []
    }
   ],
   "metadata": {}
  }
 ]
}