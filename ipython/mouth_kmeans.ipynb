{
 "metadata": {
  "name": "",
  "signature": "sha256:59c330a2052a8de62440cc553e060aa4334f2375d55a02ac565c3b9e5fbd838e"
 },
 "nbformat": 3,
 "nbformat_minor": 0,
 "worksheets": [
  {
   "cells": [
    {
     "cell_type": "code",
     "collapsed": false,
     "input": [
      "%matplotlib inline\n",
      "from smile import load_smile_data\n",
      "import time\n",
      "from sklearn import svm, metrics\n",
      "import numpy as np\n",
      "import matplotlib.cm as cm\n",
      "import matplotlib.pyplot as plt\n",
      "import matplotlib.image as mpimg\n",
      "import scipy\n",
      "from sklearn.cluster import KMeans"
     ],
     "language": "python",
     "metadata": {},
     "outputs": [],
     "prompt_number": 44
    },
    {
     "cell_type": "code",
     "collapsed": false,
     "input": [
      "(x, y) = load_smile_data()"
     ],
     "language": "python",
     "metadata": {},
     "outputs": [
      {
       "output_type": "stream",
       "stream": "stdout",
       "text": [
        "--- Load data in 51.0653221607 seconds ---\n"
       ]
      }
     ],
     "prompt_number": 45
    },
    {
     "cell_type": "code",
     "collapsed": false,
     "input": [
      "k_clusters = 20\n",
      "mouth_x = np.ndarray((x.shape[0],14*24))\n",
      "# y = np.ndarray((x.shape[0],1))\n",
      "for i in range(x.shape[0]):\n",
      "    img = x[i]\n",
      "    img = img.reshape(48,48)\n",
      "    img = img[32:46, 12:36]\n",
      "    mouth_x[i] = img.reshape(-1)\n",
      "    if np.sum(mouth_x[i]) == 0:\n",
      "        mouth_x[i][0] = 1\n",
      "#     y[i] = data['emotion'][i]\n",
      "\n",
      "print mouth_x.flags['C_CONTIGUOUS']"
     ],
     "language": "python",
     "metadata": {},
     "outputs": [
      {
       "output_type": "stream",
       "stream": "stdout",
       "text": [
        "True\n"
       ]
      }
     ],
     "prompt_number": 71
    },
    {
     "cell_type": "code",
     "collapsed": false,
     "input": [
      "def print_result(pred, validation_data_y):\n",
      "    true_positive  = np.count_nonzero(np.logical_and(pred, validation_data_y))\n",
      "    true_negtive   = np.count_nonzero(np.logical_and((pred==0),(validation_data_y==0)))\n",
      "    false_positive = np.count_nonzero(np.logical_and((pred==1),(validation_data_y==0)))\n",
      "    false_negtive  = np.count_nonzero(np.logical_and((pred==0),(validation_data_y==1)))\n",
      "\n",
      "    recall = float(true_positive)/(true_positive+false_negtive)\n",
      "    precision = float(true_positive)/(true_positive+false_positive)\n",
      "    f1 = recall*precision/(recall+precision)\n",
      "    error_rate = float(false_negtive + false_positive)/(validation_data_y.shape[0])\n",
      "\n",
      "    print \"Num of test data:\", validation_data_y.shape[0]\n",
      "    print \"true_positive:    %s\"%(true_positive)\n",
      "    print \"true_negtive:     %s\"%(true_negtive)\n",
      "    print \"false_positive:   %s\"%(false_positive)\n",
      "    print \"false_negtive:    %s\"%(false_negtive)\n",
      "    print \"total:            %s\"%((true_positive)+(true_negtive)+(false_positive)+(false_negtive))\n",
      "    print \"recall:           %s\"%recall\n",
      "    print \"precision:        %s\"%precision\n",
      "    print \"Error Rate        %s\"%error_rate\n",
      "    print \"Acuracy:          %s\"%(1-error_rate)"
     ],
     "language": "python",
     "metadata": {},
     "outputs": [],
     "prompt_number": 72
    },
    {
     "cell_type": "code",
     "collapsed": false,
     "input": [
      "tst_num = int(0.2 * mouth_x.shape[0])\n",
      "\n",
      "train_data_x       = mouth_x[:-tst_num]\n",
      "train_data_y       = y[:-tst_num].reshape(-1)\n",
      "validation_data_x  = mouth_x[-tst_num:]\n",
      "validation_data_y  = y[-tst_num:].reshape(-1)\n",
      "\n",
      "print train_data_x.flags['C_CONTIGUOUS']"
     ],
     "language": "python",
     "metadata": {},
     "outputs": [
      {
       "output_type": "stream",
       "stream": "stdout",
       "text": [
        "True\n"
       ]
      }
     ],
     "prompt_number": 73
    },
    {
     "cell_type": "code",
     "collapsed": false,
     "input": [
      "start_time = time.time()\n",
      "clf= svm.LinearSVC()\n",
      "clf.fit(train_data_x, train_data_y)\n",
      "pred = clf.predict(validation_data_x)\n",
      "print \"--- %s seconds ---\" % (time.time() - start_time)"
     ],
     "language": "python",
     "metadata": {},
     "outputs": [
      {
       "output_type": "stream",
       "stream": "stdout",
       "text": [
        "--- 19.5004611015 seconds ---\n"
       ]
      }
     ],
     "prompt_number": 74
    },
    {
     "cell_type": "code",
     "collapsed": false,
     "input": [
      "print_result(pred, validation_data_y)"
     ],
     "language": "python",
     "metadata": {},
     "outputs": [
      {
       "output_type": "stream",
       "stream": "stdout",
       "text": [
        "Num of test data: 3595\n",
        "true_positive:    1731\n",
        "true_negtive:     146\n",
        "false_positive:   1687\n",
        "false_negtive:    31\n",
        "total:            3595\n",
        "recall:           0.982406356413\n",
        "precision:        0.50643651258\n",
        "Error Rate        0.477885952712\n",
        "Acuracy:          0.522114047288\n"
       ]
      }
     ],
     "prompt_number": 75
    },
    {
     "cell_type": "code",
     "collapsed": false,
     "input": [
      "start_time = time.time()\n",
      "kmeans_mouth = KMeans(init='k-means++', n_clusters=k_clusters, n_init=10)\n",
      "kmeans_mouth.fit(mouth_x)\n",
      "print \"--- %s seconds ---\" % (time.time() - start_time)\n",
      "centroids = kmeans_mouth.cluster_centers_"
     ],
     "language": "python",
     "metadata": {},
     "outputs": [
      {
       "output_type": "stream",
       "stream": "stdout",
       "text": [
        "--- 73.6824848652 seconds ---\n"
       ]
      }
     ],
     "prompt_number": 76
    },
    {
     "cell_type": "code",
     "collapsed": false,
     "input": [
      "xx = np.ndarray((mouth_x.shape[0], centroids.shape[0]))\n",
      "\n",
      "for i in range (mouth_x.shape[0]):\n",
      "    for j in range (centroids.shape[0]):\n",
      "        xx[i][j] = np.linalg.norm(mouth_x[i]-centroids[j])\n",
      "\n",
      "train_data_x       = xx[:-tst_num]\n",
      "train_data_y       = y[:-tst_num].reshape(-1)\n",
      "validation_data_x  = xx[-tst_num:]\n",
      "validation_data_y  = y[-tst_num:].reshape(-1)        \n",
      "        \n",
      "start_time = time.time()\n",
      "clf= svm.LinearSVC()\n",
      "clf.fit(train_data_x, train_data_y)\n",
      "pred = clf.predict(validation_data_x)\n",
      "print \"--- %s seconds ---\" % (time.time() - start_time)\n",
      "\n",
      "print_result(pred, validation_data_y)"
     ],
     "language": "python",
     "metadata": {},
     "outputs": [
      {
       "output_type": "stream",
       "stream": "stdout",
       "text": [
        "--- 2.60719799995 seconds ---\n"
       ]
      },
      {
       "ename": "ZeroDivisionError",
       "evalue": "float division by zero",
       "output_type": "pyerr",
       "traceback": [
        "\u001b[1;31m---------------------------------------------------------------------------\u001b[0m\n\u001b[1;31mZeroDivisionError\u001b[0m                         Traceback (most recent call last)",
        "\u001b[1;32m<ipython-input-77-3aa8682b5c1b>\u001b[0m in \u001b[0;36m<module>\u001b[1;34m()\u001b[0m\n\u001b[0;32m     16\u001b[0m \u001b[1;32mprint\u001b[0m \u001b[1;34m\"--- %s seconds ---\"\u001b[0m \u001b[1;33m%\u001b[0m \u001b[1;33m(\u001b[0m\u001b[0mtime\u001b[0m\u001b[1;33m.\u001b[0m\u001b[0mtime\u001b[0m\u001b[1;33m(\u001b[0m\u001b[1;33m)\u001b[0m \u001b[1;33m-\u001b[0m \u001b[0mstart_time\u001b[0m\u001b[1;33m)\u001b[0m\u001b[1;33m\u001b[0m\u001b[0m\n\u001b[0;32m     17\u001b[0m \u001b[1;33m\u001b[0m\u001b[0m\n\u001b[1;32m---> 18\u001b[1;33m \u001b[0mprint_result\u001b[0m\u001b[1;33m(\u001b[0m\u001b[0mpred\u001b[0m\u001b[1;33m,\u001b[0m \u001b[0mvalidation_data_y\u001b[0m\u001b[1;33m)\u001b[0m\u001b[1;33m\u001b[0m\u001b[0m\n\u001b[0m",
        "\u001b[1;32m<ipython-input-72-e485010c813e>\u001b[0m in \u001b[0;36mprint_result\u001b[1;34m(pred, validation_data_y)\u001b[0m\n\u001b[0;32m      6\u001b[0m \u001b[1;33m\u001b[0m\u001b[0m\n\u001b[0;32m      7\u001b[0m     \u001b[0mrecall\u001b[0m \u001b[1;33m=\u001b[0m \u001b[0mfloat\u001b[0m\u001b[1;33m(\u001b[0m\u001b[0mtrue_positive\u001b[0m\u001b[1;33m)\u001b[0m\u001b[1;33m/\u001b[0m\u001b[1;33m(\u001b[0m\u001b[0mtrue_positive\u001b[0m\u001b[1;33m+\u001b[0m\u001b[0mfalse_negtive\u001b[0m\u001b[1;33m)\u001b[0m\u001b[1;33m\u001b[0m\u001b[0m\n\u001b[1;32m----> 8\u001b[1;33m     \u001b[0mprecision\u001b[0m \u001b[1;33m=\u001b[0m \u001b[0mfloat\u001b[0m\u001b[1;33m(\u001b[0m\u001b[0mtrue_positive\u001b[0m\u001b[1;33m)\u001b[0m\u001b[1;33m/\u001b[0m\u001b[1;33m(\u001b[0m\u001b[0mtrue_positive\u001b[0m\u001b[1;33m+\u001b[0m\u001b[0mfalse_positive\u001b[0m\u001b[1;33m)\u001b[0m\u001b[1;33m\u001b[0m\u001b[0m\n\u001b[0m\u001b[0;32m      9\u001b[0m     \u001b[0mf1\u001b[0m \u001b[1;33m=\u001b[0m \u001b[0mrecall\u001b[0m\u001b[1;33m*\u001b[0m\u001b[0mprecision\u001b[0m\u001b[1;33m/\u001b[0m\u001b[1;33m(\u001b[0m\u001b[0mrecall\u001b[0m\u001b[1;33m+\u001b[0m\u001b[0mprecision\u001b[0m\u001b[1;33m)\u001b[0m\u001b[1;33m\u001b[0m\u001b[0m\n\u001b[0;32m     10\u001b[0m     \u001b[0merror_rate\u001b[0m \u001b[1;33m=\u001b[0m \u001b[0mfloat\u001b[0m\u001b[1;33m(\u001b[0m\u001b[0mfalse_negtive\u001b[0m \u001b[1;33m+\u001b[0m \u001b[0mfalse_positive\u001b[0m\u001b[1;33m)\u001b[0m\u001b[1;33m/\u001b[0m\u001b[1;33m(\u001b[0m\u001b[0mvalidation_data_y\u001b[0m\u001b[1;33m.\u001b[0m\u001b[0mshape\u001b[0m\u001b[1;33m[\u001b[0m\u001b[1;36m0\u001b[0m\u001b[1;33m]\u001b[0m\u001b[1;33m)\u001b[0m\u001b[1;33m\u001b[0m\u001b[0m\n",
        "\u001b[1;31mZeroDivisionError\u001b[0m: float division by zero"
       ]
      }
     ],
     "prompt_number": 77
    },
    {
     "cell_type": "code",
     "collapsed": false,
     "input": [
      "xxx = np.ndarray((mouth_x.shape[0], centroids.shape[0]))\n",
      "\n",
      "for i in range (mouth_x.shape[0]):\n",
      "    for j in range (centroids.shape[0]):\n",
      "        xxx[i][j] = scipy.spatial.distance.cosine(mouth_x[i],centroids[j])\n",
      "        if np.isnan(xxx[i][j]):\n",
      "            print mouth_x[i]\n",
      "\n",
      "train_data_x       = xxx[:-tst_num]\n",
      "train_data_y       = y[:-tst_num].reshape(-1)\n",
      "validation_data_x  = xxx[-tst_num:]\n",
      "validation_data_y  = y[-tst_num:].reshape(-1)        \n",
      "        \n",
      "start_time = time.time()\n",
      "clf= svm.LinearSVC()\n",
      "clf.fit(train_data_x, train_data_y)\n",
      "pred = clf.predict(validation_data_x)\n",
      "print \"--- %s seconds ---\" % (time.time() - start_time)\n",
      "\n",
      "print_result(pred, validation_data_y)"
     ],
     "language": "python",
     "metadata": {},
     "outputs": []
    },
    {
     "cell_type": "code",
     "collapsed": false,
     "input": [
      "def normalization(matrix):\n",
      "    ret = matrix\n",
      "    for v in ret:\n",
      "        s = np.sum(v)\n",
      "        if s == 0:\n",
      "            print \"sum is zero\"\n",
      "        else:\n",
      "            v /= s\n",
      "    return ret\n",
      "\n",
      "nor_cent = centroids\n",
      "nor_mouth = mouth_x\n",
      "nor_cent = normalization(nor_cent)\n",
      "nor_mouth = normalization(nor_mouth)\n",
      "# print np.sum(tst[2]), np.sum(nor_mouth[3])\n",
      "print nor_mouth.shape, mouth_x.shape"
     ],
     "language": "python",
     "metadata": {},
     "outputs": []
    },
    {
     "cell_type": "code",
     "collapsed": false,
     "input": [
      "xxxx = np.ndarray((mouth_x.shape[0], centroids.shape[0]))\n",
      "\n",
      "for i in range (mouth_x.shape[0]):\n",
      "    for j in range (centroids.shape[0]):\n",
      "        xxxx[i][j] = scipy.stats.entropy(nor_mouth[i], nor_cent[j])\n",
      "        if np.isnan(xxxx[i][j]):\n",
      "#             print \"is nan\"\n",
      "            xxxx[i][j] = 0\n",
      "        if np.isinf(xxxx[i][j]):\n",
      "#             print \"is inf\"\n",
      "            xxxx[i][j] = 0.9999\n",
      "\n",
      "train_data_x       = xxxx[:-tst_num]\n",
      "train_data_y       = y[:-tst_num].reshape(-1)\n",
      "validation_data_x  = xxxx[-tst_num:]\n",
      "validation_data_y  = y[-tst_num:].reshape(-1)        \n",
      "        \n",
      "start_time = time.time()\n",
      "clf= svm.LinearSVC()\n",
      "clf.fit(train_data_x, train_data_y)\n",
      "pred = clf.predict(validation_data_x)\n",
      "print \"--- %s seconds ---\" % (time.time() - start_time)\n",
      "\n",
      "print_result(pred, validation_data_y)"
     ],
     "language": "python",
     "metadata": {},
     "outputs": []
    },
    {
     "cell_type": "code",
     "collapsed": false,
     "input": [],
     "language": "python",
     "metadata": {},
     "outputs": []
    },
    {
     "cell_type": "code",
     "collapsed": false,
     "input": [],
     "language": "python",
     "metadata": {},
     "outputs": [],
     "prompt_number": 70
    },
    {
     "cell_type": "code",
     "collapsed": false,
     "input": [],
     "language": "python",
     "metadata": {},
     "outputs": [],
     "prompt_number": 70
    },
    {
     "cell_type": "code",
     "collapsed": false,
     "input": [],
     "language": "python",
     "metadata": {},
     "outputs": []
    }
   ],
   "metadata": {}
  }
 ]
}