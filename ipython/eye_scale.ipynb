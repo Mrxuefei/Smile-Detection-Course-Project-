{
 "metadata": {
  "name": "",
  "signature": "sha256:0cae80e1185d24c3da5eef2cbcae6797b04394e7f88f1674ffce1f94612d1280"
 },
 "nbformat": 3,
 "nbformat_minor": 0,
 "worksheets": [
  {
   "cells": [
    {
     "cell_type": "code",
     "collapsed": false,
     "input": [
      "%matplotlib inline\n",
      "from smile import load_smile_data\n",
      "import time\n",
      "from sklearn import svm, metrics\n",
      "import numpy as np\n",
      "import matplotlib.cm as cm\n",
      "import matplotlib.pyplot as plt\n",
      "import matplotlib.image as mpimg\n",
      "import cv2"
     ],
     "language": "python",
     "metadata": {},
     "outputs": [],
     "prompt_number": 1
    },
    {
     "cell_type": "code",
     "collapsed": false,
     "input": [
      "(data_x, data_y) = load_smile_data()"
     ],
     "language": "python",
     "metadata": {},
     "outputs": [
      {
       "output_type": "stream",
       "stream": "stdout",
       "text": [
        "--- Load data in 6.63139605522 seconds ---\n",
        "data size is :  20187\n",
        "Positive labels:  8989\n",
        "Negtive labels:  11198\n"
       ]
      }
     ],
     "prompt_number": 2
    },
    {
     "cell_type": "code",
     "collapsed": false,
     "input": [
      "print x.shape\n",
      "\n",
      "face_cascade = cv2.CascadeClassifier('/home/datamining/opencv/data/haarcascades/haarcascade_frontalface_default.xml')\n",
      "\n",
      "def get_frontal_face(img, img_size, scale=1.1, size=5, ):\n",
      "    faces = face_cascade.detectMultiScale(img, scale, size)\n",
      "    if len(faces) > 0:\n",
      "        (x,y,w,h) = faces[0]\n",
      "        sub_img = img[x:x+w+4, y:y+h+4]\n",
      "        sub_img = cv2.resize(sub_img, (img_size, img_size))\n",
      "        return sub_img\n",
      "    return None"
     ],
     "language": "python",
     "metadata": {},
     "outputs": [
      {
       "ename": "NameError",
       "evalue": "name 'x' is not defined",
       "output_type": "pyerr",
       "traceback": [
        "\u001b[1;31m---------------------------------------------------------------------------\u001b[0m\n\u001b[1;31mNameError\u001b[0m                                 Traceback (most recent call last)",
        "\u001b[1;32m<ipython-input-3-e66ee4265cfd>\u001b[0m in \u001b[0;36m<module>\u001b[1;34m()\u001b[0m\n\u001b[1;32m----> 1\u001b[1;33m \u001b[1;32mprint\u001b[0m \u001b[0mx\u001b[0m\u001b[1;33m.\u001b[0m\u001b[0mshape\u001b[0m\u001b[1;33m\u001b[0m\u001b[0m\n\u001b[0m\u001b[0;32m      2\u001b[0m \u001b[1;33m\u001b[0m\u001b[0m\n\u001b[0;32m      3\u001b[0m \u001b[0mface_cascade\u001b[0m \u001b[1;33m=\u001b[0m \u001b[0mcv2\u001b[0m\u001b[1;33m.\u001b[0m\u001b[0mCascadeClassifier\u001b[0m\u001b[1;33m(\u001b[0m\u001b[1;34m'/home/datamining/opencv/data/haarcascades/haarcascade_frontalface_default.xml'\u001b[0m\u001b[1;33m)\u001b[0m\u001b[1;33m\u001b[0m\u001b[0m\n\u001b[0;32m      4\u001b[0m \u001b[1;33m\u001b[0m\u001b[0m\n\u001b[0;32m      5\u001b[0m \u001b[1;32mdef\u001b[0m \u001b[0mget_frontal_face\u001b[0m\u001b[1;33m(\u001b[0m\u001b[0mimg\u001b[0m\u001b[1;33m,\u001b[0m \u001b[0mimg_size\u001b[0m\u001b[1;33m,\u001b[0m \u001b[0mscale\u001b[0m\u001b[1;33m=\u001b[0m\u001b[1;36m1.1\u001b[0m\u001b[1;33m,\u001b[0m \u001b[0msize\u001b[0m\u001b[1;33m=\u001b[0m\u001b[1;36m5\u001b[0m\u001b[1;33m,\u001b[0m \u001b[1;33m)\u001b[0m\u001b[1;33m:\u001b[0m\u001b[1;33m\u001b[0m\u001b[0m\n",
        "\u001b[1;31mNameError\u001b[0m: name 'x' is not defined"
       ]
      }
     ],
     "prompt_number": 3
    },
    {
     "cell_type": "code",
     "collapsed": false,
     "input": [
      "def filter_by_frontal_faces(x, y, img_size, scale, size):\n",
      "    xx = []\n",
      "    yy = []\n",
      "    for i in range(x.shape[0]):\n",
      "        img = x[i].reshape(48, 48)\n",
      "        sub = get_frontal_face(img, img_size, scale=scale, size=size)\n",
      "        if sub != None:\n",
      "            xx.append(np.ravel(sub))\n",
      "            yy.append(y[i])\n",
      "    xxx = np.zeros((len(xx), len(xx[0])))\n",
      "    yyy = np.zeros((len(xx), 1))\n",
      "\n",
      "    for i in range(len(xx)):\n",
      "        xxx[i] = np.array(xx[i])\n",
      "        yyy[i] = int(yy[i])\n",
      "\n",
      "    print \"scale is : \", scale\n",
      "    print \"data size is : \", xxx.shape[0]\n",
      "    print \"Positive labels: \", np.count_nonzero(yyy)\n",
      "    print \"Negtive labels: \", (xxx.shape[0] - np.count_nonzero(yyy))\n",
      "    # print np.count_nonzero(yyy)\n",
      "    return xxx, yyy"
     ],
     "language": "python",
     "metadata": {},
     "outputs": [],
     "prompt_number": 4
    },
    {
     "cell_type": "code",
     "collapsed": false,
     "input": [
      "x, y = filter_by_frontal_faces(data_x, data_y, 48)"
     ],
     "language": "python",
     "metadata": {},
     "outputs": [
      {
       "ename": "TypeError",
       "evalue": "filter_by_frontal_faces() takes exactly 5 arguments (3 given)",
       "output_type": "pyerr",
       "traceback": [
        "\u001b[1;31m---------------------------------------------------------------------------\u001b[0m\n\u001b[1;31mTypeError\u001b[0m                                 Traceback (most recent call last)",
        "\u001b[1;32m<ipython-input-5-3fd25eda03e9>\u001b[0m in \u001b[0;36m<module>\u001b[1;34m()\u001b[0m\n\u001b[1;32m----> 1\u001b[1;33m \u001b[0mx\u001b[0m\u001b[1;33m,\u001b[0m \u001b[0my\u001b[0m \u001b[1;33m=\u001b[0m \u001b[0mfilter_by_frontal_faces\u001b[0m\u001b[1;33m(\u001b[0m\u001b[0mdata_x\u001b[0m\u001b[1;33m,\u001b[0m \u001b[0mdata_y\u001b[0m\u001b[1;33m,\u001b[0m \u001b[1;36m48\u001b[0m\u001b[1;33m)\u001b[0m\u001b[1;33m\u001b[0m\u001b[0m\n\u001b[0m",
        "\u001b[1;31mTypeError\u001b[0m: filter_by_frontal_faces() takes exactly 5 arguments (3 given)"
       ]
      }
     ],
     "prompt_number": 5
    },
    {
     "cell_type": "code",
     "collapsed": false,
     "input": [
      "for i in range(10):\n",
      "    for j in range(10):\n",
      "        filter_by_frontal_faces(data_x, data_y, 48, (1+float(i)/20), j)"
     ],
     "language": "python",
     "metadata": {},
     "outputs": []
    },
    {
     "cell_type": "code",
     "collapsed": false,
     "input": [],
     "language": "python",
     "metadata": {},
     "outputs": []
    }
   ],
   "metadata": {}
  }
 ]
}