{
 "metadata": {
  "name": "",
  "signature": "sha256:443bd32fc82e994ac2e9d95516d4e54dda87f5797d97a452f276f74dbf5fb046"
 },
 "nbformat": 3,
 "nbformat_minor": 0,
 "worksheets": [
  {
   "cells": [
    {
     "cell_type": "code",
     "collapsed": false,
     "input": [
      "%matplotlib inline\n",
      "import numpy as np\n",
      "import cv2\n",
      "from smile import load_smile_data\n",
      "import time\n",
      "from sklearn import svm, metrics\n",
      "import numpy as np\n",
      "import matplotlib.cm as cm\n",
      "import matplotlib.pyplot as plt\n",
      "import matplotlib.image as mpimg\n",
      "import scipy\n",
      "from sklearn.cluster import KMeans\n",
      "(x, y) = load_smile_data()"
     ],
     "language": "python",
     "metadata": {},
     "outputs": [
      {
       "output_type": "stream",
       "stream": "stdout",
       "text": [
        "--- Load data in 55.8840169907 seconds ---\n"
       ]
      }
     ],
     "prompt_number": 1
    },
    {
     "cell_type": "code",
     "collapsed": false,
     "input": [
      "def build_filters():\n",
      "    filters = []\n",
      "    ksize = 48\n",
      "    lambd =[1.17, 1.65, 2.33, 3.30, 4.67]\n",
      "    for theta in np.arange(0, np.pi, np.pi / 8):\n",
      "        for l in lambd:\n",
      "            kern = cv2.getGaborKernel((ksize, ksize), 4.0, theta, l, 0.5, 0, ktype=cv2.CV_32F)\n",
      "#             kern /= 1.5*kern.sum()\n",
      "            filters.append(kern)\n",
      "    return filters\n",
      "\n",
      "img = x[0].reshape(48, 48)\n",
      "\n",
      "def process(img, filters):\n",
      "    result = []\n",
      "    for kern in filters:\n",
      "        fimg = cv2.filter2D(img, cv2.CV_8UC3, kern)\n",
      "        l = np.ravel(fimg)\n",
      "        result.extend(l.tolist())\n",
      "    return result\n",
      "filters = build_filters()\n",
      "\n",
      "res1 = process(img, filters)\n",
      "f = len(res1)\n",
      "print f\n",
      "\n",
      "xx = np.zeros((x.shape[0], f))\n",
      "# print xx.shape\n",
      "\n",
      "for i in range(x.shape[0]):\n",
      "    img = x[i].reshape(48, 48)\n",
      "    xx[i] = process(img, filters)"
     ],
     "language": "python",
     "metadata": {},
     "outputs": [
      {
       "output_type": "stream",
       "stream": "stdout",
       "text": [
        "92160\n"
       ]
      }
     ],
     "prompt_number": 2
    },
    {
     "cell_type": "code",
     "collapsed": false,
     "input": [
      "tst_num = int(0.2 * xx.shape[0])\n",
      "\n",
      "train_data_x       = xx[:-tst_num]\n",
      "train_data_y       = y[:-tst_num].reshape(-1)\n",
      "validation_data_x  = xx[-tst_num:]\n",
      "validation_data_y  = y[-tst_num:].reshape(-1)"
     ],
     "language": "python",
     "metadata": {},
     "outputs": [],
     "prompt_number": 3
    },
    {
     "cell_type": "code",
     "collapsed": false,
     "input": [
      "def print_result(pred, validation_data_y):\n",
      "    true_positive  = np.count_nonzero(np.logical_and(pred, validation_data_y))\n",
      "    true_negtive   = np.count_nonzero(np.logical_and((pred==0),(validation_data_y==0)))\n",
      "    false_positive = np.count_nonzero(np.logical_and((pred==1),(validation_data_y==0)))\n",
      "    false_negtive  = np.count_nonzero(np.logical_and((pred==0),(validation_data_y==1)))\n",
      "\n",
      "    recall = float(true_positive)/(true_positive+false_negtive)\n",
      "    precision = float(true_positive)/(true_positive+false_positive)\n",
      "    f1 = recall*precision/(recall+precision)\n",
      "    error_rate = float(false_negtive + false_positive)/(validation_data_y.shape[0])\n",
      "\n",
      "    print \"Num of test data:\", validation_data_y.shape[0]\n",
      "    print \"true_positive:    %s\"%(true_positive)\n",
      "    print \"true_negtive:     %s\"%(true_negtive)\n",
      "    print \"false_positive:   %s\"%(false_positive)\n",
      "    print \"false_negtive:    %s\"%(false_negtive)\n",
      "    print \"total:            %s\"%((true_positive)+(true_negtive)+(false_positive)+(false_negtive))\n",
      "    print \"recall:           %s\"%recall\n",
      "    print \"precision:        %s\"%precision\n",
      "    print \"Error Rate        %s\"%error_rate\n",
      "    print \"Acuracy:          %s\"%(1-error_rate)"
     ],
     "language": "python",
     "metadata": {},
     "outputs": [],
     "prompt_number": 4
    },
    {
     "cell_type": "code",
     "collapsed": false,
     "input": [
      "start_time = time.time()\n",
      "clf= svm.LinearSVC(verbose =1)\n",
      "clf.fit(train_data_x, train_data_y)\n",
      "pred = clf.predict(validation_data_x)\n",
      "print \"--- %s seconds ---\" % (time.time() - start_time)"
     ],
     "language": "python",
     "metadata": {},
     "outputs": [
      {
       "output_type": "stream",
       "stream": "stdout",
       "text": [
        "[LibLinear]--- 1364.24840093 seconds ---"
       ]
      },
      {
       "output_type": "stream",
       "stream": "stdout",
       "text": [
        "\n"
       ]
      }
     ],
     "prompt_number": 5
    },
    {
     "cell_type": "code",
     "collapsed": false,
     "input": [
      "print_result(pred, validation_data_y)"
     ],
     "language": "python",
     "metadata": {},
     "outputs": [
      {
       "output_type": "stream",
       "stream": "stdout",
       "text": [
        "Num of test data: 3595\n",
        "true_positive:    1283\n",
        "true_negtive:     1239\n",
        "false_positive:   525\n",
        "false_negtive:    548\n",
        "total:            3595\n",
        "recall:           0.700709994539\n",
        "precision:        0.709623893805\n",
        "Error Rate        0.298470097357\n",
        "Acuracy:          0.701529902643\n"
       ]
      }
     ],
     "prompt_number": 6
    },
    {
     "cell_type": "code",
     "collapsed": false,
     "input": [],
     "language": "python",
     "metadata": {},
     "outputs": []
    }
   ],
   "metadata": {}
  }
 ]
}