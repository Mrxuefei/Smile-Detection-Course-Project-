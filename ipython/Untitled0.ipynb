{
 "metadata": {
  "name": "",
  "signature": "sha256:44d7489db5e2740c51a1edaf4877419752de01cbca318fd8ab06e77e3f8ddeae"
 },
 "nbformat": 3,
 "nbformat_minor": 0,
 "worksheets": [
  {
   "cells": [
    {
     "cell_type": "code",
     "collapsed": false,
     "input": [
      "from smile import *\n",
      "\n",
      "save_pickle_data()"
     ],
     "language": "python",
     "metadata": {},
     "outputs": [
      {
       "output_type": "stream",
       "stream": "stdout",
       "text": [
        "[[ 1.]\n",
        " [ 1.]\n",
        " [ 1.]\n",
        " ..., \n",
        " [ 0.]\n",
        " [ 0.]\n",
        " [ 0.]]\n"
       ]
      },
      {
       "output_type": "stream",
       "stream": "stderr",
       "text": [
        "/home/datamining/anaconda/lib/python2.7/site-packages/pandas/core/generic.py:1858: SettingWithCopyWarning: A value is trying to be set on a copy of a slice from a DataFrame.\n",
        "Try using .loc[row_index,col_indexer] = value instead\n",
        "  self[name] = value\n"
       ]
      }
     ],
     "prompt_number": 2
    },
    {
     "cell_type": "code",
     "collapsed": false,
     "input": [
      "data_x, data_y = load_smile_data()"
     ],
     "language": "python",
     "metadata": {},
     "outputs": [
      {
       "output_type": "stream",
       "stream": "stdout",
       "text": [
        "--- Load data in 68.7446758747 seconds ---\n",
        "data size is :  24189\n",
        "Positive labels:  8989\n",
        "Negtive labels:  15200\n"
       ]
      }
     ],
     "prompt_number": 3
    },
    {
     "cell_type": "code",
     "collapsed": false,
     "input": [
      "print data_x.shape, data_y.shape\n",
      "data_x = data_x.astype('uint8')\n",
      "data_y = data_y.astype('uint8')\n",
      "print data_x.dtype\n"
     ],
     "language": "python",
     "metadata": {},
     "outputs": [
      {
       "output_type": "stream",
       "stream": "stdout",
       "text": [
        "(24189, 2304) (24189, 1)\n",
        "uint8\n"
       ]
      }
     ],
     "prompt_number": 11
    },
    {
     "cell_type": "code",
     "collapsed": false,
     "input": [
      "from gabor_classifier import *\n",
      "\n",
      "img_size = 48\n",
      "\n",
      "x, y = filter_by_frontal_faces(data_x, data_y, img_size)\n",
      "filters = build_filters(img_size)\n",
      "x = apply_gabor_filters(x, img_size, filters)\n",
      "\n",
      "y = y.reshape(-1)\n",
      "start_time = time.time()\n",
      "clf= svm.LinearSVC(C=10)\n",
      "scores = cross_validation.cross_val_score(clf, x, y, cv=5)\n",
      "acuracy = scores.mean()\n",
      "print \"--- %s seconds ---\" % (time.time() - start_time)\n",
      "print \"Acuracy:          %s\"%(acuracy)"
     ],
     "language": "python",
     "metadata": {},
     "outputs": [
      {
       "output_type": "stream",
       "stream": "stdout",
       "text": [
        "data size is :  5330\n",
        "Positive labels:  2611\n",
        "Negtive labels:  2719\n",
        "--- 4184.41617584 seconds ---"
       ]
      },
      {
       "output_type": "stream",
       "stream": "stdout",
       "text": [
        "\n",
        "Acuracy:          0.814824337746\n"
       ]
      }
     ],
     "prompt_number": 12
    },
    {
     "cell_type": "code",
     "collapsed": false,
     "input": [
      "start_time = time.time()\n",
      "clf= svm.SVC(C=10)\n",
      "scores = cross_validation.cross_val_score(clf, x, y, cv=5)\n",
      "acuracy = scores.mean()\n",
      "print \"--- %s seconds ---\" % (time.time() - start_time)\n",
      "print \"Acuracy:          %s\"%(acuracy)"
     ],
     "language": "python",
     "metadata": {},
     "outputs": [
      {
       "output_type": "stream",
       "stream": "stdout",
       "text": [
        "--- 23734.8569551 seconds ---\n",
        "Acuracy:          0.582177796799\n"
       ]
      }
     ],
     "prompt_number": 13
    },
    {
     "cell_type": "code",
     "collapsed": false,
     "input": [],
     "language": "python",
     "metadata": {},
     "outputs": []
    }
   ],
   "metadata": {}
  }
 ]
}