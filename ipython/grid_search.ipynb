{
 "metadata": {
  "name": "",
  "signature": "sha256:a666f36aa7f84bb90836deb9821355101c7d83bc0273748498ecfbe2c72c1e42"
 },
 "nbformat": 3,
 "nbformat_minor": 0,
 "worksheets": [
  {
   "cells": [
    {
     "cell_type": "code",
     "collapsed": false,
     "input": [
      "%matplotlib inline\n",
      "from smile import load_smile_data\n",
      "import time\n",
      "from sklearn import svm, metrics\n",
      "import numpy as np\n",
      "import matplotlib.cm as cm\n",
      "import matplotlib.pyplot as plt\n",
      "import matplotlib.image as mpimg"
     ],
     "language": "python",
     "metadata": {},
     "outputs": [],
     "prompt_number": 1
    },
    {
     "cell_type": "code",
     "collapsed": false,
     "input": [
      "(x, y) = load_smile_data()"
     ],
     "language": "python",
     "metadata": {},
     "outputs": [
      {
       "output_type": "stream",
       "stream": "stdout",
       "text": [
        "--- Load data in 0.988554954529 seconds ---\n"
       ]
      }
     ],
     "prompt_number": 2
    },
    {
     "cell_type": "code",
     "collapsed": false,
     "input": [
      "imgs = np.ndarray((x.shape[0],14*24))\n",
      "# y = np.ndarray((x.shape[0],1))\n",
      "for i in range(x.shape[0]):\n",
      "    img = x[i]\n",
      "    img = img.reshape(48,48)\n",
      "    img = img[32:46, 12:36]\n",
      "    imgs[i] = img.reshape(-1)\n",
      "#     y[i] = data['emotion'][i]\n",
      "\n",
      "print imgs.shape"
     ],
     "language": "python",
     "metadata": {},
     "outputs": [
      {
       "output_type": "stream",
       "stream": "stdout",
       "text": [
        "(200, 336)\n"
       ]
      }
     ],
     "prompt_number": 3
    },
    {
     "cell_type": "code",
     "collapsed": false,
     "input": [
      "print imgs\n"
     ],
     "language": "python",
     "metadata": {},
     "outputs": [
      {
       "output_type": "stream",
       "stream": "stdout",
       "text": [
        "[[   0.    1.    4. ...,  104.  104.   94.]\n",
        " [ 135.  151.  146. ...,   61.   38.   12.]\n",
        " [ 168.  172.  176. ...,  139.  143.  128.]\n",
        " ..., \n",
        " [ 219.  207.  105. ...,   69.   26.   40.]\n",
        " [  75.   92.  108. ...,  213.  215.  183.]\n",
        " [ 225.  226.  228. ...,  124.  183.  106.]]\n"
       ]
      }
     ],
     "prompt_number": 4
    },
    {
     "cell_type": "code",
     "collapsed": false,
     "input": [
      "tst_num = int(0.2 * imgs.shape[0])\n",
      "\n",
      "train_data_x       = imgs[:-tst_num]\n",
      "train_data_y       = y[:-tst_num].reshape(-1)\n",
      "validation_data_x  = imgs[-tst_num:]\n",
      "validation_data_y  = y[-tst_num:].reshape(-1)\n",
      "\n",
      "# print train_data_x.shape\n",
      "# print train_data_y.shape\n",
      "# print validation_data_x.shape\n",
      "# print validation_data_y.shape\n",
      "# print np.count_nonzero(y.reshape(-1))\n",
      "# print y"
     ],
     "language": "python",
     "metadata": {},
     "outputs": [],
     "prompt_number": 5
    },
    {
     "cell_type": "code",
     "collapsed": false,
     "input": [
      "start_time = time.time()\n",
      "clf= svm.SVC()\n",
      "clf.fit(train_data_x, train_data_y)\n",
      "pred = clf.predict(validation_data_x)\n",
      "print \"--- %s seconds ---\" % (time.time() - start_time)"
     ],
     "language": "python",
     "metadata": {},
     "outputs": [
      {
       "output_type": "stream",
       "stream": "stdout",
       "text": [
        "--- 0.0338690280914 seconds ---\n"
       ]
      }
     ],
     "prompt_number": 6
    },
    {
     "cell_type": "code",
     "collapsed": false,
     "input": [
      "# print pred\n",
      "true_positive  = np.count_nonzero(np.logical_and(pred, validation_data_y))\n",
      "true_negtive   = np.count_nonzero(np.logical_and((pred==0),(validation_data_y==0)))\n",
      "false_positive = np.count_nonzero(np.logical_and((pred==1),(validation_data_y==0)))\n",
      "false_negtive  = np.count_nonzero(np.logical_and((pred==0),(validation_data_y==1)))\n",
      "\n",
      "recall = float(true_positive)/(true_positive+false_negtive)\n",
      "precision = float(true_positive)/(true_positive+false_positive)\n",
      "f1 = recall*precision/(recall+precision)\n",
      "error_rate = float(false_negtive + false_positive)/(validation_data_y.shape[0])\n",
      "\n",
      "print \"Num of test data:\", validation_data_y.shape[0]\n",
      "print \"true_positive:    %s\"%(true_positive)\n",
      "print \"true_negtive:     %s\"%(true_negtive)\n",
      "print \"false_positive:   %s\"%(false_positive)\n",
      "print \"false_negtive:    %s\"%(false_negtive)\n",
      "print \"total:            %s\"%((true_positive)+(true_negtive)+(false_positive)+(false_negtive))\n",
      "print \"recall:           %s\"%recall\n",
      "print \"precision:        %s\"%precision\n",
      "print \"Error Rate        %s\"%error_rate\n",
      "print \"Acuracy:          %s\"%(1-error_rate)"
     ],
     "language": "python",
     "metadata": {},
     "outputs": [
      {
       "ename": "ZeroDivisionError",
       "evalue": "float division by zero",
       "output_type": "pyerr",
       "traceback": [
        "\u001b[1;31m---------------------------------------------------------------------------\u001b[0m\n\u001b[1;31mZeroDivisionError\u001b[0m                         Traceback (most recent call last)",
        "\u001b[1;32m<ipython-input-7-2afa0e8b56c0>\u001b[0m in \u001b[0;36m<module>\u001b[1;34m()\u001b[0m\n\u001b[0;32m      6\u001b[0m \u001b[1;33m\u001b[0m\u001b[0m\n\u001b[0;32m      7\u001b[0m \u001b[0mrecall\u001b[0m \u001b[1;33m=\u001b[0m \u001b[0mfloat\u001b[0m\u001b[1;33m(\u001b[0m\u001b[0mtrue_positive\u001b[0m\u001b[1;33m)\u001b[0m\u001b[1;33m/\u001b[0m\u001b[1;33m(\u001b[0m\u001b[0mtrue_positive\u001b[0m\u001b[1;33m+\u001b[0m\u001b[0mfalse_negtive\u001b[0m\u001b[1;33m)\u001b[0m\u001b[1;33m\u001b[0m\u001b[0m\n\u001b[1;32m----> 8\u001b[1;33m \u001b[0mprecision\u001b[0m \u001b[1;33m=\u001b[0m \u001b[0mfloat\u001b[0m\u001b[1;33m(\u001b[0m\u001b[0mtrue_positive\u001b[0m\u001b[1;33m)\u001b[0m\u001b[1;33m/\u001b[0m\u001b[1;33m(\u001b[0m\u001b[0mtrue_positive\u001b[0m\u001b[1;33m+\u001b[0m\u001b[0mfalse_positive\u001b[0m\u001b[1;33m)\u001b[0m\u001b[1;33m\u001b[0m\u001b[0m\n\u001b[0m\u001b[0;32m      9\u001b[0m \u001b[0mf1\u001b[0m \u001b[1;33m=\u001b[0m \u001b[0mrecall\u001b[0m\u001b[1;33m*\u001b[0m\u001b[0mprecision\u001b[0m\u001b[1;33m/\u001b[0m\u001b[1;33m(\u001b[0m\u001b[0mrecall\u001b[0m\u001b[1;33m+\u001b[0m\u001b[0mprecision\u001b[0m\u001b[1;33m)\u001b[0m\u001b[1;33m\u001b[0m\u001b[0m\n\u001b[0;32m     10\u001b[0m \u001b[0merror_rate\u001b[0m \u001b[1;33m=\u001b[0m \u001b[0mfloat\u001b[0m\u001b[1;33m(\u001b[0m\u001b[0mfalse_negtive\u001b[0m \u001b[1;33m+\u001b[0m \u001b[0mfalse_positive\u001b[0m\u001b[1;33m)\u001b[0m\u001b[1;33m/\u001b[0m\u001b[1;33m(\u001b[0m\u001b[0mvalidation_data_y\u001b[0m\u001b[1;33m.\u001b[0m\u001b[0mshape\u001b[0m\u001b[1;33m[\u001b[0m\u001b[1;36m0\u001b[0m\u001b[1;33m]\u001b[0m\u001b[1;33m)\u001b[0m\u001b[1;33m\u001b[0m\u001b[0m\n",
        "\u001b[1;31mZeroDivisionError\u001b[0m: float division by zero"
       ]
      }
     ],
     "prompt_number": 7
    },
    {
     "cell_type": "code",
     "collapsed": false,
     "input": [
      "from sklearn import svm, grid_search\n",
      "print(__doc__)\n",
      "\n",
      "import numpy as np\n",
      "\n",
      "from time import time\n",
      "from operator import itemgetter\n",
      "from scipy.stats import randint as sp_randint\n",
      "\n",
      "from sklearn.grid_search import GridSearchCV, RandomizedSearchCV\n",
      "from sklearn.datasets import load_digits\n",
      "from sklearn.ensemble import RandomForestClassifier\n",
      "\n",
      "# use a full grid over all parameters\n",
      "# param_grid = {'kernel':('linear', 'rbf'), \n",
      "#               'C':[0.1, 1, 10]\n",
      "#              }\n",
      "\n",
      "# Utility function to report best scores\n",
      "def report(grid_scores, n_top=5):\n",
      "    top_scores = sorted(grid_scores, key=itemgetter(1), reverse=True)[:n_top]\n",
      "    for i, score in enumerate(top_scores):\n",
      "        print(\"Model with rank: {0}\".format(i + 1))\n",
      "        print(\"Mean validation score: {0:.3f} (std: {1:.3f})\".format(\n",
      "              score.mean_validation_score,\n",
      "              np.std(score.cv_validation_scores)))\n",
      "        print(\"Parameters: {0}\".format(score.parameters))\n",
      "        print(\"\")\n",
      "\n",
      "param_grid = [\n",
      "  {'C': [1, 10, 100, 1000], 'kernel': ['linear']},\n",
      "  {'C': [1, 10, 100, 1000], 'gamma': [0.001, 0.0001], 'kernel': ['rbf']},\n",
      " ]\n",
      "\n",
      "# run grid search\n",
      "svr = svm.SVC(cache_size=1000)\n",
      "grid_search = GridSearchCV(svr, param_grid=param_grid, n_jobs=8)\n",
      "start = time()\n",
      "grid_search.fit(train_data_x, train_data_y)\n",
      "\n",
      "print(\"GridSearchCV took %.2f seconds for %d candidate parameter settings.\"\n",
      "      % (time() - start, len(grid_search.grid_scores_)))\n",
      "report(grid_search.grid_scores_)"
     ],
     "language": "python",
     "metadata": {},
     "outputs": [
      {
       "output_type": "stream",
       "stream": "stdout",
       "text": [
        "Automatically created module for IPython interactive environment\n"
       ]
      },
      {
       "output_type": "stream",
       "stream": "stdout",
       "text": [
        "GridSearchCV took 0.45 seconds for 12 candidate parameter settings.\n",
        "Model with rank: 1\n",
        "Mean validation score: 0.713 (std: 0.037)\n",
        "Parameters: {'kernel': 'linear', 'C': 1}\n",
        "\n",
        "Model with rank: 2\n",
        "Mean validation score: 0.713 (std: 0.037)\n",
        "Parameters: {'kernel': 'linear', 'C': 10}\n",
        "\n",
        "Model with rank: 3\n",
        "Mean validation score: 0.713 (std: 0.037)\n",
        "Parameters: {'kernel': 'linear', 'C': 100}\n",
        "\n",
        "Model with rank: 4\n",
        "Mean validation score: 0.713 (std: 0.037)\n",
        "Parameters: {'kernel': 'linear', 'C': 1000}\n",
        "\n",
        "Model with rank: 5\n",
        "Mean validation score: 0.506 (std: 0.004)\n",
        "Parameters: {'kernel': 'rbf', 'C': 1, 'gamma': 0.001}\n",
        "\n"
       ]
      }
     ],
     "prompt_number": 10
    },
    {
     "cell_type": "code",
     "collapsed": false,
     "input": [],
     "language": "python",
     "metadata": {},
     "outputs": []
    },
    {
     "cell_type": "code",
     "collapsed": false,
     "input": [],
     "language": "python",
     "metadata": {},
     "outputs": []
    }
   ],
   "metadata": {}
  }
 ]
}