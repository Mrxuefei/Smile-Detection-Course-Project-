{
 "metadata": {
  "name": "",
  "signature": "sha256:43d91ba4218bb75696e1a0e55cc5f5ed8d4b367cad6e2aa1c47696fe67b7427d"
 },
 "nbformat": 3,
 "nbformat_minor": 0,
 "worksheets": [
  {
   "cells": [
    {
     "cell_type": "code",
     "collapsed": false,
     "input": [
      "%matplotlib inline\n",
      "import numpy as np\n",
      "import matplotlib.pyplot as plt\n",
      "import theano\n",
      "# By convention, the tensor submodule is loaded as T\n",
      "import theano.tensor as T"
     ],
     "language": "python",
     "metadata": {},
     "outputs": [],
     "prompt_number": 1
    },
    {
     "cell_type": "code",
     "collapsed": false,
     "input": [
      "# The theano.tensor submodule has various primitive symbolic variable types.\n",
      "# Here, we're defining a scalar (0-d) variable.\n",
      "# The argument gives the variable its name.\n",
      "foo = T.scalar('foo')\n",
      "# Now, we can define another variable bar which is just foo squared.\n",
      "bar = foo**2\n",
      "# It will also be a theano variable.\n",
      "print type(bar)\n",
      "print bar.type\n",
      "# Using theano's pp (pretty print) function, we see that \n",
      "# bar is defined symbolically as the square of foo\n",
      "print theano.pp(bar)"
     ],
     "language": "python",
     "metadata": {},
     "outputs": [
      {
       "output_type": "stream",
       "stream": "stdout",
       "text": [
        "<class 'theano.tensor.var.TensorVariable'>\n",
        "TensorType(float64, scalar)\n",
        "(foo ** TensorConstant{2})\n"
       ]
      }
     ],
     "prompt_number": 2
    },
    {
     "cell_type": "code",
     "collapsed": false,
     "input": [
      "f = theano.function([foo], bar)\n",
      "print f(3)"
     ],
     "language": "python",
     "metadata": {},
     "outputs": [
      {
       "output_type": "stream",
       "stream": "stdout",
       "text": [
        "9.0\n"
       ]
      }
     ],
     "prompt_number": 3
    },
    {
     "cell_type": "code",
     "collapsed": false,
     "input": [
      "#IPython is what you are using now to run the notebook\n",
      "import IPython\n",
      "print \"IPython version:      %6.6s (need at least 2.1.0)\" % IPython.__version__\n",
      "\n",
      "# Numpy is a library for working with Arrays\n",
      "import numpy as np\n",
      "print \"Numpy version:        %6.6s (need at least 1.8.1)\" % np.__version__\n",
      "\n",
      "# SciPy implements many different numerical algorithms\n",
      "import scipy as sp\n",
      "print \"SciPy version:        %6.6s (need at least 0.14.0)\" % sp.__version__\n",
      "\n",
      "# Pandas makes working with data tables easier\n",
      "import pandas as pd\n",
      "print \"Pandas version:       %6.6s (need at least 0.14.0)\" % pd.__version__\n",
      "\n",
      "# Module for plotting\n",
      "import matplotlib\n",
      "print \"Mapltolib version:    %6.6s (need at least 1.3.1)\" % matplotlib.__version__\n",
      "\n",
      "# SciKit Learn implements several Machine Learning algorithms\n",
      "import sklearn\n",
      "print \"Scikit-Learn version: %6.6s (need at least 0.14.1)\" % sklearn.__version__\n",
      "\n",
      "# Requests is a library for getting data from the Web\n",
      "import requests\n",
      "print \"requests version:     %6.6s (need at least 2.3.0)\" % requests.__version__\n",
      "\n",
      "# Networkx is a library for working with networks\n",
      "import networkx as nx\n",
      "print \"NetworkX version:     %6.6s (need at least 1.8.1)\" % nx.__version__\n",
      "\n",
      "#BeautifulSoup is a library to parse HTML and XML documents\n",
      "import bs4\n",
      "print \"BeautifulSoup version:%6.6s (need at least 4.0)\" % bs4.__version__\n",
      "\n",
      "#MrJob is a library to run map reduce jobs on Amazon's computers\n",
      "import mrjob\n",
      "print \"Mr Job version:       %6.6s (need at least 0.4.2)\" % mrjob.__version__\n",
      "\n",
      "#Pattern has lots of tools for working with data from the internet\n",
      "import pattern\n",
      "print \"Pattern version:      %6.6s (need at least 2.6)\" % pattern.__version__"
     ],
     "language": "python",
     "metadata": {},
     "outputs": [
      {
       "output_type": "stream",
       "stream": "stdout",
       "text": [
        "IPython version:       2.3.1 (need at least 2.1.0)\n",
        "Numpy version:         1.9.1 (need at least 1.8.1)\n",
        "SciPy version:        0.14.0 (need at least 0.14.0)\n",
        "Pandas version:       0.15.1 (need at least 0.14.0)"
       ]
      },
      {
       "output_type": "stream",
       "stream": "stdout",
       "text": [
        "\n",
        "Mapltolib version:     1.4.0 (need at least 1.3.1)\n",
        "Scikit-Learn version: 0.15.2 (need at least 0.14.1)\n",
        "requests version:      2.4.3 (need at least 2.3.0)"
       ]
      },
      {
       "output_type": "stream",
       "stream": "stdout",
       "text": [
        "\n",
        "NetworkX version:      1.9.1 (need at least 1.8.1)"
       ]
      },
      {
       "output_type": "stream",
       "stream": "stdout",
       "text": [
        "\n",
        "BeautifulSoup version: 4.3.2 (need at least 4.0)\n",
        "Mr Job version:        0.4.2 (need at least 0.4.2)\n",
        "Pattern version:         2.6 (need at least 2.6)\n"
       ]
      }
     ],
     "prompt_number": 4
    },
    {
     "cell_type": "code",
     "collapsed": false,
     "input": [
      "#this line prepares IPython for working with matplotlib\n",
      "%matplotlib inline  \n",
      "\n",
      "# this actually imports matplotlib\n",
      "import matplotlib.pyplot as plt  \n",
      "\n",
      "x = np.linspace(0, 10, 30)  #array of 30 points from 0 to 10\n",
      "y = np.sin(x)\n",
      "z = y + np.random.normal(size=30) * .2\n",
      "plt.plot(x, y, 'ro-', label='A sine wave')\n",
      "plt.plot(x, z, 'b-', label='Noisy sine')\n",
      "plt.legend(loc = 'lower right')\n",
      "plt.xlabel(\"X axis\")\n",
      "plt.ylabel(\"Y axis\") "
     ],
     "language": "python",
     "metadata": {},
     "outputs": [
      {
       "metadata": {},
       "output_type": "pyout",
       "prompt_number": 5,
       "text": [
        "<matplotlib.text.Text at 0x10a656350>"
       ]
      },
      {
       "metadata": {},
       "output_type": "display_data",
       "png": "[encoded data removed]",
       "text": [
        "<matplotlib.figure.Figure at 0x10a5fd550>"
       ]
      }
     ],
     "prompt_number": 5
    },
    {
     "cell_type": "code",
     "collapsed": false,
     "input": [
      "print \"Make a 3 row x 4 column array of random numbers\"\n",
      "x = np.random.random((3, 4))\n",
      "print x\n",
      "print\n",
      "\n",
      "print \"Add 1 to every element\"\n",
      "x = x + 1\n",
      "print x\n",
      "print\n",
      "\n",
      "print \"Get the element at row 1, column 2\"\n",
      "print x[1, 2]\n",
      "print\n",
      "\n",
      "# The colon syntax is called \"slicing\" the array. \n",
      "print \"Get the first row\"\n",
      "print x[0, :]\n",
      "print\n",
      "\n",
      "print \"Get every 2nd column of the first row\"\n",
      "print x[0, ::2]\n",
      "print"
     ],
     "language": "python",
     "metadata": {},
     "outputs": [
      {
       "output_type": "stream",
       "stream": "stdout",
       "text": [
        "Make a 3 row x 4 column array of random numbers\n",
        "[[ 0.34699785  0.95569072  0.27078124  0.81646344]\n",
        " [ 0.71045091  0.28232146  0.99049696  0.97160222]\n",
        " [ 0.21162417  0.60253549  0.26263331  0.1025153 ]]\n",
        "\n",
        "Add 1 to every element\n",
        "[[ 1.34699785  1.95569072  1.27078124  1.81646344]\n",
        " [ 1.71045091  1.28232146  1.99049696  1.97160222]\n",
        " [ 1.21162417  1.60253549  1.26263331  1.1025153 ]]\n",
        "\n",
        "Get the element at row 1, column 2\n",
        "1.99049695662\n",
        "\n",
        "Get the first row\n",
        "[ 1.34699785  1.95569072  1.27078124  1.81646344]\n",
        "\n",
        "Get every 2nd column of the first row\n",
        "[ 1.34699785  1.27078124]\n",
        "\n"
       ]
      }
     ],
     "prompt_number": 5
    },
    {
     "cell_type": "code",
     "collapsed": false,
     "input": [
      "x = np.random.binomial(500, .5)\n",
      "print \"number of heads:\", x"
     ],
     "language": "python",
     "metadata": {},
     "outputs": [
      {
       "output_type": "stream",
       "stream": "stdout",
       "text": [
        "number of heads: 253\n"
       ]
      }
     ],
     "prompt_number": 6
    },
    {
     "cell_type": "code",
     "collapsed": false,
     "input": [
      "#your code here\n",
      "\n",
      "# 3 ways to run the simulations\n",
      "\n",
      "# loop\n",
      "heads = []\n",
      "for i in range(500):\n",
      "    heads.append(np.random.binomial(500, .5))\n",
      "\n",
      "# \"list comprehension\"\n",
      "heads = [np.random.binomial(500, .5) for i in range(500)]\n",
      "\n",
      "# pure numpy\n",
      "heads = np.random.binomial(500, .5, size=500)\n",
      "\n",
      "histogram = plt.hist(heads, bins=10)"
     ],
     "language": "python",
     "metadata": {},
     "outputs": [
      {
       "metadata": {},
       "output_type": "display_data",
       "png": "[encoded data removed]",
       "text": [
        "<matplotlib.figure.Figure at 0x7f6ab3b54110>"
       ]
      }
     ],
     "prompt_number": 7
    },
    {
     "cell_type": "code",
     "collapsed": false,
     "input": [
      "%matplotlib inline \n",
      "\n",
      "import numpy as np\n",
      "import pandas as pd\n",
      "import matplotlib.pyplot as plt\n",
      "\n",
      "# For this assignment, we need to load in the following modules\n",
      "import requests\n",
      "import StringIO\n",
      "import zipfile\n",
      "import scipy.stats "
     ],
     "language": "python",
     "metadata": {},
     "outputs": [],
     "prompt_number": 7
    },
    {
     "cell_type": "code",
     "collapsed": false,
     "input": [
      "imgs = pd.read_csv('smile_data.csv', header=None)\n",
      "print  imgs.shape"
     ],
     "language": "python",
     "metadata": {},
     "outputs": [
      {
       "output_type": "stream",
       "stream": "stdout",
       "text": [
        "(28709, 2304)\n"
       ]
      }
     ],
     "prompt_number": 8
    },
    {
     "cell_type": "code",
     "collapsed": false,
     "input": [
      "labels = pd.read_csv('labels.csv', header=None)\n",
      "\n"
     ],
     "language": "python",
     "metadata": {},
     "outputs": [],
     "prompt_number": 9
    },
    {
     "cell_type": "code",
     "collapsed": false,
     "input": [
      "imgs.head()\n"
     ],
     "language": "python",
     "metadata": {},
     "outputs": [
      {
       "html": [
        "<div style=\"max-height:1000px;max-width:1500px;overflow:auto;\">\n",
        "<table border=\"1\" class=\"dataframe\">\n",
        "  <thead>\n",
        "    <tr style=\"text-align: right;\">\n",
        "      <th></th>\n",
        "      <th>0</th>\n",
        "      <th>1</th>\n",
        "      <th>2</th>\n",
        "      <th>3</th>\n",
        "      <th>4</th>\n",
        "      <th>5</th>\n",
        "      <th>6</th>\n",
        "      <th>7</th>\n",
        "      <th>8</th>\n",
        "      <th>9</th>\n",
        "      <th>...</th>\n",
        "      <th>2294</th>\n",
        "      <th>2295</th>\n",
        "      <th>2296</th>\n",
        "      <th>2297</th>\n",
        "      <th>2298</th>\n",
        "      <th>2299</th>\n",
        "      <th>2300</th>\n",
        "      <th>2301</th>\n",
        "      <th>2302</th>\n",
        "      <th>2303</th>\n",
        "    </tr>\n",
        "  </thead>\n",
        "  <tbody>\n",
        "    <tr>\n",
        "      <th>0</th>\n",
        "      <td>  70</td>\n",
        "      <td>  80</td>\n",
        "      <td>  82</td>\n",
        "      <td>  72</td>\n",
        "      <td>  58</td>\n",
        "      <td>  58</td>\n",
        "      <td>  60</td>\n",
        "      <td>  63</td>\n",
        "      <td>  54</td>\n",
        "      <td>  58</td>\n",
        "      <td>...</td>\n",
        "      <td> 159</td>\n",
        "      <td> 182</td>\n",
        "      <td> 183</td>\n",
        "      <td> 136</td>\n",
        "      <td> 106</td>\n",
        "      <td> 116</td>\n",
        "      <td>  95</td>\n",
        "      <td> 106</td>\n",
        "      <td> 109</td>\n",
        "      <td>  82</td>\n",
        "    </tr>\n",
        "    <tr>\n",
        "      <th>1</th>\n",
        "      <td> 151</td>\n",
        "      <td> 150</td>\n",
        "      <td> 147</td>\n",
        "      <td> 155</td>\n",
        "      <td> 148</td>\n",
        "      <td> 133</td>\n",
        "      <td> 111</td>\n",
        "      <td> 140</td>\n",
        "      <td> 170</td>\n",
        "      <td> 174</td>\n",
        "      <td>...</td>\n",
        "      <td> 105</td>\n",
        "      <td> 108</td>\n",
        "      <td>  95</td>\n",
        "      <td> 108</td>\n",
        "      <td> 102</td>\n",
        "      <td>  67</td>\n",
        "      <td> 171</td>\n",
        "      <td> 193</td>\n",
        "      <td> 183</td>\n",
        "      <td> 184</td>\n",
        "    </tr>\n",
        "    <tr>\n",
        "      <th>2</th>\n",
        "      <td> 231</td>\n",
        "      <td> 212</td>\n",
        "      <td> 156</td>\n",
        "      <td> 164</td>\n",
        "      <td> 174</td>\n",
        "      <td> 138</td>\n",
        "      <td> 161</td>\n",
        "      <td> 173</td>\n",
        "      <td> 182</td>\n",
        "      <td> 200</td>\n",
        "      <td>...</td>\n",
        "      <td> 104</td>\n",
        "      <td> 138</td>\n",
        "      <td> 152</td>\n",
        "      <td> 122</td>\n",
        "      <td> 114</td>\n",
        "      <td> 101</td>\n",
        "      <td>  97</td>\n",
        "      <td>  88</td>\n",
        "      <td> 110</td>\n",
        "      <td> 152</td>\n",
        "    </tr>\n",
        "    <tr>\n",
        "      <th>3</th>\n",
        "      <td>  24</td>\n",
        "      <td>  32</td>\n",
        "      <td>  36</td>\n",
        "      <td>  30</td>\n",
        "      <td>  32</td>\n",
        "      <td>  23</td>\n",
        "      <td>  19</td>\n",
        "      <td>  20</td>\n",
        "      <td>  30</td>\n",
        "      <td>  41</td>\n",
        "      <td>...</td>\n",
        "      <td> 174</td>\n",
        "      <td> 126</td>\n",
        "      <td> 132</td>\n",
        "      <td> 132</td>\n",
        "      <td> 133</td>\n",
        "      <td> 136</td>\n",
        "      <td> 139</td>\n",
        "      <td> 142</td>\n",
        "      <td> 143</td>\n",
        "      <td> 142</td>\n",
        "    </tr>\n",
        "    <tr>\n",
        "      <th>4</th>\n",
        "      <td>   4</td>\n",
        "      <td>   0</td>\n",
        "      <td>   0</td>\n",
        "      <td>   0</td>\n",
        "      <td>   0</td>\n",
        "      <td>   0</td>\n",
        "      <td>   0</td>\n",
        "      <td>   0</td>\n",
        "      <td>   0</td>\n",
        "      <td>   0</td>\n",
        "      <td>...</td>\n",
        "      <td>  12</td>\n",
        "      <td>  34</td>\n",
        "      <td>  31</td>\n",
        "      <td>  31</td>\n",
        "      <td>  31</td>\n",
        "      <td>  27</td>\n",
        "      <td>  31</td>\n",
        "      <td>  30</td>\n",
        "      <td>  29</td>\n",
        "      <td>  30</td>\n",
        "    </tr>\n",
        "  </tbody>\n",
        "</table>\n",
        "<p>5 rows \u00d7 2304 columns</p>\n",
        "</div>"
       ],
       "metadata": {},
       "output_type": "pyout",
       "prompt_number": 10,
       "text": [
        "   0     1     2     3     4     5     6     7     8     9     ...   2294  \\\n",
        "0    70    80    82    72    58    58    60    63    54    58  ...    159   \n",
        "1   151   150   147   155   148   133   111   140   170   174  ...    105   \n",
        "2   231   212   156   164   174   138   161   173   182   200  ...    104   \n",
        "3    24    32    36    30    32    23    19    20    30    41  ...    174   \n",
        "4     4     0     0     0     0     0     0     0     0     0  ...     12   \n",
        "\n",
        "   2295  2296  2297  2298  2299  2300  2301  2302  2303  \n",
        "0   182   183   136   106   116    95   106   109    82  \n",
        "1   108    95   108   102    67   171   193   183   184  \n",
        "2   138   152   122   114   101    97    88   110   152  \n",
        "3   126   132   132   133   136   139   142   143   142  \n",
        "4    34    31    31    31    27    31    30    29    30  \n",
        "\n",
        "[5 rows x 2304 columns]"
       ]
      }
     ],
     "prompt_number": 10
    },
    {
     "cell_type": "code",
     "collapsed": false,
     "input": [
      "import matplotlib.image as mpimg\n",
      "import matplotlib.pyplot as plt\n"
     ],
     "language": "python",
     "metadata": {},
     "outputs": [],
     "prompt_number": 11
    },
    {
     "cell_type": "code",
     "collapsed": false,
     "input": [
      "import matplotlib.cm as cm\n",
      "type(imgs)\n",
      "img = imgs.iloc[[11]]\n",
      "print img.shape\n",
      "img = img.values.reshape(48,48)\n",
      "#print img.shape((48,48))\n",
      "imglopt = plt.imshow(img,cmap = cm.Greys_r)"
     ],
     "language": "python",
     "metadata": {},
     "outputs": [
      {
       "output_type": "stream",
       "stream": "stdout",
       "text": [
        "(1, 2304)\n"
       ]
      },
      {
       "metadata": {},
       "output_type": "display_data",
       "png": "[encoded data removed]",
       "text": [
        "<matplotlib.figure.Figure at 0x10a731390>"
       ]
      }
     ],
     "prompt_number": 12
    },
    {
     "cell_type": "code",
     "collapsed": false,
     "input": [
      "type(imgs)"
     ],
     "language": "python",
     "metadata": {},
     "outputs": [
      {
       "metadata": {},
       "output_type": "pyout",
       "prompt_number": 13,
       "text": [
        "pandas.core.frame.DataFrame"
       ]
      }
     ],
     "prompt_number": 13
    },
    {
     "cell_type": "code",
     "collapsed": false,
     "input": [
      "l = labels == 3\n",
      "\n",
      "\n",
      "print l.shape"
     ],
     "language": "python",
     "metadata": {},
     "outputs": [
      {
       "output_type": "stream",
       "stream": "stdout",
       "text": [
        "(28709, 1)\n"
       ]
      }
     ],
     "prompt_number": 14
    },
    {
     "cell_type": "code",
     "collapsed": false,
     "input": [
      "d = imgs[l.values]\n",
      "print d.shape"
     ],
     "language": "python",
     "metadata": {},
     "outputs": [
      {
       "output_type": "stream",
       "stream": "stdout",
       "text": [
        "(7215, 2304)\n"
       ]
      }
     ],
     "prompt_number": 15
    },
    {
     "cell_type": "code",
     "collapsed": false,
     "input": [
      "import pylab\n",
      "\n",
      "images = []\n",
      "f = pylab.figure()\n",
      "# subplots\n",
      "for i in range(1):\n",
      "    img = d.iloc[[i]].values.reshape(48,48)\n",
      "    f.add_subplot(1, 1, i)\n",
      "#     plt.figure(figsize=(3, 3)) \n",
      "    plt.axis('off')\n",
      "    plt.grid()\n",
      "    plt.imshow(img, cmap=cm.Greys_r)\n",
      "    plt.show()\n",
      "\n"
     ],
     "language": "python",
     "metadata": {},
     "outputs": [
      {
       "metadata": {},
       "output_type": "display_data",
       "png": "[encoded data removed]",
       "text": [
        "<matplotlib.figure.Figure at 0x10b631fd0>"
       ]
      }
     ],
     "prompt_number": 21
    },
    {
     "cell_type": "code",
     "collapsed": false,
     "input": [
      "imgs.shape"
     ],
     "language": "python",
     "metadata": {},
     "outputs": [
      {
       "metadata": {},
       "output_type": "pyout",
       "prompt_number": 166,
       "text": [
        "(28709, 2304)"
       ]
      }
     ],
     "prompt_number": 166
    },
    {
     "cell_type": "code",
     "collapsed": false,
     "input": [
      "\n",
      "print train_data_x.shape, train_data_y.shape, test_data.shape"
     ],
     "language": "python",
     "metadata": {},
     "outputs": [
      {
       "output_type": "stream",
       "stream": "stdout",
       "text": [
        "(8000, 2304) (8000,) (5708, 2304)\n"
       ]
      }
     ],
     "prompt_number": 42
    },
    {
     "cell_type": "code",
     "collapsed": false,
     "input": [
      "from numpy import loadtxt, zeros, ones, array, linspace, logspace\n",
      "\n",
      "theta = zeros(shape=(18000, 2304))\n",
      "print theta.shape"
     ],
     "language": "python",
     "metadata": {},
     "outputs": [
      {
       "output_type": "stream",
       "stream": "stdout",
       "text": [
        "(18000, 2304)\n"
       ]
      }
     ],
     "prompt_number": 36
    },
    {
     "cell_type": "code",
     "collapsed": false,
     "input": [],
     "language": "python",
     "metadata": {},
     "outputs": [],
     "prompt_number": 23
    },
    {
     "cell_type": "code",
     "collapsed": false,
     "input": [],
     "language": "python",
     "metadata": {},
     "outputs": [
      {
       "output_type": "stream",
       "stream": "stdout",
       "text": [
        "('Coefficients: \\n', array([[ -4.75365353e-05,   1.71730132e-03,   1.81228302e-03, ...,\n",
        "          8.00203276e-03,   4.66307620e-05,  -5.29568237e-03]]))\n"
       ]
      }
     ],
     "prompt_number": 176
    },
    {
     "cell_type": "code",
     "collapsed": false,
     "input": [
      "import time\n",
      "from sklearn import svm\n",
      "\n",
      "train_data_x = imgs[0:18000]\n",
      "train_data_y = l[0:18000].values.reshape(18000,)\n",
      "validation_data_x = imgs[18001:23000]\n",
      "validation_data_y = l[18001:23000].values.reshape(4999,)\n",
      "test_data = imgs[23001:28709]\n",
      "\n",
      "start_time = time.time()\n",
      "clf= svm.SVC()\n",
      "clf.fit(train_data_x, train_data_y)\n",
      "print \"--- %s seconds ---\" % (time.time() - start_time)"
     ],
     "language": "python",
     "metadata": {},
     "outputs": [
      {
       "output_type": "stream",
       "stream": "stdout",
       "text": [
        "--- 3340.7425611 seconds ---\n"
       ]
      }
     ],
     "prompt_number": 51
    },
    {
     "cell_type": "code",
     "collapsed": false,
     "input": [
      "pre = clf.predict(validation_data_x)"
     ],
     "language": "python",
     "metadata": {},
     "outputs": [],
     "prompt_number": 52
    },
    {
     "cell_type": "code",
     "collapsed": false,
     "input": [
      "import collections\n",
      "countStates = collections.Counter(pre)\n",
      "print countStates\n"
     ],
     "language": "python",
     "metadata": {},
     "outputs": [
      {
       "output_type": "stream",
       "stream": "stdout",
       "text": [
        "Counter({False: 4984, True: 15})\n"
       ]
      }
     ],
     "prompt_number": 46
    },
    {
     "cell_type": "code",
     "collapsed": false,
     "input": [
      "r = pre == validation_data_y "
     ],
     "language": "python",
     "metadata": {},
     "outputs": [],
     "prompt_number": 47
    },
    {
     "cell_type": "code",
     "collapsed": false,
     "input": [
      "countStates = collections.Counter(r)\n",
      "print countStates"
     ],
     "language": "python",
     "metadata": {},
     "outputs": [
      {
       "output_type": "stream",
       "stream": "stdout",
       "text": [
        "Counter({True: 3720, False: 1279})\n"
       ]
      }
     ],
     "prompt_number": 49
    },
    {
     "cell_type": "code",
     "collapsed": false,
     "input": [
      "print collections.Counter(validation_data_y)"
     ],
     "language": "python",
     "metadata": {},
     "outputs": [
      {
       "output_type": "stream",
       "stream": "stdout",
       "text": [
        "Counter({False: 3705, True: 1294})\n"
       ]
      }
     ],
     "prompt_number": 50
    },
    {
     "cell_type": "code",
     "collapsed": false,
     "input": [
      "from sklearn.metrics import accuracy_score\n",
      "print validation_data_y.shape, pre.shape\n",
      "accuracy_score(validation_data_y, pre)"
     ],
     "language": "python",
     "metadata": {},
     "outputs": []
    }
   ],
   "metadata": {}
  }
 ]
}